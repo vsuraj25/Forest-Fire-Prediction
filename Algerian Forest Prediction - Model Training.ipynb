{
 "cells": [
  {
   "cell_type": "markdown",
   "id": "d8a51e95",
   "metadata": {},
   "source": [
    "# <center>Model Training and Evaluation</center>"
   ]
  },
  {
   "cell_type": "markdown",
   "id": "fc6a876d",
   "metadata": {},
   "source": [
    "# A) Regression"
   ]
  },
  {
   "cell_type": "markdown",
   "id": "6a34bdda",
   "metadata": {},
   "source": [
    "<h3> 1. Importing Libraries</h3>"
   ]
  },
  {
   "cell_type": "code",
   "execution_count": 134,
   "id": "7bedc6e6",
   "metadata": {},
   "outputs": [],
   "source": [
    "import pandas as pd\n",
    "import numpy as np\n",
    "import matplotlib.pyplot as plt\n",
    "import seaborn as sns\n",
    "from sklearn.linear_model import LinearRegression, Ridge, Lasso, ElasticNet\n",
    "from sklearn.neighbors import KNeighborsRegressor\n",
    "from sklearn.ensemble import RandomForestRegressor\n",
    "from sklearn.svm import SVR\n",
    "from xgboost import XGBRegressor\n",
    "from sklearn.metrics import mean_absolute_error, r2_score\n",
    "from sklearn.model_selection import train_test_split\n",
    "from sklearn.preprocessing import StandardScaler\n",
    "from sklearn.model_selection import GridSearchCV,RandomizedSearchCV"
   ]
  },
  {
   "cell_type": "markdown",
   "id": "cdb2e55f",
   "metadata": {},
   "source": [
    "<h3> 2. Train Test Split </h3>"
   ]
  },
  {
   "cell_type": "code",
   "execution_count": 135,
   "id": "65c99e65",
   "metadata": {},
   "outputs": [],
   "source": [
    "linear_data = pd.read_csv('linear_data_cleaned.csv')"
   ]
  },
  {
   "cell_type": "code",
   "execution_count": 136,
   "id": "ea6c56cc",
   "metadata": {},
   "outputs": [
    {
     "data": {
      "text/html": [
       "<div>\n",
       "<style scoped>\n",
       "    .dataframe tbody tr th:only-of-type {\n",
       "        vertical-align: middle;\n",
       "    }\n",
       "\n",
       "    .dataframe tbody tr th {\n",
       "        vertical-align: top;\n",
       "    }\n",
       "\n",
       "    .dataframe thead th {\n",
       "        text-align: right;\n",
       "    }\n",
       "</style>\n",
       "<table border=\"1\" class=\"dataframe\">\n",
       "  <thead>\n",
       "    <tr style=\"text-align: right;\">\n",
       "      <th></th>\n",
       "      <th>Temperature</th>\n",
       "      <th>RH</th>\n",
       "      <th>Ws</th>\n",
       "      <th>Rain</th>\n",
       "      <th>FFMC</th>\n",
       "      <th>DMC</th>\n",
       "      <th>ISI</th>\n",
       "    </tr>\n",
       "  </thead>\n",
       "  <tbody>\n",
       "    <tr>\n",
       "      <th>0</th>\n",
       "      <td>29</td>\n",
       "      <td>57</td>\n",
       "      <td>18</td>\n",
       "      <td>0.0</td>\n",
       "      <td>65.7</td>\n",
       "      <td>3.4</td>\n",
       "      <td>1.3</td>\n",
       "    </tr>\n",
       "    <tr>\n",
       "      <th>1</th>\n",
       "      <td>29</td>\n",
       "      <td>61</td>\n",
       "      <td>13</td>\n",
       "      <td>1.3</td>\n",
       "      <td>64.4</td>\n",
       "      <td>4.1</td>\n",
       "      <td>1.0</td>\n",
       "    </tr>\n",
       "    <tr>\n",
       "      <th>2</th>\n",
       "      <td>26</td>\n",
       "      <td>82</td>\n",
       "      <td>22</td>\n",
       "      <td>13.1</td>\n",
       "      <td>47.1</td>\n",
       "      <td>2.5</td>\n",
       "      <td>0.3</td>\n",
       "    </tr>\n",
       "    <tr>\n",
       "      <th>3</th>\n",
       "      <td>25</td>\n",
       "      <td>89</td>\n",
       "      <td>13</td>\n",
       "      <td>2.5</td>\n",
       "      <td>28.6</td>\n",
       "      <td>1.3</td>\n",
       "      <td>0.0</td>\n",
       "    </tr>\n",
       "    <tr>\n",
       "      <th>4</th>\n",
       "      <td>27</td>\n",
       "      <td>77</td>\n",
       "      <td>16</td>\n",
       "      <td>0.0</td>\n",
       "      <td>64.8</td>\n",
       "      <td>3.0</td>\n",
       "      <td>1.2</td>\n",
       "    </tr>\n",
       "    <tr>\n",
       "      <th>...</th>\n",
       "      <td>...</td>\n",
       "      <td>...</td>\n",
       "      <td>...</td>\n",
       "      <td>...</td>\n",
       "      <td>...</td>\n",
       "      <td>...</td>\n",
       "      <td>...</td>\n",
       "    </tr>\n",
       "    <tr>\n",
       "      <th>238</th>\n",
       "      <td>30</td>\n",
       "      <td>65</td>\n",
       "      <td>14</td>\n",
       "      <td>0.0</td>\n",
       "      <td>85.4</td>\n",
       "      <td>16.0</td>\n",
       "      <td>4.5</td>\n",
       "    </tr>\n",
       "    <tr>\n",
       "      <th>239</th>\n",
       "      <td>28</td>\n",
       "      <td>87</td>\n",
       "      <td>15</td>\n",
       "      <td>4.4</td>\n",
       "      <td>41.1</td>\n",
       "      <td>6.5</td>\n",
       "      <td>0.1</td>\n",
       "    </tr>\n",
       "    <tr>\n",
       "      <th>240</th>\n",
       "      <td>27</td>\n",
       "      <td>87</td>\n",
       "      <td>29</td>\n",
       "      <td>0.5</td>\n",
       "      <td>45.9</td>\n",
       "      <td>3.5</td>\n",
       "      <td>0.4</td>\n",
       "    </tr>\n",
       "    <tr>\n",
       "      <th>241</th>\n",
       "      <td>24</td>\n",
       "      <td>54</td>\n",
       "      <td>18</td>\n",
       "      <td>0.1</td>\n",
       "      <td>79.7</td>\n",
       "      <td>4.3</td>\n",
       "      <td>1.7</td>\n",
       "    </tr>\n",
       "    <tr>\n",
       "      <th>242</th>\n",
       "      <td>24</td>\n",
       "      <td>64</td>\n",
       "      <td>15</td>\n",
       "      <td>0.2</td>\n",
       "      <td>67.3</td>\n",
       "      <td>3.8</td>\n",
       "      <td>1.2</td>\n",
       "    </tr>\n",
       "  </tbody>\n",
       "</table>\n",
       "<p>243 rows × 7 columns</p>\n",
       "</div>"
      ],
      "text/plain": [
       "     Temperature  RH  Ws  Rain  FFMC   DMC  ISI\n",
       "0             29  57  18   0.0  65.7   3.4  1.3\n",
       "1             29  61  13   1.3  64.4   4.1  1.0\n",
       "2             26  82  22  13.1  47.1   2.5  0.3\n",
       "3             25  89  13   2.5  28.6   1.3  0.0\n",
       "4             27  77  16   0.0  64.8   3.0  1.2\n",
       "..           ...  ..  ..   ...   ...   ...  ...\n",
       "238           30  65  14   0.0  85.4  16.0  4.5\n",
       "239           28  87  15   4.4  41.1   6.5  0.1\n",
       "240           27  87  29   0.5  45.9   3.5  0.4\n",
       "241           24  54  18   0.1  79.7   4.3  1.7\n",
       "242           24  64  15   0.2  67.3   3.8  1.2\n",
       "\n",
       "[243 rows x 7 columns]"
      ]
     },
     "execution_count": 136,
     "metadata": {},
     "output_type": "execute_result"
    }
   ],
   "source": [
    "x = linear_data.iloc[:,:-1]\n",
    "x"
   ]
  },
  {
   "cell_type": "code",
   "execution_count": 137,
   "id": "13e2b3cf",
   "metadata": {},
   "outputs": [
    {
     "data": {
      "text/plain": [
       "0      0.5\n",
       "1      0.4\n",
       "2      0.1\n",
       "3      0.0\n",
       "4      0.5\n",
       "      ... \n",
       "238    6.5\n",
       "239    0.0\n",
       "240    0.2\n",
       "241    0.7\n",
       "242    0.5\n",
       "Name: FWI, Length: 243, dtype: float64"
      ]
     },
     "execution_count": 137,
     "metadata": {},
     "output_type": "execute_result"
    }
   ],
   "source": [
    "y = linear_data.iloc[:,-1]\n",
    "y"
   ]
  },
  {
   "cell_type": "code",
   "execution_count": 138,
   "id": "25970fc1",
   "metadata": {},
   "outputs": [],
   "source": [
    "x_train, x_test, y_train, y_test = train_test_split(x, y, test_size = 0.25, random_state = 0)"
   ]
  },
  {
   "cell_type": "code",
   "execution_count": 139,
   "id": "49d1a507",
   "metadata": {},
   "outputs": [
    {
     "data": {
      "text/plain": [
       "(182, 7)"
      ]
     },
     "execution_count": 139,
     "metadata": {},
     "output_type": "execute_result"
    }
   ],
   "source": [
    "x_train.shape"
   ]
  },
  {
   "cell_type": "code",
   "execution_count": 140,
   "id": "a30dec4c",
   "metadata": {
    "scrolled": true
   },
   "outputs": [
    {
     "data": {
      "text/plain": [
       "(61, 7)"
      ]
     },
     "execution_count": 140,
     "metadata": {},
     "output_type": "execute_result"
    }
   ],
   "source": [
    "x_test.shape"
   ]
  },
  {
   "cell_type": "markdown",
   "id": "eb2044a6",
   "metadata": {},
   "source": [
    "<h3> 3. Feature Scaling</h3>"
   ]
  },
  {
   "cell_type": "code",
   "execution_count": 141,
   "id": "2a506523",
   "metadata": {},
   "outputs": [],
   "source": [
    "def standard_scaler(x_train, x_test):\n",
    "    scaler = StandardScaler()\n",
    "    x_train_scaled = scaler.fit_transform(x_train)\n",
    "    x_test_scaled = scaler.transform(x_test)\n",
    "    \n",
    "    return x_train_scaled, x_test_scaled"
   ]
  },
  {
   "cell_type": "code",
   "execution_count": 142,
   "id": "516d780f",
   "metadata": {},
   "outputs": [],
   "source": [
    "x_train_scaled, x_test_scaled = standard_scaler(x_train, x_test)"
   ]
  },
  {
   "cell_type": "code",
   "execution_count": 143,
   "id": "ce14f34e",
   "metadata": {},
   "outputs": [
    {
     "data": {
      "text/plain": [
       "Text(0.5, 1.0, 'X_train after scaling')"
      ]
     },
     "execution_count": 143,
     "metadata": {},
     "output_type": "execute_result"
    },
    {
     "data": {
      "image/png": "[encoded data removed]",
      "text/plain": [
       "<Figure size 1080x360 with 2 Axes>"
      ]
     },
     "metadata": {
      "needs_background": "light"
     },
     "output_type": "display_data"
    }
   ],
   "source": [
    "plt.figure(figsize = (15,5))\n",
    "plt.subplot(1,2,1)\n",
    "sns.boxplot(data= x_train)\n",
    "plt.title('X_train before scaling')\n",
    "plt.subplot(1,2,2)\n",
    "sns.boxplot(data= x_train_scaled)\n",
    "plt.title('X_train after scaling')"
   ]
  },
  {
   "cell_type": "markdown",
   "id": "1bbdd470",
   "metadata": {},
   "source": [
    "<h3> 4. Model Training</h3>"
   ]
  },
  {
   "cell_type": "code",
   "execution_count": 144,
   "id": "e9202c01",
   "metadata": {},
   "outputs": [],
   "source": [
    "def train_model(models,model_names, x_train_scaled, x_test_scaled, y_train, y_test):\n",
    "    model_res = []\n",
    "    for model in range(len(models)):\n",
    "        regressor = models[model]\n",
    "        regressor.fit(x_train_scaled, y_train)\n",
    "        y_pred = regressor.predict(x_test_scaled)\n",
    "        mae = mean_absolute_error(y_test, y_pred)\n",
    "        r2 = r2_score(y_test, y_pred)\n",
    "        model_res.append(r2)\n",
    "        print(f\"{'-'*30} {model_names[model]} {'-'*30}\")\n",
    "        print(f'Mean Absolute Error : {mae}')\n",
    "        print(f'R2 Score : {r2}')\n",
    "        print('*'*80)\n",
    "        \n",
    "    return pd.DataFrame(list(zip(model_names, model_res)), columns = ['Model', 'R2_Score'])    "
   ]
  },
  {
   "cell_type": "code",
   "execution_count": 145,
   "id": "33ede4f0",
   "metadata": {},
   "outputs": [],
   "source": [
    "linear_models = [LinearRegression(), Ridge(), Lasso(), ElasticNet(), SVR(), XGBRegressor(), RandomForestRegressor(), KNeighborsRegressor()]"
   ]
  },
  {
   "cell_type": "code",
   "execution_count": 146,
   "id": "4246dab3",
   "metadata": {},
   "outputs": [],
   "source": [
    "linear_model_names = ['Linear Regression', 'Ridge Regression', 'Lasso Regression', 'ElasticNet Regression', 'SVR', 'XGB Regressor', 'Random Forest Regressor', 'K Neighbors Regressor']"
   ]
  },
  {
   "cell_type": "code",
   "execution_count": 147,
   "id": "373345eb",
   "metadata": {
    "scrolled": false
   },
   "outputs": [
    {
     "name": "stdout",
     "output_type": "stream",
     "text": [
      "------------------------------ Linear Regression ------------------------------\n",
      "Mean Absolute Error : 0.7123674928595761\n",
      "R2 Score : 0.9649932926605853\n",
      "********************************************************************************\n",
      "------------------------------ Ridge Regression ------------------------------\n",
      "Mean Absolute Error : 0.7308753011423653\n",
      "R2 Score : 0.9639742744830117\n",
      "********************************************************************************\n",
      "------------------------------ Lasso Regression ------------------------------\n",
      "Mean Absolute Error : 1.1209175798372668\n",
      "R2 Score : 0.9376608745831527\n",
      "********************************************************************************\n",
      "------------------------------ ElasticNet Regression ------------------------------\n",
      "Mean Absolute Error : 1.8051339423993138\n",
      "R2 Score : 0.8600373401485383\n",
      "********************************************************************************\n",
      "------------------------------ SVR ------------------------------\n",
      "Mean Absolute Error : 0.8914626084250336\n",
      "R2 Score : 0.9346390408170823\n",
      "********************************************************************************\n",
      "------------------------------ XGB Regressor ------------------------------\n",
      "Mean Absolute Error : 0.6171011757472012\n",
      "R2 Score : 0.9758674236612528\n",
      "********************************************************************************\n",
      "------------------------------ Random Forest Regressor ------------------------------\n",
      "Mean Absolute Error : 0.5644754098360651\n",
      "R2 Score : 0.981213745900242\n",
      "********************************************************************************\n",
      "------------------------------ K Neighbors Regressor ------------------------------\n",
      "Mean Absolute Error : 0.917377049180328\n",
      "R2 Score : 0.9465925702623768\n",
      "********************************************************************************\n"
     ]
    }
   ],
   "source": [
    "model_res = train_model(linear_models,linear_model_names, x_train_scaled, x_test_scaled, y_train, y_test)"
   ]
  },
  {
   "cell_type": "code",
   "execution_count": 148,
   "id": "c2605d6a",
   "metadata": {
    "scrolled": true
   },
   "outputs": [
    {
     "data": {
      "text/html": [
       "<div>\n",
       "<style scoped>\n",
       "    .dataframe tbody tr th:only-of-type {\n",
       "        vertical-align: middle;\n",
       "    }\n",
       "\n",
       "    .dataframe tbody tr th {\n",
       "        vertical-align: top;\n",
       "    }\n",
       "\n",
       "    .dataframe thead th {\n",
       "        text-align: right;\n",
       "    }\n",
       "</style>\n",
       "<table border=\"1\" class=\"dataframe\">\n",
       "  <thead>\n",
       "    <tr style=\"text-align: right;\">\n",
       "      <th></th>\n",
       "      <th>Model</th>\n",
       "      <th>R2_Score</th>\n",
       "    </tr>\n",
       "  </thead>\n",
       "  <tbody>\n",
       "    <tr>\n",
       "      <th>0</th>\n",
       "      <td>Linear Regression</td>\n",
       "      <td>0.964993</td>\n",
       "    </tr>\n",
       "    <tr>\n",
       "      <th>1</th>\n",
       "      <td>Ridge Regression</td>\n",
       "      <td>0.963974</td>\n",
       "    </tr>\n",
       "    <tr>\n",
       "      <th>2</th>\n",
       "      <td>Lasso Regression</td>\n",
       "      <td>0.937661</td>\n",
       "    </tr>\n",
       "    <tr>\n",
       "      <th>3</th>\n",
       "      <td>ElasticNet Regression</td>\n",
       "      <td>0.860037</td>\n",
       "    </tr>\n",
       "    <tr>\n",
       "      <th>4</th>\n",
       "      <td>SVR</td>\n",
       "      <td>0.934639</td>\n",
       "    </tr>\n",
       "    <tr>\n",
       "      <th>5</th>\n",
       "      <td>XGB Regressor</td>\n",
       "      <td>0.975867</td>\n",
       "    </tr>\n",
       "    <tr>\n",
       "      <th>6</th>\n",
       "      <td>Random Forest Regressor</td>\n",
       "      <td>0.981214</td>\n",
       "    </tr>\n",
       "    <tr>\n",
       "      <th>7</th>\n",
       "      <td>K Neighbors Regressor</td>\n",
       "      <td>0.946593</td>\n",
       "    </tr>\n",
       "  </tbody>\n",
       "</table>\n",
       "</div>"
      ],
      "text/plain": [
       "                     Model  R2_Score\n",
       "0        Linear Regression  0.964993\n",
       "1         Ridge Regression  0.963974\n",
       "2         Lasso Regression  0.937661\n",
       "3    ElasticNet Regression  0.860037\n",
       "4                      SVR  0.934639\n",
       "5            XGB Regressor  0.975867\n",
       "6  Random Forest Regressor  0.981214\n",
       "7    K Neighbors Regressor  0.946593"
      ]
     },
     "execution_count": 148,
     "metadata": {},
     "output_type": "execute_result"
    }
   ],
   "source": [
    "model_res"
   ]
  },
  {
   "cell_type": "code",
   "execution_count": 149,
   "id": "d72214ea",
   "metadata": {},
   "outputs": [
    {
     "data": {
      "text/plain": [
       "6    0.981214\n",
       "5    0.975867\n",
       "Name: R2_Score, dtype: float64"
      ]
     },
     "execution_count": 149,
     "metadata": {},
     "output_type": "execute_result"
    }
   ],
   "source": [
    "model_res['R2_Score'].nlargest(2)"
   ]
  },
  {
   "cell_type": "markdown",
   "id": "1cde6695",
   "metadata": {},
   "source": [
    "- As we see here, XGBoostRegressor and Random Forest Dregressor are the two most accurate models.\n",
    "- So we will perform hyperparameter tuning on these two models"
   ]
  },
  {
   "cell_type": "markdown",
   "id": "ce7da9f5",
   "metadata": {},
   "source": [
    "<h3> 5. Hyperparamter Tuning</h3>"
   ]
  },
  {
   "cell_type": "markdown",
   "id": "65503a50",
   "metadata": {},
   "source": [
    "<h3> Tuning XGBoostRegressor</h3>"
   ]
  },
  {
   "cell_type": "code",
   "execution_count": 150,
   "id": "b63fe78f",
   "metadata": {},
   "outputs": [],
   "source": [
    "params_grid = [{'learning_rate' : [0.1,0.2,0.3,0.35],\n",
    "             'max_depth' : [6,8,9],\n",
    "             'gamma': [0.1, 0.3, 0.4, 0.5 ]\n",
    "}]"
   ]
  },
  {
   "cell_type": "code",
   "execution_count": 151,
   "id": "d25f9892",
   "metadata": {},
   "outputs": [],
   "source": [
    "#params_grid2 = [{'gamma': 0.3, 'learning_rate': 0.1, 'max_depth': 9, 'n_estimators' : [75, 100, 150, 200, 250]}]"
   ]
  },
  {
   "cell_type": "code",
   "execution_count": 152,
   "id": "2659255c",
   "metadata": {},
   "outputs": [],
   "source": [
    "xgb = XGBRegressor()"
   ]
  },
  {
   "cell_type": "code",
   "execution_count": 153,
   "id": "ae3e9f40",
   "metadata": {
    "scrolled": true
   },
   "outputs": [
    {
     "data": {
      "text/plain": [
       "XGBRegressor(base_score=None, booster=None, callbacks=None,\n",
       "             colsample_bylevel=None, colsample_bynode=None,\n",
       "             colsample_bytree=None, early_stopping_rounds=None,\n",
       "             enable_categorical=False, eval_metric=None, gamma=None,\n",
       "             gpu_id=None, grow_policy=None, importance_type=None,\n",
       "             interaction_constraints=None, learning_rate=None, max_bin=None,\n",
       "             max_cat_to_onehot=None, max_delta_step=None, max_depth=None,\n",
       "             max_leaves=None, min_child_weight=None, missing=nan,\n",
       "             monotone_constraints=None, n_estimators=100, n_jobs=None,\n",
       "             num_parallel_tree=None, predictor=None, random_state=None,\n",
       "             reg_alpha=None, reg_lambda=None, ...)"
      ]
     },
     "execution_count": 153,
     "metadata": {},
     "output_type": "execute_result"
    }
   ],
   "source": [
    "xgb"
   ]
  },
  {
   "cell_type": "code",
   "execution_count": 154,
   "id": "1c73be35",
   "metadata": {},
   "outputs": [],
   "source": [
    "#xgb2 = XGBRegressor(gamma= 0.3, learning_rate= 0.1, max_depth= 9, n_estimators = 200)"
   ]
  },
  {
   "cell_type": "code",
   "execution_count": 155,
   "id": "204b1c71",
   "metadata": {},
   "outputs": [],
   "source": [
    "#xgb2.fit(x_train_scaled, y_train)"
   ]
  },
  {
   "cell_type": "code",
   "execution_count": 156,
   "id": "d9289364",
   "metadata": {},
   "outputs": [],
   "source": [
    "#yp = xgb2.predict(x_test_scaled)"
   ]
  },
  {
   "cell_type": "code",
   "execution_count": 157,
   "id": "6e72b1c6",
   "metadata": {},
   "outputs": [],
   "source": [
    "#r2_score(y_test, yp)"
   ]
  },
  {
   "cell_type": "code",
   "execution_count": 158,
   "id": "55242737",
   "metadata": {},
   "outputs": [],
   "source": [
    "gcv_xgb = RandomizedSearchCV(estimator = xgb, param_distributions = params_grid,n_iter = 100, cv = 5, verbose = 2)"
   ]
  },
  {
   "cell_type": "code",
   "execution_count": 159,
   "id": "cc7aac0b",
   "metadata": {},
   "outputs": [
    {
     "name": "stderr",
     "output_type": "stream",
     "text": [
      "c:\\users\\user\\appdata\\local\\programs\\python\\python37\\lib\\site-packages\\sklearn\\model_selection\\_search.py:289: UserWarning: The total space of parameters 48 is smaller than n_iter=100. Running 48 iterations. For exhaustive searches, use GridSearchCV.\n",
      "  % (grid_size, self.n_iter, grid_size), UserWarning)\n"
     ]
    },
    {
     "name": "stdout",
     "output_type": "stream",
     "text": [
      "Fitting 5 folds for each of 48 candidates, totalling 240 fits\n",
      "[CV] END ..........gamma=0.1, learning_rate=0.1, max_depth=6; total time=   0.1s\n",
      "[CV] END ..........gamma=0.1, learning_rate=0.1, max_depth=6; total time=   0.1s\n",
      "[CV] END ..........gamma=0.1, learning_rate=0.1, max_depth=6; total time=   0.1s\n",
      "[CV] END ..........gamma=0.1, learning_rate=0.1, max_depth=6; total time=   0.1s\n",
      "[CV] END ..........gamma=0.1, learning_rate=0.1, max_depth=6; total time=   0.1s\n",
      "[CV] END ..........gamma=0.1, learning_rate=0.1, max_depth=8; total time=   0.2s\n",
      "[CV] END ..........gamma=0.1, learning_rate=0.1, max_depth=8; total time=   0.1s\n",
      "[CV] END ..........gamma=0.1, learning_rate=0.1, max_depth=8; total time=   0.1s\n",
      "[CV] END ..........gamma=0.1, learning_rate=0.1, max_depth=8; total time=   0.1s\n",
      "[CV] END ..........gamma=0.1, learning_rate=0.1, max_depth=8; total time=   0.1s\n",
      "[CV] END ..........gamma=0.1, learning_rate=0.1, max_depth=9; total time=   0.1s\n",
      "[CV] END ..........gamma=0.1, learning_rate=0.1, max_depth=9; total time=   0.1s\n",
      "[CV] END ..........gamma=0.1, learning_rate=0.1, max_depth=9; total time=   0.1s\n",
      "[CV] END ..........gamma=0.1, learning_rate=0.1, max_depth=9; total time=   0.1s\n",
      "[CV] END ..........gamma=0.1, learning_rate=0.1, max_depth=9; total time=   0.2s\n",
      "[CV] END ..........gamma=0.1, learning_rate=0.2, max_depth=6; total time=   0.1s\n",
      "[CV] END ..........gamma=0.1, learning_rate=0.2, max_depth=6; total time=   0.1s\n",
      "[CV] END ..........gamma=0.1, learning_rate=0.2, max_depth=6; total time=   0.1s\n",
      "[CV] END ..........gamma=0.1, learning_rate=0.2, max_depth=6; total time=   0.1s\n",
      "[CV] END ..........gamma=0.1, learning_rate=0.2, max_depth=6; total time=   0.1s\n",
      "[CV] END ..........gamma=0.1, learning_rate=0.2, max_depth=8; total time=   0.1s\n",
      "[CV] END ..........gamma=0.1, learning_rate=0.2, max_depth=8; total time=   0.1s\n",
      "[CV] END ..........gamma=0.1, learning_rate=0.2, max_depth=8; total time=   0.1s\n",
      "[CV] END ..........gamma=0.1, learning_rate=0.2, max_depth=8; total time=   0.1s\n",
      "[CV] END ..........gamma=0.1, learning_rate=0.2, max_depth=8; total time=   0.1s\n",
      "[CV] END ..........gamma=0.1, learning_rate=0.2, max_depth=9; total time=   0.2s\n",
      "[CV] END ..........gamma=0.1, learning_rate=0.2, max_depth=9; total time=   0.1s\n",
      "[CV] END ..........gamma=0.1, learning_rate=0.2, max_depth=9; total time=   0.1s\n",
      "[CV] END ..........gamma=0.1, learning_rate=0.2, max_depth=9; total time=   0.1s\n",
      "[CV] END ..........gamma=0.1, learning_rate=0.2, max_depth=9; total time=   0.1s\n",
      "[CV] END ..........gamma=0.1, learning_rate=0.3, max_depth=6; total time=   0.1s\n",
      "[CV] END ..........gamma=0.1, learning_rate=0.3, max_depth=6; total time=   0.1s\n",
      "[CV] END ..........gamma=0.1, learning_rate=0.3, max_depth=6; total time=   0.1s\n",
      "[CV] END ..........gamma=0.1, learning_rate=0.3, max_depth=6; total time=   0.1s\n",
      "[CV] END ..........gamma=0.1, learning_rate=0.3, max_depth=6; total time=   0.1s\n",
      "[CV] END ..........gamma=0.1, learning_rate=0.3, max_depth=8; total time=   0.1s\n",
      "[CV] END ..........gamma=0.1, learning_rate=0.3, max_depth=8; total time=   0.1s\n",
      "[CV] END ..........gamma=0.1, learning_rate=0.3, max_depth=8; total time=   0.1s\n",
      "[CV] END ..........gamma=0.1, learning_rate=0.3, max_depth=8; total time=   0.1s\n",
      "[CV] END ..........gamma=0.1, learning_rate=0.3, max_depth=8; total time=   0.1s\n",
      "[CV] END ..........gamma=0.1, learning_rate=0.3, max_depth=9; total time=   0.1s\n",
      "[CV] END ..........gamma=0.1, learning_rate=0.3, max_depth=9; total time=   0.1s\n",
      "[CV] END ..........gamma=0.1, learning_rate=0.3, max_depth=9; total time=   0.1s\n",
      "[CV] END ..........gamma=0.1, learning_rate=0.3, max_depth=9; total time=   0.1s\n",
      "[CV] END ..........gamma=0.1, learning_rate=0.3, max_depth=9; total time=   0.1s\n",
      "[CV] END .........gamma=0.1, learning_rate=0.35, max_depth=6; total time=   0.1s\n",
      "[CV] END .........gamma=0.1, learning_rate=0.35, max_depth=6; total time=   0.1s\n",
      "[CV] END .........gamma=0.1, learning_rate=0.35, max_depth=6; total time=   0.1s\n",
      "[CV] END .........gamma=0.1, learning_rate=0.35, max_depth=6; total time=   0.1s\n",
      "[CV] END .........gamma=0.1, learning_rate=0.35, max_depth=6; total time=   0.1s\n",
      "[CV] END .........gamma=0.1, learning_rate=0.35, max_depth=8; total time=   0.1s\n",
      "[CV] END .........gamma=0.1, learning_rate=0.35, max_depth=8; total time=   0.1s\n",
      "[CV] END .........gamma=0.1, learning_rate=0.35, max_depth=8; total time=   0.1s\n",
      "[CV] END .........gamma=0.1, learning_rate=0.35, max_depth=8; total time=   0.1s\n",
      "[CV] END .........gamma=0.1, learning_rate=0.35, max_depth=8; total time=   0.1s\n",
      "[CV] END .........gamma=0.1, learning_rate=0.35, max_depth=9; total time=   0.1s\n",
      "[CV] END .........gamma=0.1, learning_rate=0.35, max_depth=9; total time=   0.1s\n",
      "[CV] END .........gamma=0.1, learning_rate=0.35, max_depth=9; total time=   0.2s\n",
      "[CV] END .........gamma=0.1, learning_rate=0.35, max_depth=9; total time=   0.2s\n",
      "[CV] END .........gamma=0.1, learning_rate=0.35, max_depth=9; total time=   0.2s\n",
      "[CV] END ..........gamma=0.3, learning_rate=0.1, max_depth=6; total time=   0.1s\n",
      "[CV] END ..........gamma=0.3, learning_rate=0.1, max_depth=6; total time=   0.1s\n",
      "[CV] END ..........gamma=0.3, learning_rate=0.1, max_depth=6; total time=   0.1s\n",
      "[CV] END ..........gamma=0.3, learning_rate=0.1, max_depth=6; total time=   0.1s\n",
      "[CV] END ..........gamma=0.3, learning_rate=0.1, max_depth=6; total time=   0.1s\n",
      "[CV] END ..........gamma=0.3, learning_rate=0.1, max_depth=8; total time=   0.2s\n",
      "[CV] END ..........gamma=0.3, learning_rate=0.1, max_depth=8; total time=   0.1s\n",
      "[CV] END ..........gamma=0.3, learning_rate=0.1, max_depth=8; total time=   0.2s\n",
      "[CV] END ..........gamma=0.3, learning_rate=0.1, max_depth=8; total time=   0.1s\n",
      "[CV] END ..........gamma=0.3, learning_rate=0.1, max_depth=8; total time=   0.2s\n",
      "[CV] END ..........gamma=0.3, learning_rate=0.1, max_depth=9; total time=   0.1s\n",
      "[CV] END ..........gamma=0.3, learning_rate=0.1, max_depth=9; total time=   0.2s\n",
      "[CV] END ..........gamma=0.3, learning_rate=0.1, max_depth=9; total time=   0.1s\n",
      "[CV] END ..........gamma=0.3, learning_rate=0.1, max_depth=9; total time=   0.2s\n",
      "[CV] END ..........gamma=0.3, learning_rate=0.1, max_depth=9; total time=   0.1s\n",
      "[CV] END ..........gamma=0.3, learning_rate=0.2, max_depth=6; total time=   0.1s\n",
      "[CV] END ..........gamma=0.3, learning_rate=0.2, max_depth=6; total time=   0.1s\n",
      "[CV] END ..........gamma=0.3, learning_rate=0.2, max_depth=6; total time=   0.1s\n",
      "[CV] END ..........gamma=0.3, learning_rate=0.2, max_depth=6; total time=   0.1s\n",
      "[CV] END ..........gamma=0.3, learning_rate=0.2, max_depth=6; total time=   0.1s\n",
      "[CV] END ..........gamma=0.3, learning_rate=0.2, max_depth=8; total time=   0.1s\n",
      "[CV] END ..........gamma=0.3, learning_rate=0.2, max_depth=8; total time=   0.1s\n",
      "[CV] END ..........gamma=0.3, learning_rate=0.2, max_depth=8; total time=   0.1s\n",
      "[CV] END ..........gamma=0.3, learning_rate=0.2, max_depth=8; total time=   0.1s\n",
      "[CV] END ..........gamma=0.3, learning_rate=0.2, max_depth=8; total time=   0.1s\n",
      "[CV] END ..........gamma=0.3, learning_rate=0.2, max_depth=9; total time=   0.2s\n",
      "[CV] END ..........gamma=0.3, learning_rate=0.2, max_depth=9; total time=   0.1s\n",
      "[CV] END ..........gamma=0.3, learning_rate=0.2, max_depth=9; total time=   0.2s\n",
      "[CV] END ..........gamma=0.3, learning_rate=0.2, max_depth=9; total time=   0.1s\n",
      "[CV] END ..........gamma=0.3, learning_rate=0.2, max_depth=9; total time=   0.1s\n",
      "[CV] END ..........gamma=0.3, learning_rate=0.3, max_depth=6; total time=   0.1s\n",
      "[CV] END ..........gamma=0.3, learning_rate=0.3, max_depth=6; total time=   0.1s\n",
      "[CV] END ..........gamma=0.3, learning_rate=0.3, max_depth=6; total time=   0.1s\n",
      "[CV] END ..........gamma=0.3, learning_rate=0.3, max_depth=6; total time=   0.1s\n",
      "[CV] END ..........gamma=0.3, learning_rate=0.3, max_depth=6; total time=   0.1s\n",
      "[CV] END ..........gamma=0.3, learning_rate=0.3, max_depth=8; total time=   0.1s\n",
      "[CV] END ..........gamma=0.3, learning_rate=0.3, max_depth=8; total time=   0.1s\n",
      "[CV] END ..........gamma=0.3, learning_rate=0.3, max_depth=8; total time=   0.1s\n",
      "[CV] END ..........gamma=0.3, learning_rate=0.3, max_depth=8; total time=   0.1s\n",
      "[CV] END ..........gamma=0.3, learning_rate=0.3, max_depth=8; total time=   0.1s\n",
      "[CV] END ..........gamma=0.3, learning_rate=0.3, max_depth=9; total time=   0.1s\n",
      "[CV] END ..........gamma=0.3, learning_rate=0.3, max_depth=9; total time=   0.1s\n",
      "[CV] END ..........gamma=0.3, learning_rate=0.3, max_depth=9; total time=   0.1s\n",
      "[CV] END ..........gamma=0.3, learning_rate=0.3, max_depth=9; total time=   0.1s\n",
      "[CV] END ..........gamma=0.3, learning_rate=0.3, max_depth=9; total time=   0.1s\n",
      "[CV] END .........gamma=0.3, learning_rate=0.35, max_depth=6; total time=   0.1s\n",
      "[CV] END .........gamma=0.3, learning_rate=0.35, max_depth=6; total time=   0.1s\n",
      "[CV] END .........gamma=0.3, learning_rate=0.35, max_depth=6; total time=   0.1s\n",
      "[CV] END .........gamma=0.3, learning_rate=0.35, max_depth=6; total time=   0.1s\n",
      "[CV] END .........gamma=0.3, learning_rate=0.35, max_depth=6; total time=   0.1s\n",
      "[CV] END .........gamma=0.3, learning_rate=0.35, max_depth=8; total time=   0.1s\n",
      "[CV] END .........gamma=0.3, learning_rate=0.35, max_depth=8; total time=   0.1s\n",
      "[CV] END .........gamma=0.3, learning_rate=0.35, max_depth=8; total time=   0.1s\n",
      "[CV] END .........gamma=0.3, learning_rate=0.35, max_depth=8; total time=   0.1s\n",
      "[CV] END .........gamma=0.3, learning_rate=0.35, max_depth=8; total time=   0.1s\n",
      "[CV] END .........gamma=0.3, learning_rate=0.35, max_depth=9; total time=   0.1s\n",
      "[CV] END .........gamma=0.3, learning_rate=0.35, max_depth=9; total time=   0.1s\n",
      "[CV] END .........gamma=0.3, learning_rate=0.35, max_depth=9; total time=   0.2s\n",
      "[CV] END .........gamma=0.3, learning_rate=0.35, max_depth=9; total time=   0.2s\n",
      "[CV] END .........gamma=0.3, learning_rate=0.35, max_depth=9; total time=   0.1s\n",
      "[CV] END ..........gamma=0.4, learning_rate=0.1, max_depth=6; total time=   0.1s\n",
      "[CV] END ..........gamma=0.4, learning_rate=0.1, max_depth=6; total time=   0.2s\n",
      "[CV] END ..........gamma=0.4, learning_rate=0.1, max_depth=6; total time=   0.1s\n",
      "[CV] END ..........gamma=0.4, learning_rate=0.1, max_depth=6; total time=   0.1s\n",
      "[CV] END ..........gamma=0.4, learning_rate=0.1, max_depth=6; total time=   0.1s\n",
      "[CV] END ..........gamma=0.4, learning_rate=0.1, max_depth=8; total time=   0.1s\n",
      "[CV] END ..........gamma=0.4, learning_rate=0.1, max_depth=8; total time=   0.1s\n",
      "[CV] END ..........gamma=0.4, learning_rate=0.1, max_depth=8; total time=   0.1s\n",
      "[CV] END ..........gamma=0.4, learning_rate=0.1, max_depth=8; total time=   0.1s\n",
      "[CV] END ..........gamma=0.4, learning_rate=0.1, max_depth=8; total time=   0.1s\n",
      "[CV] END ..........gamma=0.4, learning_rate=0.1, max_depth=9; total time=   0.1s\n",
      "[CV] END ..........gamma=0.4, learning_rate=0.1, max_depth=9; total time=   0.1s\n",
      "[CV] END ..........gamma=0.4, learning_rate=0.1, max_depth=9; total time=   0.1s\n",
      "[CV] END ..........gamma=0.4, learning_rate=0.1, max_depth=9; total time=   0.1s\n",
      "[CV] END ..........gamma=0.4, learning_rate=0.1, max_depth=9; total time=   0.2s\n",
      "[CV] END ..........gamma=0.4, learning_rate=0.2, max_depth=6; total time=   0.1s\n",
      "[CV] END ..........gamma=0.4, learning_rate=0.2, max_depth=6; total time=   0.1s\n",
      "[CV] END ..........gamma=0.4, learning_rate=0.2, max_depth=6; total time=   0.1s\n",
      "[CV] END ..........gamma=0.4, learning_rate=0.2, max_depth=6; total time=   0.1s\n",
      "[CV] END ..........gamma=0.4, learning_rate=0.2, max_depth=6; total time=   0.1s\n",
      "[CV] END ..........gamma=0.4, learning_rate=0.2, max_depth=8; total time=   0.1s\n",
      "[CV] END ..........gamma=0.4, learning_rate=0.2, max_depth=8; total time=   0.1s\n",
      "[CV] END ..........gamma=0.4, learning_rate=0.2, max_depth=8; total time=   0.1s\n",
      "[CV] END ..........gamma=0.4, learning_rate=0.2, max_depth=8; total time=   0.1s\n",
      "[CV] END ..........gamma=0.4, learning_rate=0.2, max_depth=8; total time=   0.1s\n",
      "[CV] END ..........gamma=0.4, learning_rate=0.2, max_depth=9; total time=   0.1s\n",
      "[CV] END ..........gamma=0.4, learning_rate=0.2, max_depth=9; total time=   0.1s\n",
      "[CV] END ..........gamma=0.4, learning_rate=0.2, max_depth=9; total time=   0.1s\n",
      "[CV] END ..........gamma=0.4, learning_rate=0.2, max_depth=9; total time=   0.1s\n",
      "[CV] END ..........gamma=0.4, learning_rate=0.2, max_depth=9; total time=   0.1s\n",
      "[CV] END ..........gamma=0.4, learning_rate=0.3, max_depth=6; total time=   0.1s\n",
      "[CV] END ..........gamma=0.4, learning_rate=0.3, max_depth=6; total time=   0.1s\n",
      "[CV] END ..........gamma=0.4, learning_rate=0.3, max_depth=6; total time=   0.1s\n",
      "[CV] END ..........gamma=0.4, learning_rate=0.3, max_depth=6; total time=   0.1s\n",
      "[CV] END ..........gamma=0.4, learning_rate=0.3, max_depth=6; total time=   0.1s\n",
      "[CV] END ..........gamma=0.4, learning_rate=0.3, max_depth=8; total time=   0.1s\n",
      "[CV] END ..........gamma=0.4, learning_rate=0.3, max_depth=8; total time=   0.1s\n",
      "[CV] END ..........gamma=0.4, learning_rate=0.3, max_depth=8; total time=   0.1s\n",
      "[CV] END ..........gamma=0.4, learning_rate=0.3, max_depth=8; total time=   0.1s\n",
      "[CV] END ..........gamma=0.4, learning_rate=0.3, max_depth=8; total time=   0.1s\n",
      "[CV] END ..........gamma=0.4, learning_rate=0.3, max_depth=9; total time=   0.2s\n",
      "[CV] END ..........gamma=0.4, learning_rate=0.3, max_depth=9; total time=   0.1s\n",
      "[CV] END ..........gamma=0.4, learning_rate=0.3, max_depth=9; total time=   0.1s\n",
      "[CV] END ..........gamma=0.4, learning_rate=0.3, max_depth=9; total time=   0.1s\n",
      "[CV] END ..........gamma=0.4, learning_rate=0.3, max_depth=9; total time=   0.1s\n",
      "[CV] END .........gamma=0.4, learning_rate=0.35, max_depth=6; total time=   0.1s\n",
      "[CV] END .........gamma=0.4, learning_rate=0.35, max_depth=6; total time=   0.1s\n",
      "[CV] END .........gamma=0.4, learning_rate=0.35, max_depth=6; total time=   0.1s\n",
      "[CV] END .........gamma=0.4, learning_rate=0.35, max_depth=6; total time=   0.1s\n",
      "[CV] END .........gamma=0.4, learning_rate=0.35, max_depth=6; total time=   0.1s\n",
      "[CV] END .........gamma=0.4, learning_rate=0.35, max_depth=8; total time=   0.1s\n",
      "[CV] END .........gamma=0.4, learning_rate=0.35, max_depth=8; total time=   0.1s\n",
      "[CV] END .........gamma=0.4, learning_rate=0.35, max_depth=8; total time=   0.1s\n",
      "[CV] END .........gamma=0.4, learning_rate=0.35, max_depth=8; total time=   0.1s\n",
      "[CV] END .........gamma=0.4, learning_rate=0.35, max_depth=8; total time=   0.1s\n",
      "[CV] END .........gamma=0.4, learning_rate=0.35, max_depth=9; total time=   0.1s\n",
      "[CV] END .........gamma=0.4, learning_rate=0.35, max_depth=9; total time=   0.1s\n",
      "[CV] END .........gamma=0.4, learning_rate=0.35, max_depth=9; total time=   0.1s\n",
      "[CV] END .........gamma=0.4, learning_rate=0.35, max_depth=9; total time=   0.1s\n",
      "[CV] END .........gamma=0.4, learning_rate=0.35, max_depth=9; total time=   0.1s\n",
      "[CV] END ..........gamma=0.5, learning_rate=0.1, max_depth=6; total time=   0.1s\n",
      "[CV] END ..........gamma=0.5, learning_rate=0.1, max_depth=6; total time=   0.1s\n",
      "[CV] END ..........gamma=0.5, learning_rate=0.1, max_depth=6; total time=   0.1s\n",
      "[CV] END ..........gamma=0.5, learning_rate=0.1, max_depth=6; total time=   0.1s\n",
      "[CV] END ..........gamma=0.5, learning_rate=0.1, max_depth=6; total time=   0.1s\n",
      "[CV] END ..........gamma=0.5, learning_rate=0.1, max_depth=8; total time=   0.1s\n",
      "[CV] END ..........gamma=0.5, learning_rate=0.1, max_depth=8; total time=   0.1s\n",
      "[CV] END ..........gamma=0.5, learning_rate=0.1, max_depth=8; total time=   0.1s\n",
      "[CV] END ..........gamma=0.5, learning_rate=0.1, max_depth=8; total time=   0.1s\n",
      "[CV] END ..........gamma=0.5, learning_rate=0.1, max_depth=8; total time=   0.2s\n",
      "[CV] END ..........gamma=0.5, learning_rate=0.1, max_depth=9; total time=   0.1s\n",
      "[CV] END ..........gamma=0.5, learning_rate=0.1, max_depth=9; total time=   0.2s\n",
      "[CV] END ..........gamma=0.5, learning_rate=0.1, max_depth=9; total time=   0.1s\n",
      "[CV] END ..........gamma=0.5, learning_rate=0.1, max_depth=9; total time=   0.1s\n",
      "[CV] END ..........gamma=0.5, learning_rate=0.1, max_depth=9; total time=   0.2s\n",
      "[CV] END ..........gamma=0.5, learning_rate=0.2, max_depth=6; total time=   0.1s\n",
      "[CV] END ..........gamma=0.5, learning_rate=0.2, max_depth=6; total time=   0.1s\n",
      "[CV] END ..........gamma=0.5, learning_rate=0.2, max_depth=6; total time=   0.1s\n",
      "[CV] END ..........gamma=0.5, learning_rate=0.2, max_depth=6; total time=   0.1s\n",
      "[CV] END ..........gamma=0.5, learning_rate=0.2, max_depth=6; total time=   0.1s\n",
      "[CV] END ..........gamma=0.5, learning_rate=0.2, max_depth=8; total time=   0.1s\n",
      "[CV] END ..........gamma=0.5, learning_rate=0.2, max_depth=8; total time=   0.1s\n",
      "[CV] END ..........gamma=0.5, learning_rate=0.2, max_depth=8; total time=   0.1s\n",
      "[CV] END ..........gamma=0.5, learning_rate=0.2, max_depth=8; total time=   0.1s\n",
      "[CV] END ..........gamma=0.5, learning_rate=0.2, max_depth=8; total time=   0.1s\n",
      "[CV] END ..........gamma=0.5, learning_rate=0.2, max_depth=9; total time=   0.1s\n",
      "[CV] END ..........gamma=0.5, learning_rate=0.2, max_depth=9; total time=   0.1s\n",
      "[CV] END ..........gamma=0.5, learning_rate=0.2, max_depth=9; total time=   0.1s\n",
      "[CV] END ..........gamma=0.5, learning_rate=0.2, max_depth=9; total time=   0.2s\n",
      "[CV] END ..........gamma=0.5, learning_rate=0.2, max_depth=9; total time=   0.1s\n",
      "[CV] END ..........gamma=0.5, learning_rate=0.3, max_depth=6; total time=   0.1s\n",
      "[CV] END ..........gamma=0.5, learning_rate=0.3, max_depth=6; total time=   0.1s\n",
      "[CV] END ..........gamma=0.5, learning_rate=0.3, max_depth=6; total time=   0.1s\n",
      "[CV] END ..........gamma=0.5, learning_rate=0.3, max_depth=6; total time=   0.1s\n",
      "[CV] END ..........gamma=0.5, learning_rate=0.3, max_depth=6; total time=   0.1s\n",
      "[CV] END ..........gamma=0.5, learning_rate=0.3, max_depth=8; total time=   0.1s\n",
      "[CV] END ..........gamma=0.5, learning_rate=0.3, max_depth=8; total time=   0.1s\n",
      "[CV] END ..........gamma=0.5, learning_rate=0.3, max_depth=8; total time=   0.1s\n",
      "[CV] END ..........gamma=0.5, learning_rate=0.3, max_depth=8; total time=   0.1s\n",
      "[CV] END ..........gamma=0.5, learning_rate=0.3, max_depth=8; total time=   0.1s\n",
      "[CV] END ..........gamma=0.5, learning_rate=0.3, max_depth=9; total time=   0.1s\n",
      "[CV] END ..........gamma=0.5, learning_rate=0.3, max_depth=9; total time=   0.2s\n",
      "[CV] END ..........gamma=0.5, learning_rate=0.3, max_depth=9; total time=   0.1s\n",
      "[CV] END ..........gamma=0.5, learning_rate=0.3, max_depth=9; total time=   0.1s\n",
      "[CV] END ..........gamma=0.5, learning_rate=0.3, max_depth=9; total time=   0.1s\n",
      "[CV] END .........gamma=0.5, learning_rate=0.35, max_depth=6; total time=   0.1s\n",
      "[CV] END .........gamma=0.5, learning_rate=0.35, max_depth=6; total time=   0.1s\n",
      "[CV] END .........gamma=0.5, learning_rate=0.35, max_depth=6; total time=   0.1s\n",
      "[CV] END .........gamma=0.5, learning_rate=0.35, max_depth=6; total time=   0.1s\n",
      "[CV] END .........gamma=0.5, learning_rate=0.35, max_depth=6; total time=   0.1s\n",
      "[CV] END .........gamma=0.5, learning_rate=0.35, max_depth=8; total time=   0.1s\n",
      "[CV] END .........gamma=0.5, learning_rate=0.35, max_depth=8; total time=   0.1s\n",
      "[CV] END .........gamma=0.5, learning_rate=0.35, max_depth=8; total time=   0.1s\n",
      "[CV] END .........gamma=0.5, learning_rate=0.35, max_depth=8; total time=   0.1s\n",
      "[CV] END .........gamma=0.5, learning_rate=0.35, max_depth=8; total time=   0.1s\n",
      "[CV] END .........gamma=0.5, learning_rate=0.35, max_depth=9; total time=   0.2s\n",
      "[CV] END .........gamma=0.5, learning_rate=0.35, max_depth=9; total time=   0.1s\n",
      "[CV] END .........gamma=0.5, learning_rate=0.35, max_depth=9; total time=   0.2s\n",
      "[CV] END .........gamma=0.5, learning_rate=0.35, max_depth=9; total time=   0.2s\n",
      "[CV] END .........gamma=0.5, learning_rate=0.35, max_depth=9; total time=   0.2s\n"
     ]
    },
    {
     "data": {
      "text/plain": [
       "RandomizedSearchCV(cv=5,\n",
       "                   estimator=XGBRegressor(base_score=None, booster=None,\n",
       "                                          callbacks=None,\n",
       "                                          colsample_bylevel=None,\n",
       "                                          colsample_bynode=None,\n",
       "                                          colsample_bytree=None,\n",
       "                                          early_stopping_rounds=None,\n",
       "                                          enable_categorical=False,\n",
       "                                          eval_metric=None, gamma=None,\n",
       "                                          gpu_id=None, grow_policy=None,\n",
       "                                          importance_type=None,\n",
       "                                          interaction_constraints=None,\n",
       "                                          learning_rate=None, max_bin=None,\n",
       "                                          m...\n",
       "                                          max_delta_step=None, max_depth=None,\n",
       "                                          max_leaves=None,\n",
       "                                          min_child_weight=None, missing=nan,\n",
       "                                          monotone_constraints=None,\n",
       "                                          n_estimators=100, n_jobs=None,\n",
       "                                          num_parallel_tree=None,\n",
       "                                          predictor=None, random_state=None,\n",
       "                                          reg_alpha=None, reg_lambda=None, ...),\n",
       "                   n_iter=100,\n",
       "                   param_distributions=[{'gamma': [0.1, 0.3, 0.4, 0.5],\n",
       "                                         'learning_rate': [0.1, 0.2, 0.3, 0.35],\n",
       "                                         'max_depth': [6, 8, 9]}],\n",
       "                   verbose=2)"
      ]
     },
     "execution_count": 159,
     "metadata": {},
     "output_type": "execute_result"
    }
   ],
   "source": [
    "gcv_xgb.fit(x_train_scaled, y_train)"
   ]
  },
  {
   "cell_type": "code",
   "execution_count": 160,
   "id": "40292986",
   "metadata": {},
   "outputs": [
    {
     "data": {
      "text/plain": [
       "{'max_depth': 6, 'learning_rate': 0.3, 'gamma': 0.3}"
      ]
     },
     "execution_count": 160,
     "metadata": {},
     "output_type": "execute_result"
    }
   ],
   "source": [
    "gcv_xgb.best_params_"
   ]
  },
  {
   "cell_type": "code",
   "execution_count": 161,
   "id": "14fe2ff8",
   "metadata": {
    "scrolled": true
   },
   "outputs": [
    {
     "name": "stdout",
     "output_type": "stream",
     "text": [
      "XGBoost Regressor Tuned\n",
      "R2 Score :  0.9787067497759518\n",
      "Mean Absolute Error :  0.6050412788254317\n"
     ]
    }
   ],
   "source": [
    "best_xgb_estimator = gcv_xgb.best_estimator_\n",
    "xgb_y_pred = best_xgb_estimator.predict(x_test_scaled)\n",
    "mae = mean_absolute_error(y_test, xgb_y_pred)\n",
    "r2 = r2_score(y_test, xgb_y_pred)\n",
    "print('XGBoost Regressor Tuned')\n",
    "print('R2 Score : ', r2)\n",
    "print('Mean Absolute Error : ', mae)"
   ]
  },
  {
   "cell_type": "markdown",
   "id": "14144fa0",
   "metadata": {},
   "source": [
    "<h3> Tuning Random Forest Regressor</h3>"
   ]
  },
  {
   "cell_type": "code",
   "execution_count": 162,
   "id": "aa710fff",
   "metadata": {},
   "outputs": [],
   "source": [
    "grid_params2 = [{'bootstrap': [True, False],\n",
    "             'max_depth': [10, 30,50,70,90,100,125],\n",
    "             'max_features': ['auto', 'sqrt'],\n",
    "             'min_samples_leaf': [1, 2, 4],\n",
    "             'min_samples_split': [2, 5, 10],\n",
    "             'n_estimators': [50,100,150,200,250,300]\n",
    "}]"
   ]
  },
  {
   "cell_type": "code",
   "execution_count": 163,
   "id": "1ec3f27e",
   "metadata": {},
   "outputs": [],
   "source": [
    "rfr = RandomForestRegressor()"
   ]
  },
  {
   "cell_type": "code",
   "execution_count": 164,
   "id": "b53e54b2",
   "metadata": {},
   "outputs": [],
   "source": [
    "rfr_gcv = RandomizedSearchCV(estimator = rfr, param_distributions = grid_params2,n_iter = 100, cv = 5, verbose = 2)"
   ]
  },
  {
   "cell_type": "code",
   "execution_count": 165,
   "id": "9b2ae83b",
   "metadata": {},
   "outputs": [
    {
     "name": "stdout",
     "output_type": "stream",
     "text": [
      "Fitting 5 folds for each of 100 candidates, totalling 500 fits\n",
      "[CV] END bootstrap=False, max_depth=70, max_features=sqrt, min_samples_leaf=1, min_samples_split=2, n_estimators=200; total time=   0.4s\n",
      "[CV] END bootstrap=False, max_depth=70, max_features=sqrt, min_samples_leaf=1, min_samples_split=2, n_estimators=200; total time=   0.2s\n",
      "[CV] END bootstrap=False, max_depth=70, max_features=sqrt, min_samples_leaf=1, min_samples_split=2, n_estimators=200; total time=   0.2s\n",
      "[CV] END bootstrap=False, max_depth=70, max_features=sqrt, min_samples_leaf=1, min_samples_split=2, n_estimators=200; total time=   0.2s\n",
      "[CV] END bootstrap=False, max_depth=70, max_features=sqrt, min_samples_leaf=1, min_samples_split=2, n_estimators=200; total time=   0.3s\n",
      "[CV] END bootstrap=False, max_depth=30, max_features=sqrt, min_samples_leaf=4, min_samples_split=5, n_estimators=100; total time=   0.1s\n",
      "[CV] END bootstrap=False, max_depth=30, max_features=sqrt, min_samples_leaf=4, min_samples_split=5, n_estimators=100; total time=   0.1s\n",
      "[CV] END bootstrap=False, max_depth=30, max_features=sqrt, min_samples_leaf=4, min_samples_split=5, n_estimators=100; total time=   0.1s\n",
      "[CV] END bootstrap=False, max_depth=30, max_features=sqrt, min_samples_leaf=4, min_samples_split=5, n_estimators=100; total time=   0.1s\n",
      "[CV] END bootstrap=False, max_depth=30, max_features=sqrt, min_samples_leaf=4, min_samples_split=5, n_estimators=100; total time=   0.1s\n",
      "[CV] END bootstrap=False, max_depth=70, max_features=auto, min_samples_leaf=4, min_samples_split=10, n_estimators=50; total time=   0.0s\n",
      "[CV] END bootstrap=False, max_depth=70, max_features=auto, min_samples_leaf=4, min_samples_split=10, n_estimators=50; total time=   0.0s\n",
      "[CV] END bootstrap=False, max_depth=70, max_features=auto, min_samples_leaf=4, min_samples_split=10, n_estimators=50; total time=   0.0s\n",
      "[CV] END bootstrap=False, max_depth=70, max_features=auto, min_samples_leaf=4, min_samples_split=10, n_estimators=50; total time=   0.0s\n",
      "[CV] END bootstrap=False, max_depth=70, max_features=auto, min_samples_leaf=4, min_samples_split=10, n_estimators=50; total time=   0.0s\n",
      "[CV] END bootstrap=True, max_depth=90, max_features=auto, min_samples_leaf=2, min_samples_split=2, n_estimators=250; total time=   0.6s\n",
      "[CV] END bootstrap=True, max_depth=90, max_features=auto, min_samples_leaf=2, min_samples_split=2, n_estimators=250; total time=   0.4s\n",
      "[CV] END bootstrap=True, max_depth=90, max_features=auto, min_samples_leaf=2, min_samples_split=2, n_estimators=250; total time=   0.5s\n",
      "[CV] END bootstrap=True, max_depth=90, max_features=auto, min_samples_leaf=2, min_samples_split=2, n_estimators=250; total time=   0.4s\n",
      "[CV] END bootstrap=True, max_depth=90, max_features=auto, min_samples_leaf=2, min_samples_split=2, n_estimators=250; total time=   0.4s\n",
      "[CV] END bootstrap=False, max_depth=100, max_features=auto, min_samples_leaf=4, min_samples_split=10, n_estimators=50; total time=   0.0s\n",
      "[CV] END bootstrap=False, max_depth=100, max_features=auto, min_samples_leaf=4, min_samples_split=10, n_estimators=50; total time=   0.0s\n",
      "[CV] END bootstrap=False, max_depth=100, max_features=auto, min_samples_leaf=4, min_samples_split=10, n_estimators=50; total time=   0.0s\n",
      "[CV] END bootstrap=False, max_depth=100, max_features=auto, min_samples_leaf=4, min_samples_split=10, n_estimators=50; total time=   0.0s\n",
      "[CV] END bootstrap=False, max_depth=100, max_features=auto, min_samples_leaf=4, min_samples_split=10, n_estimators=50; total time=   0.0s\n",
      "[CV] END bootstrap=True, max_depth=100, max_features=sqrt, min_samples_leaf=1, min_samples_split=2, n_estimators=150; total time=   0.2s\n",
      "[CV] END bootstrap=True, max_depth=100, max_features=sqrt, min_samples_leaf=1, min_samples_split=2, n_estimators=150; total time=   0.2s\n",
      "[CV] END bootstrap=True, max_depth=100, max_features=sqrt, min_samples_leaf=1, min_samples_split=2, n_estimators=150; total time=   0.2s\n",
      "[CV] END bootstrap=True, max_depth=100, max_features=sqrt, min_samples_leaf=1, min_samples_split=2, n_estimators=150; total time=   0.2s\n",
      "[CV] END bootstrap=True, max_depth=100, max_features=sqrt, min_samples_leaf=1, min_samples_split=2, n_estimators=150; total time=   0.2s\n",
      "[CV] END bootstrap=False, max_depth=10, max_features=auto, min_samples_leaf=4, min_samples_split=2, n_estimators=150; total time=   0.1s\n",
      "[CV] END bootstrap=False, max_depth=10, max_features=auto, min_samples_leaf=4, min_samples_split=2, n_estimators=150; total time=   0.2s\n",
      "[CV] END bootstrap=False, max_depth=10, max_features=auto, min_samples_leaf=4, min_samples_split=2, n_estimators=150; total time=   0.2s\n",
      "[CV] END bootstrap=False, max_depth=10, max_features=auto, min_samples_leaf=4, min_samples_split=2, n_estimators=150; total time=   0.2s\n",
      "[CV] END bootstrap=False, max_depth=10, max_features=auto, min_samples_leaf=4, min_samples_split=2, n_estimators=150; total time=   0.2s\n",
      "[CV] END bootstrap=False, max_depth=100, max_features=sqrt, min_samples_leaf=2, min_samples_split=2, n_estimators=50; total time=   0.0s\n",
      "[CV] END bootstrap=False, max_depth=100, max_features=sqrt, min_samples_leaf=2, min_samples_split=2, n_estimators=50; total time=   0.0s\n",
      "[CV] END bootstrap=False, max_depth=100, max_features=sqrt, min_samples_leaf=2, min_samples_split=2, n_estimators=50; total time=   0.0s\n",
      "[CV] END bootstrap=False, max_depth=100, max_features=sqrt, min_samples_leaf=2, min_samples_split=2, n_estimators=50; total time=   0.0s\n",
      "[CV] END bootstrap=False, max_depth=100, max_features=sqrt, min_samples_leaf=2, min_samples_split=2, n_estimators=50; total time=   0.0s\n",
      "[CV] END bootstrap=True, max_depth=30, max_features=auto, min_samples_leaf=2, min_samples_split=10, n_estimators=150; total time=   0.2s\n",
      "[CV] END bootstrap=True, max_depth=30, max_features=auto, min_samples_leaf=2, min_samples_split=10, n_estimators=150; total time=   0.5s\n",
      "[CV] END bootstrap=True, max_depth=30, max_features=auto, min_samples_leaf=2, min_samples_split=10, n_estimators=150; total time=   0.2s\n",
      "[CV] END bootstrap=True, max_depth=30, max_features=auto, min_samples_leaf=2, min_samples_split=10, n_estimators=150; total time=   0.2s\n",
      "[CV] END bootstrap=True, max_depth=30, max_features=auto, min_samples_leaf=2, min_samples_split=10, n_estimators=150; total time=   0.2s\n",
      "[CV] END bootstrap=True, max_depth=50, max_features=auto, min_samples_leaf=2, min_samples_split=5, n_estimators=100; total time=   0.1s\n",
      "[CV] END bootstrap=True, max_depth=50, max_features=auto, min_samples_leaf=2, min_samples_split=5, n_estimators=100; total time=   0.1s\n",
      "[CV] END bootstrap=True, max_depth=50, max_features=auto, min_samples_leaf=2, min_samples_split=5, n_estimators=100; total time=   0.1s\n",
      "[CV] END bootstrap=True, max_depth=50, max_features=auto, min_samples_leaf=2, min_samples_split=5, n_estimators=100; total time=   0.1s\n",
      "[CV] END bootstrap=True, max_depth=50, max_features=auto, min_samples_leaf=2, min_samples_split=5, n_estimators=100; total time=   0.1s\n",
      "[CV] END bootstrap=False, max_depth=10, max_features=auto, min_samples_leaf=4, min_samples_split=5, n_estimators=50; total time=   0.0s\n",
      "[CV] END bootstrap=False, max_depth=10, max_features=auto, min_samples_leaf=4, min_samples_split=5, n_estimators=50; total time=   0.0s\n",
      "[CV] END bootstrap=False, max_depth=10, max_features=auto, min_samples_leaf=4, min_samples_split=5, n_estimators=50; total time=   0.0s\n",
      "[CV] END bootstrap=False, max_depth=10, max_features=auto, min_samples_leaf=4, min_samples_split=5, n_estimators=50; total time=   0.0s\n",
      "[CV] END bootstrap=False, max_depth=10, max_features=auto, min_samples_leaf=4, min_samples_split=5, n_estimators=50; total time=   0.0s\n",
      "[CV] END bootstrap=True, max_depth=70, max_features=auto, min_samples_leaf=4, min_samples_split=2, n_estimators=100; total time=   0.2s\n",
      "[CV] END bootstrap=True, max_depth=70, max_features=auto, min_samples_leaf=4, min_samples_split=2, n_estimators=100; total time=   0.1s\n",
      "[CV] END bootstrap=True, max_depth=70, max_features=auto, min_samples_leaf=4, min_samples_split=2, n_estimators=100; total time=   0.1s\n",
      "[CV] END bootstrap=True, max_depth=70, max_features=auto, min_samples_leaf=4, min_samples_split=2, n_estimators=100; total time=   0.1s\n",
      "[CV] END bootstrap=True, max_depth=70, max_features=auto, min_samples_leaf=4, min_samples_split=2, n_estimators=100; total time=   0.1s\n",
      "[CV] END bootstrap=True, max_depth=70, max_features=auto, min_samples_leaf=1, min_samples_split=5, n_estimators=100; total time=   0.1s\n",
      "[CV] END bootstrap=True, max_depth=70, max_features=auto, min_samples_leaf=1, min_samples_split=5, n_estimators=100; total time=   0.1s\n",
      "[CV] END bootstrap=True, max_depth=70, max_features=auto, min_samples_leaf=1, min_samples_split=5, n_estimators=100; total time=   0.1s\n",
      "[CV] END bootstrap=True, max_depth=70, max_features=auto, min_samples_leaf=1, min_samples_split=5, n_estimators=100; total time=   0.1s\n",
      "[CV] END bootstrap=True, max_depth=70, max_features=auto, min_samples_leaf=1, min_samples_split=5, n_estimators=100; total time=   0.1s\n",
      "[CV] END bootstrap=False, max_depth=70, max_features=auto, min_samples_leaf=1, min_samples_split=2, n_estimators=100; total time=   0.1s\n",
      "[CV] END bootstrap=False, max_depth=70, max_features=auto, min_samples_leaf=1, min_samples_split=2, n_estimators=100; total time=   0.1s\n",
      "[CV] END bootstrap=False, max_depth=70, max_features=auto, min_samples_leaf=1, min_samples_split=2, n_estimators=100; total time=   0.1s\n",
      "[CV] END bootstrap=False, max_depth=70, max_features=auto, min_samples_leaf=1, min_samples_split=2, n_estimators=100; total time=   0.1s\n",
      "[CV] END bootstrap=False, max_depth=70, max_features=auto, min_samples_leaf=1, min_samples_split=2, n_estimators=100; total time=   0.1s\n",
      "[CV] END bootstrap=True, max_depth=10, max_features=sqrt, min_samples_leaf=2, min_samples_split=10, n_estimators=50; total time=   0.0s\n",
      "[CV] END bootstrap=True, max_depth=10, max_features=sqrt, min_samples_leaf=2, min_samples_split=10, n_estimators=50; total time=   0.0s\n",
      "[CV] END bootstrap=True, max_depth=10, max_features=sqrt, min_samples_leaf=2, min_samples_split=10, n_estimators=50; total time=   0.0s\n",
      "[CV] END bootstrap=True, max_depth=10, max_features=sqrt, min_samples_leaf=2, min_samples_split=10, n_estimators=50; total time=   0.0s\n",
      "[CV] END bootstrap=True, max_depth=10, max_features=sqrt, min_samples_leaf=2, min_samples_split=10, n_estimators=50; total time=   0.0s\n",
      "[CV] END bootstrap=False, max_depth=50, max_features=sqrt, min_samples_leaf=1, min_samples_split=5, n_estimators=300; total time=   0.4s\n",
      "[CV] END bootstrap=False, max_depth=50, max_features=sqrt, min_samples_leaf=1, min_samples_split=5, n_estimators=300; total time=   0.3s\n",
      "[CV] END bootstrap=False, max_depth=50, max_features=sqrt, min_samples_leaf=1, min_samples_split=5, n_estimators=300; total time=   0.3s\n",
      "[CV] END bootstrap=False, max_depth=50, max_features=sqrt, min_samples_leaf=1, min_samples_split=5, n_estimators=300; total time=   0.3s\n",
      "[CV] END bootstrap=False, max_depth=50, max_features=sqrt, min_samples_leaf=1, min_samples_split=5, n_estimators=300; total time=   0.3s\n",
      "[CV] END bootstrap=False, max_depth=50, max_features=auto, min_samples_leaf=1, min_samples_split=10, n_estimators=250; total time=   0.3s\n",
      "[CV] END bootstrap=False, max_depth=50, max_features=auto, min_samples_leaf=1, min_samples_split=10, n_estimators=250; total time=   0.3s\n",
      "[CV] END bootstrap=False, max_depth=50, max_features=auto, min_samples_leaf=1, min_samples_split=10, n_estimators=250; total time=   0.3s\n",
      "[CV] END bootstrap=False, max_depth=50, max_features=auto, min_samples_leaf=1, min_samples_split=10, n_estimators=250; total time=   0.3s\n",
      "[CV] END bootstrap=False, max_depth=50, max_features=auto, min_samples_leaf=1, min_samples_split=10, n_estimators=250; total time=   0.3s\n",
      "[CV] END bootstrap=False, max_depth=125, max_features=sqrt, min_samples_leaf=1, min_samples_split=10, n_estimators=300; total time=   0.3s\n",
      "[CV] END bootstrap=False, max_depth=125, max_features=sqrt, min_samples_leaf=1, min_samples_split=10, n_estimators=300; total time=   0.3s\n",
      "[CV] END bootstrap=False, max_depth=125, max_features=sqrt, min_samples_leaf=1, min_samples_split=10, n_estimators=300; total time=   0.4s\n",
      "[CV] END bootstrap=False, max_depth=125, max_features=sqrt, min_samples_leaf=1, min_samples_split=10, n_estimators=300; total time=   0.4s\n",
      "[CV] END bootstrap=False, max_depth=125, max_features=sqrt, min_samples_leaf=1, min_samples_split=10, n_estimators=300; total time=   0.4s\n",
      "[CV] END bootstrap=False, max_depth=125, max_features=auto, min_samples_leaf=1, min_samples_split=5, n_estimators=300; total time=   0.6s\n",
      "[CV] END bootstrap=False, max_depth=125, max_features=auto, min_samples_leaf=1, min_samples_split=5, n_estimators=300; total time=   0.5s\n",
      "[CV] END bootstrap=False, max_depth=125, max_features=auto, min_samples_leaf=1, min_samples_split=5, n_estimators=300; total time=   0.6s\n",
      "[CV] END bootstrap=False, max_depth=125, max_features=auto, min_samples_leaf=1, min_samples_split=5, n_estimators=300; total time=   0.6s\n",
      "[CV] END bootstrap=False, max_depth=125, max_features=auto, min_samples_leaf=1, min_samples_split=5, n_estimators=300; total time=   0.5s\n",
      "[CV] END bootstrap=False, max_depth=100, max_features=auto, min_samples_leaf=1, min_samples_split=10, n_estimators=50; total time=   0.0s\n",
      "[CV] END bootstrap=False, max_depth=100, max_features=auto, min_samples_leaf=1, min_samples_split=10, n_estimators=50; total time=   0.0s\n",
      "[CV] END bootstrap=False, max_depth=100, max_features=auto, min_samples_leaf=1, min_samples_split=10, n_estimators=50; total time=   0.0s\n",
      "[CV] END bootstrap=False, max_depth=100, max_features=auto, min_samples_leaf=1, min_samples_split=10, n_estimators=50; total time=   0.0s\n",
      "[CV] END bootstrap=False, max_depth=100, max_features=auto, min_samples_leaf=1, min_samples_split=10, n_estimators=50; total time=   0.0s\n",
      "[CV] END bootstrap=False, max_depth=50, max_features=auto, min_samples_leaf=4, min_samples_split=10, n_estimators=150; total time=   0.1s\n",
      "[CV] END bootstrap=False, max_depth=50, max_features=auto, min_samples_leaf=4, min_samples_split=10, n_estimators=150; total time=   0.1s\n",
      "[CV] END bootstrap=False, max_depth=50, max_features=auto, min_samples_leaf=4, min_samples_split=10, n_estimators=150; total time=   0.1s\n",
      "[CV] END bootstrap=False, max_depth=50, max_features=auto, min_samples_leaf=4, min_samples_split=10, n_estimators=150; total time=   0.2s\n",
      "[CV] END bootstrap=False, max_depth=50, max_features=auto, min_samples_leaf=4, min_samples_split=10, n_estimators=150; total time=   0.2s\n",
      "[CV] END bootstrap=True, max_depth=30, max_features=sqrt, min_samples_leaf=1, min_samples_split=2, n_estimators=100; total time=   0.1s\n",
      "[CV] END bootstrap=True, max_depth=30, max_features=sqrt, min_samples_leaf=1, min_samples_split=2, n_estimators=100; total time=   0.1s\n",
      "[CV] END bootstrap=True, max_depth=30, max_features=sqrt, min_samples_leaf=1, min_samples_split=2, n_estimators=100; total time=   0.1s\n",
      "[CV] END bootstrap=True, max_depth=30, max_features=sqrt, min_samples_leaf=1, min_samples_split=2, n_estimators=100; total time=   0.1s\n",
      "[CV] END bootstrap=True, max_depth=30, max_features=sqrt, min_samples_leaf=1, min_samples_split=2, n_estimators=100; total time=   0.1s\n",
      "[CV] END bootstrap=False, max_depth=10, max_features=sqrt, min_samples_leaf=1, min_samples_split=10, n_estimators=50; total time=   0.0s\n",
      "[CV] END bootstrap=False, max_depth=10, max_features=sqrt, min_samples_leaf=1, min_samples_split=10, n_estimators=50; total time=   0.0s\n",
      "[CV] END bootstrap=False, max_depth=10, max_features=sqrt, min_samples_leaf=1, min_samples_split=10, n_estimators=50; total time=   0.0s\n",
      "[CV] END bootstrap=False, max_depth=10, max_features=sqrt, min_samples_leaf=1, min_samples_split=10, n_estimators=50; total time=   0.0s\n",
      "[CV] END bootstrap=False, max_depth=10, max_features=sqrt, min_samples_leaf=1, min_samples_split=10, n_estimators=50; total time=   0.0s\n",
      "[CV] END bootstrap=True, max_depth=10, max_features=sqrt, min_samples_leaf=2, min_samples_split=2, n_estimators=250; total time=   0.4s\n",
      "[CV] END bootstrap=True, max_depth=10, max_features=sqrt, min_samples_leaf=2, min_samples_split=2, n_estimators=250; total time=   0.4s\n",
      "[CV] END bootstrap=True, max_depth=10, max_features=sqrt, min_samples_leaf=2, min_samples_split=2, n_estimators=250; total time=   0.4s\n",
      "[CV] END bootstrap=True, max_depth=10, max_features=sqrt, min_samples_leaf=2, min_samples_split=2, n_estimators=250; total time=   0.4s\n",
      "[CV] END bootstrap=True, max_depth=10, max_features=sqrt, min_samples_leaf=2, min_samples_split=2, n_estimators=250; total time=   0.4s\n",
      "[CV] END bootstrap=False, max_depth=70, max_features=sqrt, min_samples_leaf=2, min_samples_split=10, n_estimators=250; total time=   0.3s\n",
      "[CV] END bootstrap=False, max_depth=70, max_features=sqrt, min_samples_leaf=2, min_samples_split=10, n_estimators=250; total time=   0.3s\n",
      "[CV] END bootstrap=False, max_depth=70, max_features=sqrt, min_samples_leaf=2, min_samples_split=10, n_estimators=250; total time=   0.3s\n",
      "[CV] END bootstrap=False, max_depth=70, max_features=sqrt, min_samples_leaf=2, min_samples_split=10, n_estimators=250; total time=   0.2s\n",
      "[CV] END bootstrap=False, max_depth=70, max_features=sqrt, min_samples_leaf=2, min_samples_split=10, n_estimators=250; total time=   0.2s\n",
      "[CV] END bootstrap=True, max_depth=90, max_features=auto, min_samples_leaf=4, min_samples_split=2, n_estimators=100; total time=   0.1s\n",
      "[CV] END bootstrap=True, max_depth=90, max_features=auto, min_samples_leaf=4, min_samples_split=2, n_estimators=100; total time=   0.1s\n",
      "[CV] END bootstrap=True, max_depth=90, max_features=auto, min_samples_leaf=4, min_samples_split=2, n_estimators=100; total time=   0.1s\n",
      "[CV] END bootstrap=True, max_depth=90, max_features=auto, min_samples_leaf=4, min_samples_split=2, n_estimators=100; total time=   0.1s\n",
      "[CV] END bootstrap=True, max_depth=90, max_features=auto, min_samples_leaf=4, min_samples_split=2, n_estimators=100; total time=   0.1s\n",
      "[CV] END bootstrap=True, max_depth=70, max_features=auto, min_samples_leaf=2, min_samples_split=5, n_estimators=100; total time=   0.1s\n",
      "[CV] END bootstrap=True, max_depth=70, max_features=auto, min_samples_leaf=2, min_samples_split=5, n_estimators=100; total time=   0.1s\n",
      "[CV] END bootstrap=True, max_depth=70, max_features=auto, min_samples_leaf=2, min_samples_split=5, n_estimators=100; total time=   0.1s\n",
      "[CV] END bootstrap=True, max_depth=70, max_features=auto, min_samples_leaf=2, min_samples_split=5, n_estimators=100; total time=   0.1s\n",
      "[CV] END bootstrap=True, max_depth=70, max_features=auto, min_samples_leaf=2, min_samples_split=5, n_estimators=100; total time=   0.1s\n",
      "[CV] END bootstrap=True, max_depth=70, max_features=sqrt, min_samples_leaf=1, min_samples_split=2, n_estimators=150; total time=   0.2s\n",
      "[CV] END bootstrap=True, max_depth=70, max_features=sqrt, min_samples_leaf=1, min_samples_split=2, n_estimators=150; total time=   0.3s\n",
      "[CV] END bootstrap=True, max_depth=70, max_features=sqrt, min_samples_leaf=1, min_samples_split=2, n_estimators=150; total time=   0.2s\n",
      "[CV] END bootstrap=True, max_depth=70, max_features=sqrt, min_samples_leaf=1, min_samples_split=2, n_estimators=150; total time=   0.2s\n",
      "[CV] END bootstrap=True, max_depth=70, max_features=sqrt, min_samples_leaf=1, min_samples_split=2, n_estimators=150; total time=   0.2s\n",
      "[CV] END bootstrap=False, max_depth=125, max_features=sqrt, min_samples_leaf=4, min_samples_split=2, n_estimators=300; total time=   0.3s\n",
      "[CV] END bootstrap=False, max_depth=125, max_features=sqrt, min_samples_leaf=4, min_samples_split=2, n_estimators=300; total time=   0.3s\n",
      "[CV] END bootstrap=False, max_depth=125, max_features=sqrt, min_samples_leaf=4, min_samples_split=2, n_estimators=300; total time=   0.3s\n",
      "[CV] END bootstrap=False, max_depth=125, max_features=sqrt, min_samples_leaf=4, min_samples_split=2, n_estimators=300; total time=   0.3s\n",
      "[CV] END bootstrap=False, max_depth=125, max_features=sqrt, min_samples_leaf=4, min_samples_split=2, n_estimators=300; total time=   0.3s\n",
      "[CV] END bootstrap=False, max_depth=10, max_features=sqrt, min_samples_leaf=2, min_samples_split=2, n_estimators=300; total time=   0.3s\n",
      "[CV] END bootstrap=False, max_depth=10, max_features=sqrt, min_samples_leaf=2, min_samples_split=2, n_estimators=300; total time=   0.3s\n",
      "[CV] END bootstrap=False, max_depth=10, max_features=sqrt, min_samples_leaf=2, min_samples_split=2, n_estimators=300; total time=   0.3s\n",
      "[CV] END bootstrap=False, max_depth=10, max_features=sqrt, min_samples_leaf=2, min_samples_split=2, n_estimators=300; total time=   0.3s\n",
      "[CV] END bootstrap=False, max_depth=10, max_features=sqrt, min_samples_leaf=2, min_samples_split=2, n_estimators=300; total time=   0.3s\n",
      "[CV] END bootstrap=True, max_depth=90, max_features=sqrt, min_samples_leaf=1, min_samples_split=2, n_estimators=250; total time=   0.4s\n",
      "[CV] END bootstrap=True, max_depth=90, max_features=sqrt, min_samples_leaf=1, min_samples_split=2, n_estimators=250; total time=   0.5s\n",
      "[CV] END bootstrap=True, max_depth=90, max_features=sqrt, min_samples_leaf=1, min_samples_split=2, n_estimators=250; total time=   0.4s\n",
      "[CV] END bootstrap=True, max_depth=90, max_features=sqrt, min_samples_leaf=1, min_samples_split=2, n_estimators=250; total time=   0.4s\n",
      "[CV] END bootstrap=True, max_depth=90, max_features=sqrt, min_samples_leaf=1, min_samples_split=2, n_estimators=250; total time=   0.5s\n",
      "[CV] END bootstrap=False, max_depth=70, max_features=sqrt, min_samples_leaf=1, min_samples_split=2, n_estimators=300; total time=   0.4s\n",
      "[CV] END bootstrap=False, max_depth=70, max_features=sqrt, min_samples_leaf=1, min_samples_split=2, n_estimators=300; total time=   0.4s\n",
      "[CV] END bootstrap=False, max_depth=70, max_features=sqrt, min_samples_leaf=1, min_samples_split=2, n_estimators=300; total time=   0.4s\n",
      "[CV] END bootstrap=False, max_depth=70, max_features=sqrt, min_samples_leaf=1, min_samples_split=2, n_estimators=300; total time=   0.4s\n",
      "[CV] END bootstrap=False, max_depth=70, max_features=sqrt, min_samples_leaf=1, min_samples_split=2, n_estimators=300; total time=   0.4s\n",
      "[CV] END bootstrap=True, max_depth=125, max_features=auto, min_samples_leaf=4, min_samples_split=2, n_estimators=50; total time=   0.0s\n",
      "[CV] END bootstrap=True, max_depth=125, max_features=auto, min_samples_leaf=4, min_samples_split=2, n_estimators=50; total time=   0.0s\n",
      "[CV] END bootstrap=True, max_depth=125, max_features=auto, min_samples_leaf=4, min_samples_split=2, n_estimators=50; total time=   0.0s\n",
      "[CV] END bootstrap=True, max_depth=125, max_features=auto, min_samples_leaf=4, min_samples_split=2, n_estimators=50; total time=   0.0s\n",
      "[CV] END bootstrap=True, max_depth=125, max_features=auto, min_samples_leaf=4, min_samples_split=2, n_estimators=50; total time=   0.0s\n",
      "[CV] END bootstrap=True, max_depth=100, max_features=sqrt, min_samples_leaf=1, min_samples_split=10, n_estimators=300; total time=   0.4s\n",
      "[CV] END bootstrap=True, max_depth=100, max_features=sqrt, min_samples_leaf=1, min_samples_split=10, n_estimators=300; total time=   0.5s\n",
      "[CV] END bootstrap=True, max_depth=100, max_features=sqrt, min_samples_leaf=1, min_samples_split=10, n_estimators=300; total time=   0.5s\n",
      "[CV] END bootstrap=True, max_depth=100, max_features=sqrt, min_samples_leaf=1, min_samples_split=10, n_estimators=300; total time=   0.5s\n",
      "[CV] END bootstrap=True, max_depth=100, max_features=sqrt, min_samples_leaf=1, min_samples_split=10, n_estimators=300; total time=   0.4s\n",
      "[CV] END bootstrap=True, max_depth=100, max_features=auto, min_samples_leaf=4, min_samples_split=2, n_estimators=50; total time=   0.0s\n",
      "[CV] END bootstrap=True, max_depth=100, max_features=auto, min_samples_leaf=4, min_samples_split=2, n_estimators=50; total time=   0.0s\n",
      "[CV] END bootstrap=True, max_depth=100, max_features=auto, min_samples_leaf=4, min_samples_split=2, n_estimators=50; total time=   0.0s\n",
      "[CV] END bootstrap=True, max_depth=100, max_features=auto, min_samples_leaf=4, min_samples_split=2, n_estimators=50; total time=   0.0s\n",
      "[CV] END bootstrap=True, max_depth=100, max_features=auto, min_samples_leaf=4, min_samples_split=2, n_estimators=50; total time=   0.0s\n",
      "[CV] END bootstrap=False, max_depth=30, max_features=sqrt, min_samples_leaf=2, min_samples_split=2, n_estimators=50; total time=   0.0s\n",
      "[CV] END bootstrap=False, max_depth=30, max_features=sqrt, min_samples_leaf=2, min_samples_split=2, n_estimators=50; total time=   0.0s\n",
      "[CV] END bootstrap=False, max_depth=30, max_features=sqrt, min_samples_leaf=2, min_samples_split=2, n_estimators=50; total time=   0.0s\n",
      "[CV] END bootstrap=False, max_depth=30, max_features=sqrt, min_samples_leaf=2, min_samples_split=2, n_estimators=50; total time=   0.0s\n",
      "[CV] END bootstrap=False, max_depth=30, max_features=sqrt, min_samples_leaf=2, min_samples_split=2, n_estimators=50; total time=   0.0s\n",
      "[CV] END bootstrap=True, max_depth=90, max_features=auto, min_samples_leaf=2, min_samples_split=2, n_estimators=100; total time=   0.1s\n",
      "[CV] END bootstrap=True, max_depth=90, max_features=auto, min_samples_leaf=2, min_samples_split=2, n_estimators=100; total time=   0.1s\n",
      "[CV] END bootstrap=True, max_depth=90, max_features=auto, min_samples_leaf=2, min_samples_split=2, n_estimators=100; total time=   0.1s\n",
      "[CV] END bootstrap=True, max_depth=90, max_features=auto, min_samples_leaf=2, min_samples_split=2, n_estimators=100; total time=   0.1s\n",
      "[CV] END bootstrap=True, max_depth=90, max_features=auto, min_samples_leaf=2, min_samples_split=2, n_estimators=100; total time=   0.1s\n",
      "[CV] END bootstrap=False, max_depth=90, max_features=sqrt, min_samples_leaf=1, min_samples_split=2, n_estimators=200; total time=   0.2s\n",
      "[CV] END bootstrap=False, max_depth=90, max_features=sqrt, min_samples_leaf=1, min_samples_split=2, n_estimators=200; total time=   0.2s\n",
      "[CV] END bootstrap=False, max_depth=90, max_features=sqrt, min_samples_leaf=1, min_samples_split=2, n_estimators=200; total time=   0.2s\n",
      "[CV] END bootstrap=False, max_depth=90, max_features=sqrt, min_samples_leaf=1, min_samples_split=2, n_estimators=200; total time=   0.2s\n",
      "[CV] END bootstrap=False, max_depth=90, max_features=sqrt, min_samples_leaf=1, min_samples_split=2, n_estimators=200; total time=   0.2s\n",
      "[CV] END bootstrap=True, max_depth=30, max_features=sqrt, min_samples_leaf=1, min_samples_split=2, n_estimators=200; total time=   0.3s\n",
      "[CV] END bootstrap=True, max_depth=30, max_features=sqrt, min_samples_leaf=1, min_samples_split=2, n_estimators=200; total time=   0.3s\n",
      "[CV] END bootstrap=True, max_depth=30, max_features=sqrt, min_samples_leaf=1, min_samples_split=2, n_estimators=200; total time=   0.3s\n",
      "[CV] END bootstrap=True, max_depth=30, max_features=sqrt, min_samples_leaf=1, min_samples_split=2, n_estimators=200; total time=   0.3s\n",
      "[CV] END bootstrap=True, max_depth=30, max_features=sqrt, min_samples_leaf=1, min_samples_split=2, n_estimators=200; total time=   0.3s\n",
      "[CV] END bootstrap=True, max_depth=10, max_features=sqrt, min_samples_leaf=4, min_samples_split=5, n_estimators=200; total time=   0.3s\n",
      "[CV] END bootstrap=True, max_depth=10, max_features=sqrt, min_samples_leaf=4, min_samples_split=5, n_estimators=200; total time=   0.3s\n",
      "[CV] END bootstrap=True, max_depth=10, max_features=sqrt, min_samples_leaf=4, min_samples_split=5, n_estimators=200; total time=   0.3s\n",
      "[CV] END bootstrap=True, max_depth=10, max_features=sqrt, min_samples_leaf=4, min_samples_split=5, n_estimators=200; total time=   0.3s\n",
      "[CV] END bootstrap=True, max_depth=10, max_features=sqrt, min_samples_leaf=4, min_samples_split=5, n_estimators=200; total time=   0.3s\n",
      "[CV] END bootstrap=False, max_depth=100, max_features=sqrt, min_samples_leaf=2, min_samples_split=10, n_estimators=300; total time=   0.3s\n",
      "[CV] END bootstrap=False, max_depth=100, max_features=sqrt, min_samples_leaf=2, min_samples_split=10, n_estimators=300; total time=   0.3s\n",
      "[CV] END bootstrap=False, max_depth=100, max_features=sqrt, min_samples_leaf=2, min_samples_split=10, n_estimators=300; total time=   0.3s\n",
      "[CV] END bootstrap=False, max_depth=100, max_features=sqrt, min_samples_leaf=2, min_samples_split=10, n_estimators=300; total time=   0.3s\n",
      "[CV] END bootstrap=False, max_depth=100, max_features=sqrt, min_samples_leaf=2, min_samples_split=10, n_estimators=300; total time=   0.4s\n",
      "[CV] END bootstrap=False, max_depth=100, max_features=sqrt, min_samples_leaf=4, min_samples_split=5, n_estimators=100; total time=   0.0s\n",
      "[CV] END bootstrap=False, max_depth=100, max_features=sqrt, min_samples_leaf=4, min_samples_split=5, n_estimators=100; total time=   0.0s\n",
      "[CV] END bootstrap=False, max_depth=100, max_features=sqrt, min_samples_leaf=4, min_samples_split=5, n_estimators=100; total time=   0.0s\n",
      "[CV] END bootstrap=False, max_depth=100, max_features=sqrt, min_samples_leaf=4, min_samples_split=5, n_estimators=100; total time=   0.0s\n",
      "[CV] END bootstrap=False, max_depth=100, max_features=sqrt, min_samples_leaf=4, min_samples_split=5, n_estimators=100; total time=   0.1s\n",
      "[CV] END bootstrap=True, max_depth=10, max_features=auto, min_samples_leaf=4, min_samples_split=5, n_estimators=100; total time=   0.1s\n",
      "[CV] END bootstrap=True, max_depth=10, max_features=auto, min_samples_leaf=4, min_samples_split=5, n_estimators=100; total time=   0.1s\n",
      "[CV] END bootstrap=True, max_depth=10, max_features=auto, min_samples_leaf=4, min_samples_split=5, n_estimators=100; total time=   0.1s\n",
      "[CV] END bootstrap=True, max_depth=10, max_features=auto, min_samples_leaf=4, min_samples_split=5, n_estimators=100; total time=   0.1s\n",
      "[CV] END bootstrap=True, max_depth=10, max_features=auto, min_samples_leaf=4, min_samples_split=5, n_estimators=100; total time=   0.1s\n",
      "[CV] END bootstrap=False, max_depth=100, max_features=auto, min_samples_leaf=4, min_samples_split=2, n_estimators=50; total time=   0.0s\n",
      "[CV] END bootstrap=False, max_depth=100, max_features=auto, min_samples_leaf=4, min_samples_split=2, n_estimators=50; total time=   0.0s\n",
      "[CV] END bootstrap=False, max_depth=100, max_features=auto, min_samples_leaf=4, min_samples_split=2, n_estimators=50; total time=   0.0s\n",
      "[CV] END bootstrap=False, max_depth=100, max_features=auto, min_samples_leaf=4, min_samples_split=2, n_estimators=50; total time=   0.0s\n",
      "[CV] END bootstrap=False, max_depth=100, max_features=auto, min_samples_leaf=4, min_samples_split=2, n_estimators=50; total time=   0.0s\n",
      "[CV] END bootstrap=False, max_depth=90, max_features=auto, min_samples_leaf=2, min_samples_split=2, n_estimators=150; total time=   0.2s\n",
      "[CV] END bootstrap=False, max_depth=90, max_features=auto, min_samples_leaf=2, min_samples_split=2, n_estimators=150; total time=   0.2s\n",
      "[CV] END bootstrap=False, max_depth=90, max_features=auto, min_samples_leaf=2, min_samples_split=2, n_estimators=150; total time=   0.2s\n",
      "[CV] END bootstrap=False, max_depth=90, max_features=auto, min_samples_leaf=2, min_samples_split=2, n_estimators=150; total time=   0.2s\n",
      "[CV] END bootstrap=False, max_depth=90, max_features=auto, min_samples_leaf=2, min_samples_split=2, n_estimators=150; total time=   0.2s\n",
      "[CV] END bootstrap=True, max_depth=30, max_features=sqrt, min_samples_leaf=2, min_samples_split=10, n_estimators=150; total time=   0.2s\n",
      "[CV] END bootstrap=True, max_depth=30, max_features=sqrt, min_samples_leaf=2, min_samples_split=10, n_estimators=150; total time=   0.2s\n",
      "[CV] END bootstrap=True, max_depth=30, max_features=sqrt, min_samples_leaf=2, min_samples_split=10, n_estimators=150; total time=   0.2s\n",
      "[CV] END bootstrap=True, max_depth=30, max_features=sqrt, min_samples_leaf=2, min_samples_split=10, n_estimators=150; total time=   0.2s\n",
      "[CV] END bootstrap=True, max_depth=30, max_features=sqrt, min_samples_leaf=2, min_samples_split=10, n_estimators=150; total time=   0.2s\n",
      "[CV] END bootstrap=False, max_depth=90, max_features=sqrt, min_samples_leaf=2, min_samples_split=10, n_estimators=200; total time=   0.2s\n",
      "[CV] END bootstrap=False, max_depth=90, max_features=sqrt, min_samples_leaf=2, min_samples_split=10, n_estimators=200; total time=   0.2s\n",
      "[CV] END bootstrap=False, max_depth=90, max_features=sqrt, min_samples_leaf=2, min_samples_split=10, n_estimators=200; total time=   0.2s\n",
      "[CV] END bootstrap=False, max_depth=90, max_features=sqrt, min_samples_leaf=2, min_samples_split=10, n_estimators=200; total time=   0.2s\n",
      "[CV] END bootstrap=False, max_depth=90, max_features=sqrt, min_samples_leaf=2, min_samples_split=10, n_estimators=200; total time=   0.2s\n",
      "[CV] END bootstrap=True, max_depth=50, max_features=sqrt, min_samples_leaf=4, min_samples_split=2, n_estimators=250; total time=   0.4s\n",
      "[CV] END bootstrap=True, max_depth=50, max_features=sqrt, min_samples_leaf=4, min_samples_split=2, n_estimators=250; total time=   0.4s\n",
      "[CV] END bootstrap=True, max_depth=50, max_features=sqrt, min_samples_leaf=4, min_samples_split=2, n_estimators=250; total time=   0.4s\n",
      "[CV] END bootstrap=True, max_depth=50, max_features=sqrt, min_samples_leaf=4, min_samples_split=2, n_estimators=250; total time=   0.4s\n",
      "[CV] END bootstrap=True, max_depth=50, max_features=sqrt, min_samples_leaf=4, min_samples_split=2, n_estimators=250; total time=   0.3s\n",
      "[CV] END bootstrap=False, max_depth=10, max_features=sqrt, min_samples_leaf=1, min_samples_split=10, n_estimators=100; total time=   0.0s\n",
      "[CV] END bootstrap=False, max_depth=10, max_features=sqrt, min_samples_leaf=1, min_samples_split=10, n_estimators=100; total time=   0.0s\n",
      "[CV] END bootstrap=False, max_depth=10, max_features=sqrt, min_samples_leaf=1, min_samples_split=10, n_estimators=100; total time=   0.0s\n",
      "[CV] END bootstrap=False, max_depth=10, max_features=sqrt, min_samples_leaf=1, min_samples_split=10, n_estimators=100; total time=   0.0s\n",
      "[CV] END bootstrap=False, max_depth=10, max_features=sqrt, min_samples_leaf=1, min_samples_split=10, n_estimators=100; total time=   0.0s\n",
      "[CV] END bootstrap=True, max_depth=70, max_features=auto, min_samples_leaf=4, min_samples_split=2, n_estimators=150; total time=   0.2s\n",
      "[CV] END bootstrap=True, max_depth=70, max_features=auto, min_samples_leaf=4, min_samples_split=2, n_estimators=150; total time=   0.2s\n",
      "[CV] END bootstrap=True, max_depth=70, max_features=auto, min_samples_leaf=4, min_samples_split=2, n_estimators=150; total time=   0.2s\n",
      "[CV] END bootstrap=True, max_depth=70, max_features=auto, min_samples_leaf=4, min_samples_split=2, n_estimators=150; total time=   0.2s\n",
      "[CV] END bootstrap=True, max_depth=70, max_features=auto, min_samples_leaf=4, min_samples_split=2, n_estimators=150; total time=   0.2s\n",
      "[CV] END bootstrap=True, max_depth=70, max_features=auto, min_samples_leaf=2, min_samples_split=10, n_estimators=300; total time=   0.5s\n",
      "[CV] END bootstrap=True, max_depth=70, max_features=auto, min_samples_leaf=2, min_samples_split=10, n_estimators=300; total time=   0.5s\n",
      "[CV] END bootstrap=True, max_depth=70, max_features=auto, min_samples_leaf=2, min_samples_split=10, n_estimators=300; total time=   0.5s\n",
      "[CV] END bootstrap=True, max_depth=70, max_features=auto, min_samples_leaf=2, min_samples_split=10, n_estimators=300; total time=   0.5s\n",
      "[CV] END bootstrap=True, max_depth=70, max_features=auto, min_samples_leaf=2, min_samples_split=10, n_estimators=300; total time=   0.5s\n",
      "[CV] END bootstrap=True, max_depth=30, max_features=auto, min_samples_leaf=1, min_samples_split=2, n_estimators=50; total time=   0.0s\n",
      "[CV] END bootstrap=True, max_depth=30, max_features=auto, min_samples_leaf=1, min_samples_split=2, n_estimators=50; total time=   0.0s\n",
      "[CV] END bootstrap=True, max_depth=30, max_features=auto, min_samples_leaf=1, min_samples_split=2, n_estimators=50; total time=   0.0s\n",
      "[CV] END bootstrap=True, max_depth=30, max_features=auto, min_samples_leaf=1, min_samples_split=2, n_estimators=50; total time=   0.0s\n",
      "[CV] END bootstrap=True, max_depth=30, max_features=auto, min_samples_leaf=1, min_samples_split=2, n_estimators=50; total time=   0.0s\n",
      "[CV] END bootstrap=False, max_depth=50, max_features=auto, min_samples_leaf=4, min_samples_split=5, n_estimators=150; total time=   0.1s\n",
      "[CV] END bootstrap=False, max_depth=50, max_features=auto, min_samples_leaf=4, min_samples_split=5, n_estimators=150; total time=   0.1s\n",
      "[CV] END bootstrap=False, max_depth=50, max_features=auto, min_samples_leaf=4, min_samples_split=5, n_estimators=150; total time=   0.1s\n",
      "[CV] END bootstrap=False, max_depth=50, max_features=auto, min_samples_leaf=4, min_samples_split=5, n_estimators=150; total time=   0.2s\n",
      "[CV] END bootstrap=False, max_depth=50, max_features=auto, min_samples_leaf=4, min_samples_split=5, n_estimators=150; total time=   0.1s\n",
      "[CV] END bootstrap=True, max_depth=125, max_features=auto, min_samples_leaf=4, min_samples_split=2, n_estimators=150; total time=   0.2s\n",
      "[CV] END bootstrap=True, max_depth=125, max_features=auto, min_samples_leaf=4, min_samples_split=2, n_estimators=150; total time=   0.2s\n",
      "[CV] END bootstrap=True, max_depth=125, max_features=auto, min_samples_leaf=4, min_samples_split=2, n_estimators=150; total time=   0.2s\n",
      "[CV] END bootstrap=True, max_depth=125, max_features=auto, min_samples_leaf=4, min_samples_split=2, n_estimators=150; total time=   0.2s\n",
      "[CV] END bootstrap=True, max_depth=125, max_features=auto, min_samples_leaf=4, min_samples_split=2, n_estimators=150; total time=   0.2s\n",
      "[CV] END bootstrap=False, max_depth=90, max_features=sqrt, min_samples_leaf=2, min_samples_split=10, n_estimators=300; total time=   0.4s\n",
      "[CV] END bootstrap=False, max_depth=90, max_features=sqrt, min_samples_leaf=2, min_samples_split=10, n_estimators=300; total time=   0.3s\n",
      "[CV] END bootstrap=False, max_depth=90, max_features=sqrt, min_samples_leaf=2, min_samples_split=10, n_estimators=300; total time=   0.3s\n",
      "[CV] END bootstrap=False, max_depth=90, max_features=sqrt, min_samples_leaf=2, min_samples_split=10, n_estimators=300; total time=   0.3s\n",
      "[CV] END bootstrap=False, max_depth=90, max_features=sqrt, min_samples_leaf=2, min_samples_split=10, n_estimators=300; total time=   0.5s\n",
      "[CV] END bootstrap=False, max_depth=125, max_features=auto, min_samples_leaf=2, min_samples_split=10, n_estimators=300; total time=   0.4s\n",
      "[CV] END bootstrap=False, max_depth=125, max_features=auto, min_samples_leaf=2, min_samples_split=10, n_estimators=300; total time=   0.4s\n",
      "[CV] END bootstrap=False, max_depth=125, max_features=auto, min_samples_leaf=2, min_samples_split=10, n_estimators=300; total time=   0.4s\n",
      "[CV] END bootstrap=False, max_depth=125, max_features=auto, min_samples_leaf=2, min_samples_split=10, n_estimators=300; total time=   0.4s\n",
      "[CV] END bootstrap=False, max_depth=125, max_features=auto, min_samples_leaf=2, min_samples_split=10, n_estimators=300; total time=   0.4s\n",
      "[CV] END bootstrap=False, max_depth=50, max_features=auto, min_samples_leaf=2, min_samples_split=5, n_estimators=250; total time=   0.3s\n",
      "[CV] END bootstrap=False, max_depth=50, max_features=auto, min_samples_leaf=2, min_samples_split=5, n_estimators=250; total time=   0.3s\n",
      "[CV] END bootstrap=False, max_depth=50, max_features=auto, min_samples_leaf=2, min_samples_split=5, n_estimators=250; total time=   0.3s\n",
      "[CV] END bootstrap=False, max_depth=50, max_features=auto, min_samples_leaf=2, min_samples_split=5, n_estimators=250; total time=   0.4s\n",
      "[CV] END bootstrap=False, max_depth=50, max_features=auto, min_samples_leaf=2, min_samples_split=5, n_estimators=250; total time=   0.3s\n",
      "[CV] END bootstrap=True, max_depth=70, max_features=auto, min_samples_leaf=1, min_samples_split=2, n_estimators=100; total time=   0.1s\n",
      "[CV] END bootstrap=True, max_depth=70, max_features=auto, min_samples_leaf=1, min_samples_split=2, n_estimators=100; total time=   0.1s\n",
      "[CV] END bootstrap=True, max_depth=70, max_features=auto, min_samples_leaf=1, min_samples_split=2, n_estimators=100; total time=   0.1s\n",
      "[CV] END bootstrap=True, max_depth=70, max_features=auto, min_samples_leaf=1, min_samples_split=2, n_estimators=100; total time=   0.1s\n",
      "[CV] END bootstrap=True, max_depth=70, max_features=auto, min_samples_leaf=1, min_samples_split=2, n_estimators=100; total time=   0.1s\n",
      "[CV] END bootstrap=True, max_depth=10, max_features=auto, min_samples_leaf=2, min_samples_split=2, n_estimators=300; total time=   0.6s\n",
      "[CV] END bootstrap=True, max_depth=10, max_features=auto, min_samples_leaf=2, min_samples_split=2, n_estimators=300; total time=   0.5s\n",
      "[CV] END bootstrap=True, max_depth=10, max_features=auto, min_samples_leaf=2, min_samples_split=2, n_estimators=300; total time=   0.6s\n",
      "[CV] END bootstrap=True, max_depth=10, max_features=auto, min_samples_leaf=2, min_samples_split=2, n_estimators=300; total time=   0.7s\n",
      "[CV] END bootstrap=True, max_depth=10, max_features=auto, min_samples_leaf=2, min_samples_split=2, n_estimators=300; total time=   0.6s\n",
      "[CV] END bootstrap=False, max_depth=90, max_features=sqrt, min_samples_leaf=4, min_samples_split=10, n_estimators=50; total time=   0.0s\n",
      "[CV] END bootstrap=False, max_depth=90, max_features=sqrt, min_samples_leaf=4, min_samples_split=10, n_estimators=50; total time=   0.0s\n",
      "[CV] END bootstrap=False, max_depth=90, max_features=sqrt, min_samples_leaf=4, min_samples_split=10, n_estimators=50; total time=   0.0s\n",
      "[CV] END bootstrap=False, max_depth=90, max_features=sqrt, min_samples_leaf=4, min_samples_split=10, n_estimators=50; total time=   0.0s\n",
      "[CV] END bootstrap=False, max_depth=90, max_features=sqrt, min_samples_leaf=4, min_samples_split=10, n_estimators=50; total time=   0.0s\n",
      "[CV] END bootstrap=True, max_depth=125, max_features=sqrt, min_samples_leaf=4, min_samples_split=2, n_estimators=250; total time=   0.5s\n",
      "[CV] END bootstrap=True, max_depth=125, max_features=sqrt, min_samples_leaf=4, min_samples_split=2, n_estimators=250; total time=   0.5s\n",
      "[CV] END bootstrap=True, max_depth=125, max_features=sqrt, min_samples_leaf=4, min_samples_split=2, n_estimators=250; total time=   0.4s\n",
      "[CV] END bootstrap=True, max_depth=125, max_features=sqrt, min_samples_leaf=4, min_samples_split=2, n_estimators=250; total time=   0.5s\n",
      "[CV] END bootstrap=True, max_depth=125, max_features=sqrt, min_samples_leaf=4, min_samples_split=2, n_estimators=250; total time=   0.4s\n",
      "[CV] END bootstrap=True, max_depth=70, max_features=sqrt, min_samples_leaf=2, min_samples_split=5, n_estimators=300; total time=   0.5s\n",
      "[CV] END bootstrap=True, max_depth=70, max_features=sqrt, min_samples_leaf=2, min_samples_split=5, n_estimators=300; total time=   0.5s\n",
      "[CV] END bootstrap=True, max_depth=70, max_features=sqrt, min_samples_leaf=2, min_samples_split=5, n_estimators=300; total time=   0.5s\n",
      "[CV] END bootstrap=True, max_depth=70, max_features=sqrt, min_samples_leaf=2, min_samples_split=5, n_estimators=300; total time=   0.4s\n",
      "[CV] END bootstrap=True, max_depth=70, max_features=sqrt, min_samples_leaf=2, min_samples_split=5, n_estimators=300; total time=   0.5s\n",
      "[CV] END bootstrap=True, max_depth=70, max_features=auto, min_samples_leaf=1, min_samples_split=10, n_estimators=250; total time=   0.4s\n",
      "[CV] END bootstrap=True, max_depth=70, max_features=auto, min_samples_leaf=1, min_samples_split=10, n_estimators=250; total time=   0.4s\n",
      "[CV] END bootstrap=True, max_depth=70, max_features=auto, min_samples_leaf=1, min_samples_split=10, n_estimators=250; total time=   0.4s\n",
      "[CV] END bootstrap=True, max_depth=70, max_features=auto, min_samples_leaf=1, min_samples_split=10, n_estimators=250; total time=   0.4s\n",
      "[CV] END bootstrap=True, max_depth=70, max_features=auto, min_samples_leaf=1, min_samples_split=10, n_estimators=250; total time=   0.4s\n",
      "[CV] END bootstrap=False, max_depth=125, max_features=sqrt, min_samples_leaf=4, min_samples_split=2, n_estimators=250; total time=   0.2s\n",
      "[CV] END bootstrap=False, max_depth=125, max_features=sqrt, min_samples_leaf=4, min_samples_split=2, n_estimators=250; total time=   0.2s\n",
      "[CV] END bootstrap=False, max_depth=125, max_features=sqrt, min_samples_leaf=4, min_samples_split=2, n_estimators=250; total time=   0.2s\n",
      "[CV] END bootstrap=False, max_depth=125, max_features=sqrt, min_samples_leaf=4, min_samples_split=2, n_estimators=250; total time=   0.3s\n",
      "[CV] END bootstrap=False, max_depth=125, max_features=sqrt, min_samples_leaf=4, min_samples_split=2, n_estimators=250; total time=   0.3s\n",
      "[CV] END bootstrap=False, max_depth=100, max_features=auto, min_samples_leaf=4, min_samples_split=5, n_estimators=100; total time=   0.1s\n",
      "[CV] END bootstrap=False, max_depth=100, max_features=auto, min_samples_leaf=4, min_samples_split=5, n_estimators=100; total time=   0.1s\n",
      "[CV] END bootstrap=False, max_depth=100, max_features=auto, min_samples_leaf=4, min_samples_split=5, n_estimators=100; total time=   0.1s\n",
      "[CV] END bootstrap=False, max_depth=100, max_features=auto, min_samples_leaf=4, min_samples_split=5, n_estimators=100; total time=   0.1s\n",
      "[CV] END bootstrap=False, max_depth=100, max_features=auto, min_samples_leaf=4, min_samples_split=5, n_estimators=100; total time=   0.1s\n",
      "[CV] END bootstrap=False, max_depth=70, max_features=sqrt, min_samples_leaf=1, min_samples_split=10, n_estimators=150; total time=   0.1s\n",
      "[CV] END bootstrap=False, max_depth=70, max_features=sqrt, min_samples_leaf=1, min_samples_split=10, n_estimators=150; total time=   0.1s\n",
      "[CV] END bootstrap=False, max_depth=70, max_features=sqrt, min_samples_leaf=1, min_samples_split=10, n_estimators=150; total time=   0.1s\n",
      "[CV] END bootstrap=False, max_depth=70, max_features=sqrt, min_samples_leaf=1, min_samples_split=10, n_estimators=150; total time=   0.1s\n",
      "[CV] END bootstrap=False, max_depth=70, max_features=sqrt, min_samples_leaf=1, min_samples_split=10, n_estimators=150; total time=   0.1s\n",
      "[CV] END bootstrap=True, max_depth=10, max_features=sqrt, min_samples_leaf=4, min_samples_split=5, n_estimators=150; total time=   0.2s\n",
      "[CV] END bootstrap=True, max_depth=10, max_features=sqrt, min_samples_leaf=4, min_samples_split=5, n_estimators=150; total time=   0.2s\n",
      "[CV] END bootstrap=True, max_depth=10, max_features=sqrt, min_samples_leaf=4, min_samples_split=5, n_estimators=150; total time=   0.2s\n",
      "[CV] END bootstrap=True, max_depth=10, max_features=sqrt, min_samples_leaf=4, min_samples_split=5, n_estimators=150; total time=   0.2s\n",
      "[CV] END bootstrap=True, max_depth=10, max_features=sqrt, min_samples_leaf=4, min_samples_split=5, n_estimators=150; total time=   0.2s\n",
      "[CV] END bootstrap=True, max_depth=10, max_features=auto, min_samples_leaf=2, min_samples_split=5, n_estimators=100; total time=   0.1s\n",
      "[CV] END bootstrap=True, max_depth=10, max_features=auto, min_samples_leaf=2, min_samples_split=5, n_estimators=100; total time=   0.1s\n",
      "[CV] END bootstrap=True, max_depth=10, max_features=auto, min_samples_leaf=2, min_samples_split=5, n_estimators=100; total time=   0.1s\n",
      "[CV] END bootstrap=True, max_depth=10, max_features=auto, min_samples_leaf=2, min_samples_split=5, n_estimators=100; total time=   0.1s\n",
      "[CV] END bootstrap=True, max_depth=10, max_features=auto, min_samples_leaf=2, min_samples_split=5, n_estimators=100; total time=   0.1s\n",
      "[CV] END bootstrap=True, max_depth=90, max_features=sqrt, min_samples_leaf=4, min_samples_split=2, n_estimators=300; total time=   0.4s\n",
      "[CV] END bootstrap=True, max_depth=90, max_features=sqrt, min_samples_leaf=4, min_samples_split=2, n_estimators=300; total time=   0.4s\n",
      "[CV] END bootstrap=True, max_depth=90, max_features=sqrt, min_samples_leaf=4, min_samples_split=2, n_estimators=300; total time=   0.4s\n",
      "[CV] END bootstrap=True, max_depth=90, max_features=sqrt, min_samples_leaf=4, min_samples_split=2, n_estimators=300; total time=   0.4s\n",
      "[CV] END bootstrap=True, max_depth=90, max_features=sqrt, min_samples_leaf=4, min_samples_split=2, n_estimators=300; total time=   0.4s\n",
      "[CV] END bootstrap=False, max_depth=100, max_features=sqrt, min_samples_leaf=4, min_samples_split=2, n_estimators=150; total time=   0.1s\n",
      "[CV] END bootstrap=False, max_depth=100, max_features=sqrt, min_samples_leaf=4, min_samples_split=2, n_estimators=150; total time=   0.1s\n",
      "[CV] END bootstrap=False, max_depth=100, max_features=sqrt, min_samples_leaf=4, min_samples_split=2, n_estimators=150; total time=   0.1s\n",
      "[CV] END bootstrap=False, max_depth=100, max_features=sqrt, min_samples_leaf=4, min_samples_split=2, n_estimators=150; total time=   0.1s\n",
      "[CV] END bootstrap=False, max_depth=100, max_features=sqrt, min_samples_leaf=4, min_samples_split=2, n_estimators=150; total time=   0.1s\n",
      "[CV] END bootstrap=False, max_depth=125, max_features=auto, min_samples_leaf=4, min_samples_split=5, n_estimators=300; total time=   0.4s\n",
      "[CV] END bootstrap=False, max_depth=125, max_features=auto, min_samples_leaf=4, min_samples_split=5, n_estimators=300; total time=   0.4s\n",
      "[CV] END bootstrap=False, max_depth=125, max_features=auto, min_samples_leaf=4, min_samples_split=5, n_estimators=300; total time=   0.4s\n",
      "[CV] END bootstrap=False, max_depth=125, max_features=auto, min_samples_leaf=4, min_samples_split=5, n_estimators=300; total time=   0.4s\n",
      "[CV] END bootstrap=False, max_depth=125, max_features=auto, min_samples_leaf=4, min_samples_split=5, n_estimators=300; total time=   0.4s\n",
      "[CV] END bootstrap=True, max_depth=100, max_features=sqrt, min_samples_leaf=1, min_samples_split=5, n_estimators=150; total time=   0.2s\n",
      "[CV] END bootstrap=True, max_depth=100, max_features=sqrt, min_samples_leaf=1, min_samples_split=5, n_estimators=150; total time=   0.2s\n",
      "[CV] END bootstrap=True, max_depth=100, max_features=sqrt, min_samples_leaf=1, min_samples_split=5, n_estimators=150; total time=   0.2s\n",
      "[CV] END bootstrap=True, max_depth=100, max_features=sqrt, min_samples_leaf=1, min_samples_split=5, n_estimators=150; total time=   0.2s\n",
      "[CV] END bootstrap=True, max_depth=100, max_features=sqrt, min_samples_leaf=1, min_samples_split=5, n_estimators=150; total time=   0.2s\n",
      "[CV] END bootstrap=True, max_depth=30, max_features=auto, min_samples_leaf=2, min_samples_split=10, n_estimators=300; total time=   0.5s\n",
      "[CV] END bootstrap=True, max_depth=30, max_features=auto, min_samples_leaf=2, min_samples_split=10, n_estimators=300; total time=   0.5s\n",
      "[CV] END bootstrap=True, max_depth=30, max_features=auto, min_samples_leaf=2, min_samples_split=10, n_estimators=300; total time=   0.5s\n",
      "[CV] END bootstrap=True, max_depth=30, max_features=auto, min_samples_leaf=2, min_samples_split=10, n_estimators=300; total time=   0.5s\n",
      "[CV] END bootstrap=True, max_depth=30, max_features=auto, min_samples_leaf=2, min_samples_split=10, n_estimators=300; total time=   0.5s\n",
      "[CV] END bootstrap=False, max_depth=10, max_features=auto, min_samples_leaf=4, min_samples_split=2, n_estimators=300; total time=   0.4s\n",
      "[CV] END bootstrap=False, max_depth=10, max_features=auto, min_samples_leaf=4, min_samples_split=2, n_estimators=300; total time=   0.4s\n",
      "[CV] END bootstrap=False, max_depth=10, max_features=auto, min_samples_leaf=4, min_samples_split=2, n_estimators=300; total time=   0.4s\n",
      "[CV] END bootstrap=False, max_depth=10, max_features=auto, min_samples_leaf=4, min_samples_split=2, n_estimators=300; total time=   0.4s\n",
      "[CV] END bootstrap=False, max_depth=10, max_features=auto, min_samples_leaf=4, min_samples_split=2, n_estimators=300; total time=   0.4s\n",
      "[CV] END bootstrap=False, max_depth=30, max_features=auto, min_samples_leaf=2, min_samples_split=10, n_estimators=250; total time=   0.3s\n",
      "[CV] END bootstrap=False, max_depth=30, max_features=auto, min_samples_leaf=2, min_samples_split=10, n_estimators=250; total time=   0.3s\n",
      "[CV] END bootstrap=False, max_depth=30, max_features=auto, min_samples_leaf=2, min_samples_split=10, n_estimators=250; total time=   0.4s\n",
      "[CV] END bootstrap=False, max_depth=30, max_features=auto, min_samples_leaf=2, min_samples_split=10, n_estimators=250; total time=   0.3s\n",
      "[CV] END bootstrap=False, max_depth=30, max_features=auto, min_samples_leaf=2, min_samples_split=10, n_estimators=250; total time=   0.3s\n",
      "[CV] END bootstrap=False, max_depth=125, max_features=auto, min_samples_leaf=2, min_samples_split=5, n_estimators=250; total time=   0.3s\n",
      "[CV] END bootstrap=False, max_depth=125, max_features=auto, min_samples_leaf=2, min_samples_split=5, n_estimators=250; total time=   0.3s\n",
      "[CV] END bootstrap=False, max_depth=125, max_features=auto, min_samples_leaf=2, min_samples_split=5, n_estimators=250; total time=   0.3s\n",
      "[CV] END bootstrap=False, max_depth=125, max_features=auto, min_samples_leaf=2, min_samples_split=5, n_estimators=250; total time=   0.3s\n",
      "[CV] END bootstrap=False, max_depth=125, max_features=auto, min_samples_leaf=2, min_samples_split=5, n_estimators=250; total time=   0.3s\n",
      "[CV] END bootstrap=True, max_depth=125, max_features=sqrt, min_samples_leaf=4, min_samples_split=5, n_estimators=100; total time=   0.1s\n",
      "[CV] END bootstrap=True, max_depth=125, max_features=sqrt, min_samples_leaf=4, min_samples_split=5, n_estimators=100; total time=   0.1s\n",
      "[CV] END bootstrap=True, max_depth=125, max_features=sqrt, min_samples_leaf=4, min_samples_split=5, n_estimators=100; total time=   0.1s\n",
      "[CV] END bootstrap=True, max_depth=125, max_features=sqrt, min_samples_leaf=4, min_samples_split=5, n_estimators=100; total time=   0.1s\n",
      "[CV] END bootstrap=True, max_depth=125, max_features=sqrt, min_samples_leaf=4, min_samples_split=5, n_estimators=100; total time=   0.1s\n",
      "[CV] END bootstrap=True, max_depth=50, max_features=auto, min_samples_leaf=4, min_samples_split=10, n_estimators=150; total time=   0.2s\n",
      "[CV] END bootstrap=True, max_depth=50, max_features=auto, min_samples_leaf=4, min_samples_split=10, n_estimators=150; total time=   0.2s\n",
      "[CV] END bootstrap=True, max_depth=50, max_features=auto, min_samples_leaf=4, min_samples_split=10, n_estimators=150; total time=   0.2s\n",
      "[CV] END bootstrap=True, max_depth=50, max_features=auto, min_samples_leaf=4, min_samples_split=10, n_estimators=150; total time=   0.2s\n",
      "[CV] END bootstrap=True, max_depth=50, max_features=auto, min_samples_leaf=4, min_samples_split=10, n_estimators=150; total time=   0.2s\n",
      "[CV] END bootstrap=True, max_depth=50, max_features=sqrt, min_samples_leaf=2, min_samples_split=10, n_estimators=300; total time=   0.4s\n",
      "[CV] END bootstrap=True, max_depth=50, max_features=sqrt, min_samples_leaf=2, min_samples_split=10, n_estimators=300; total time=   0.4s\n",
      "[CV] END bootstrap=True, max_depth=50, max_features=sqrt, min_samples_leaf=2, min_samples_split=10, n_estimators=300; total time=   0.4s\n",
      "[CV] END bootstrap=True, max_depth=50, max_features=sqrt, min_samples_leaf=2, min_samples_split=10, n_estimators=300; total time=   0.5s\n",
      "[CV] END bootstrap=True, max_depth=50, max_features=sqrt, min_samples_leaf=2, min_samples_split=10, n_estimators=300; total time=   0.4s\n",
      "[CV] END bootstrap=True, max_depth=50, max_features=auto, min_samples_leaf=1, min_samples_split=2, n_estimators=300; total time=   0.5s\n",
      "[CV] END bootstrap=True, max_depth=50, max_features=auto, min_samples_leaf=1, min_samples_split=2, n_estimators=300; total time=   0.6s\n",
      "[CV] END bootstrap=True, max_depth=50, max_features=auto, min_samples_leaf=1, min_samples_split=2, n_estimators=300; total time=   0.5s\n",
      "[CV] END bootstrap=True, max_depth=50, max_features=auto, min_samples_leaf=1, min_samples_split=2, n_estimators=300; total time=   0.6s\n",
      "[CV] END bootstrap=True, max_depth=50, max_features=auto, min_samples_leaf=1, min_samples_split=2, n_estimators=300; total time=   0.6s\n",
      "[CV] END bootstrap=False, max_depth=50, max_features=sqrt, min_samples_leaf=4, min_samples_split=2, n_estimators=50; total time=   0.0s\n",
      "[CV] END bootstrap=False, max_depth=50, max_features=sqrt, min_samples_leaf=4, min_samples_split=2, n_estimators=50; total time=   0.0s\n",
      "[CV] END bootstrap=False, max_depth=50, max_features=sqrt, min_samples_leaf=4, min_samples_split=2, n_estimators=50; total time=   0.0s\n",
      "[CV] END bootstrap=False, max_depth=50, max_features=sqrt, min_samples_leaf=4, min_samples_split=2, n_estimators=50; total time=   0.0s\n",
      "[CV] END bootstrap=False, max_depth=50, max_features=sqrt, min_samples_leaf=4, min_samples_split=2, n_estimators=50; total time=   0.0s\n",
      "[CV] END bootstrap=True, max_depth=90, max_features=sqrt, min_samples_leaf=2, min_samples_split=2, n_estimators=100; total time=   0.1s\n",
      "[CV] END bootstrap=True, max_depth=90, max_features=sqrt, min_samples_leaf=2, min_samples_split=2, n_estimators=100; total time=   0.1s\n",
      "[CV] END bootstrap=True, max_depth=90, max_features=sqrt, min_samples_leaf=2, min_samples_split=2, n_estimators=100; total time=   0.1s\n",
      "[CV] END bootstrap=True, max_depth=90, max_features=sqrt, min_samples_leaf=2, min_samples_split=2, n_estimators=100; total time=   0.1s\n",
      "[CV] END bootstrap=True, max_depth=90, max_features=sqrt, min_samples_leaf=2, min_samples_split=2, n_estimators=100; total time=   0.1s\n",
      "[CV] END bootstrap=True, max_depth=100, max_features=auto, min_samples_leaf=1, min_samples_split=2, n_estimators=250; total time=   0.4s\n",
      "[CV] END bootstrap=True, max_depth=100, max_features=auto, min_samples_leaf=1, min_samples_split=2, n_estimators=250; total time=   0.4s\n",
      "[CV] END bootstrap=True, max_depth=100, max_features=auto, min_samples_leaf=1, min_samples_split=2, n_estimators=250; total time=   0.5s\n",
      "[CV] END bootstrap=True, max_depth=100, max_features=auto, min_samples_leaf=1, min_samples_split=2, n_estimators=250; total time=   0.4s\n",
      "[CV] END bootstrap=True, max_depth=100, max_features=auto, min_samples_leaf=1, min_samples_split=2, n_estimators=250; total time=   0.5s\n",
      "[CV] END bootstrap=True, max_depth=30, max_features=sqrt, min_samples_leaf=2, min_samples_split=2, n_estimators=100; total time=   0.1s\n",
      "[CV] END bootstrap=True, max_depth=30, max_features=sqrt, min_samples_leaf=2, min_samples_split=2, n_estimators=100; total time=   0.1s\n",
      "[CV] END bootstrap=True, max_depth=30, max_features=sqrt, min_samples_leaf=2, min_samples_split=2, n_estimators=100; total time=   0.1s\n",
      "[CV] END bootstrap=True, max_depth=30, max_features=sqrt, min_samples_leaf=2, min_samples_split=2, n_estimators=100; total time=   0.1s\n",
      "[CV] END bootstrap=True, max_depth=30, max_features=sqrt, min_samples_leaf=2, min_samples_split=2, n_estimators=100; total time=   0.1s\n",
      "[CV] END bootstrap=False, max_depth=50, max_features=auto, min_samples_leaf=1, min_samples_split=5, n_estimators=50; total time=   0.0s\n",
      "[CV] END bootstrap=False, max_depth=50, max_features=auto, min_samples_leaf=1, min_samples_split=5, n_estimators=50; total time=   0.0s\n",
      "[CV] END bootstrap=False, max_depth=50, max_features=auto, min_samples_leaf=1, min_samples_split=5, n_estimators=50; total time=   0.0s\n",
      "[CV] END bootstrap=False, max_depth=50, max_features=auto, min_samples_leaf=1, min_samples_split=5, n_estimators=50; total time=   0.0s\n",
      "[CV] END bootstrap=False, max_depth=50, max_features=auto, min_samples_leaf=1, min_samples_split=5, n_estimators=50; total time=   0.0s\n",
      "[CV] END bootstrap=True, max_depth=90, max_features=sqrt, min_samples_leaf=4, min_samples_split=10, n_estimators=150; total time=   0.2s\n",
      "[CV] END bootstrap=True, max_depth=90, max_features=sqrt, min_samples_leaf=4, min_samples_split=10, n_estimators=150; total time=   0.2s\n",
      "[CV] END bootstrap=True, max_depth=90, max_features=sqrt, min_samples_leaf=4, min_samples_split=10, n_estimators=150; total time=   0.2s\n",
      "[CV] END bootstrap=True, max_depth=90, max_features=sqrt, min_samples_leaf=4, min_samples_split=10, n_estimators=150; total time=   0.2s\n",
      "[CV] END bootstrap=True, max_depth=90, max_features=sqrt, min_samples_leaf=4, min_samples_split=10, n_estimators=150; total time=   0.3s\n",
      "[CV] END bootstrap=False, max_depth=100, max_features=auto, min_samples_leaf=2, min_samples_split=5, n_estimators=150; total time=   0.2s\n",
      "[CV] END bootstrap=False, max_depth=100, max_features=auto, min_samples_leaf=2, min_samples_split=5, n_estimators=150; total time=   0.2s\n",
      "[CV] END bootstrap=False, max_depth=100, max_features=auto, min_samples_leaf=2, min_samples_split=5, n_estimators=150; total time=   0.2s\n",
      "[CV] END bootstrap=False, max_depth=100, max_features=auto, min_samples_leaf=2, min_samples_split=5, n_estimators=150; total time=   0.2s\n",
      "[CV] END bootstrap=False, max_depth=100, max_features=auto, min_samples_leaf=2, min_samples_split=5, n_estimators=150; total time=   0.2s\n",
      "[CV] END bootstrap=True, max_depth=10, max_features=sqrt, min_samples_leaf=4, min_samples_split=2, n_estimators=200; total time=   0.3s\n",
      "[CV] END bootstrap=True, max_depth=10, max_features=sqrt, min_samples_leaf=4, min_samples_split=2, n_estimators=200; total time=   0.3s\n",
      "[CV] END bootstrap=True, max_depth=10, max_features=sqrt, min_samples_leaf=4, min_samples_split=2, n_estimators=200; total time=   0.3s\n",
      "[CV] END bootstrap=True, max_depth=10, max_features=sqrt, min_samples_leaf=4, min_samples_split=2, n_estimators=200; total time=   0.3s\n",
      "[CV] END bootstrap=True, max_depth=10, max_features=sqrt, min_samples_leaf=4, min_samples_split=2, n_estimators=200; total time=   0.3s\n",
      "[CV] END bootstrap=False, max_depth=10, max_features=auto, min_samples_leaf=2, min_samples_split=10, n_estimators=50; total time=   0.0s\n",
      "[CV] END bootstrap=False, max_depth=10, max_features=auto, min_samples_leaf=2, min_samples_split=10, n_estimators=50; total time=   0.0s\n",
      "[CV] END bootstrap=False, max_depth=10, max_features=auto, min_samples_leaf=2, min_samples_split=10, n_estimators=50; total time=   0.0s\n",
      "[CV] END bootstrap=False, max_depth=10, max_features=auto, min_samples_leaf=2, min_samples_split=10, n_estimators=50; total time=   0.0s\n",
      "[CV] END bootstrap=False, max_depth=10, max_features=auto, min_samples_leaf=2, min_samples_split=10, n_estimators=50; total time=   0.0s\n",
      "[CV] END bootstrap=True, max_depth=90, max_features=sqrt, min_samples_leaf=4, min_samples_split=5, n_estimators=50; total time=   0.0s\n",
      "[CV] END bootstrap=True, max_depth=90, max_features=sqrt, min_samples_leaf=4, min_samples_split=5, n_estimators=50; total time=   0.0s\n",
      "[CV] END bootstrap=True, max_depth=90, max_features=sqrt, min_samples_leaf=4, min_samples_split=5, n_estimators=50; total time=   0.0s\n",
      "[CV] END bootstrap=True, max_depth=90, max_features=sqrt, min_samples_leaf=4, min_samples_split=5, n_estimators=50; total time=   0.0s\n",
      "[CV] END bootstrap=True, max_depth=90, max_features=sqrt, min_samples_leaf=4, min_samples_split=5, n_estimators=50; total time=   0.0s\n",
      "[CV] END bootstrap=True, max_depth=70, max_features=auto, min_samples_leaf=2, min_samples_split=5, n_estimators=150; total time=   0.2s\n",
      "[CV] END bootstrap=True, max_depth=70, max_features=auto, min_samples_leaf=2, min_samples_split=5, n_estimators=150; total time=   0.2s\n",
      "[CV] END bootstrap=True, max_depth=70, max_features=auto, min_samples_leaf=2, min_samples_split=5, n_estimators=150; total time=   0.2s\n",
      "[CV] END bootstrap=True, max_depth=70, max_features=auto, min_samples_leaf=2, min_samples_split=5, n_estimators=150; total time=   0.2s\n",
      "[CV] END bootstrap=True, max_depth=70, max_features=auto, min_samples_leaf=2, min_samples_split=5, n_estimators=150; total time=   0.2s\n",
      "[CV] END bootstrap=True, max_depth=70, max_features=auto, min_samples_leaf=4, min_samples_split=2, n_estimators=300; total time=   0.5s\n",
      "[CV] END bootstrap=True, max_depth=70, max_features=auto, min_samples_leaf=4, min_samples_split=2, n_estimators=300; total time=   0.5s\n",
      "[CV] END bootstrap=True, max_depth=70, max_features=auto, min_samples_leaf=4, min_samples_split=2, n_estimators=300; total time=   0.5s\n",
      "[CV] END bootstrap=True, max_depth=70, max_features=auto, min_samples_leaf=4, min_samples_split=2, n_estimators=300; total time=   0.5s\n",
      "[CV] END bootstrap=True, max_depth=70, max_features=auto, min_samples_leaf=4, min_samples_split=2, n_estimators=300; total time=   0.5s\n",
      "[CV] END bootstrap=False, max_depth=50, max_features=auto, min_samples_leaf=4, min_samples_split=5, n_estimators=50; total time=   0.0s\n",
      "[CV] END bootstrap=False, max_depth=50, max_features=auto, min_samples_leaf=4, min_samples_split=5, n_estimators=50; total time=   0.0s\n",
      "[CV] END bootstrap=False, max_depth=50, max_features=auto, min_samples_leaf=4, min_samples_split=5, n_estimators=50; total time=   0.0s\n",
      "[CV] END bootstrap=False, max_depth=50, max_features=auto, min_samples_leaf=4, min_samples_split=5, n_estimators=50; total time=   0.0s\n",
      "[CV] END bootstrap=False, max_depth=50, max_features=auto, min_samples_leaf=4, min_samples_split=5, n_estimators=50; total time=   0.0s\n",
      "[CV] END bootstrap=False, max_depth=10, max_features=sqrt, min_samples_leaf=1, min_samples_split=5, n_estimators=200; total time=   0.2s\n",
      "[CV] END bootstrap=False, max_depth=10, max_features=sqrt, min_samples_leaf=1, min_samples_split=5, n_estimators=200; total time=   0.2s\n",
      "[CV] END bootstrap=False, max_depth=10, max_features=sqrt, min_samples_leaf=1, min_samples_split=5, n_estimators=200; total time=   0.2s\n",
      "[CV] END bootstrap=False, max_depth=10, max_features=sqrt, min_samples_leaf=1, min_samples_split=5, n_estimators=200; total time=   0.2s\n",
      "[CV] END bootstrap=False, max_depth=10, max_features=sqrt, min_samples_leaf=1, min_samples_split=5, n_estimators=200; total time=   0.2s\n",
      "[CV] END bootstrap=True, max_depth=100, max_features=sqrt, min_samples_leaf=4, min_samples_split=10, n_estimators=200; total time=   0.3s\n",
      "[CV] END bootstrap=True, max_depth=100, max_features=sqrt, min_samples_leaf=4, min_samples_split=10, n_estimators=200; total time=   0.3s\n",
      "[CV] END bootstrap=True, max_depth=100, max_features=sqrt, min_samples_leaf=4, min_samples_split=10, n_estimators=200; total time=   0.3s\n",
      "[CV] END bootstrap=True, max_depth=100, max_features=sqrt, min_samples_leaf=4, min_samples_split=10, n_estimators=200; total time=   0.3s\n",
      "[CV] END bootstrap=True, max_depth=100, max_features=sqrt, min_samples_leaf=4, min_samples_split=10, n_estimators=200; total time=   0.3s\n",
      "[CV] END bootstrap=False, max_depth=90, max_features=auto, min_samples_leaf=1, min_samples_split=2, n_estimators=250; total time=   0.4s\n",
      "[CV] END bootstrap=False, max_depth=90, max_features=auto, min_samples_leaf=1, min_samples_split=2, n_estimators=250; total time=   0.4s\n",
      "[CV] END bootstrap=False, max_depth=90, max_features=auto, min_samples_leaf=1, min_samples_split=2, n_estimators=250; total time=   0.4s\n",
      "[CV] END bootstrap=False, max_depth=90, max_features=auto, min_samples_leaf=1, min_samples_split=2, n_estimators=250; total time=   0.4s\n",
      "[CV] END bootstrap=False, max_depth=90, max_features=auto, min_samples_leaf=1, min_samples_split=2, n_estimators=250; total time=   0.4s\n",
      "[CV] END bootstrap=True, max_depth=70, max_features=sqrt, min_samples_leaf=2, min_samples_split=2, n_estimators=250; total time=   0.4s\n",
      "[CV] END bootstrap=True, max_depth=70, max_features=sqrt, min_samples_leaf=2, min_samples_split=2, n_estimators=250; total time=   0.4s\n",
      "[CV] END bootstrap=True, max_depth=70, max_features=sqrt, min_samples_leaf=2, min_samples_split=2, n_estimators=250; total time=   0.5s\n",
      "[CV] END bootstrap=True, max_depth=70, max_features=sqrt, min_samples_leaf=2, min_samples_split=2, n_estimators=250; total time=   0.5s\n",
      "[CV] END bootstrap=True, max_depth=70, max_features=sqrt, min_samples_leaf=2, min_samples_split=2, n_estimators=250; total time=   0.4s\n",
      "[CV] END bootstrap=False, max_depth=100, max_features=sqrt, min_samples_leaf=4, min_samples_split=10, n_estimators=150; total time=   0.2s\n",
      "[CV] END bootstrap=False, max_depth=100, max_features=sqrt, min_samples_leaf=4, min_samples_split=10, n_estimators=150; total time=   0.1s\n",
      "[CV] END bootstrap=False, max_depth=100, max_features=sqrt, min_samples_leaf=4, min_samples_split=10, n_estimators=150; total time=   0.2s\n",
      "[CV] END bootstrap=False, max_depth=100, max_features=sqrt, min_samples_leaf=4, min_samples_split=10, n_estimators=150; total time=   0.1s\n",
      "[CV] END bootstrap=False, max_depth=100, max_features=sqrt, min_samples_leaf=4, min_samples_split=10, n_estimators=150; total time=   0.2s\n",
      "[CV] END bootstrap=False, max_depth=125, max_features=auto, min_samples_leaf=1, min_samples_split=10, n_estimators=150; total time=   0.2s\n",
      "[CV] END bootstrap=False, max_depth=125, max_features=auto, min_samples_leaf=1, min_samples_split=10, n_estimators=150; total time=   0.2s\n",
      "[CV] END bootstrap=False, max_depth=125, max_features=auto, min_samples_leaf=1, min_samples_split=10, n_estimators=150; total time=   0.2s\n",
      "[CV] END bootstrap=False, max_depth=125, max_features=auto, min_samples_leaf=1, min_samples_split=10, n_estimators=150; total time=   0.2s\n",
      "[CV] END bootstrap=False, max_depth=125, max_features=auto, min_samples_leaf=1, min_samples_split=10, n_estimators=150; total time=   0.2s\n",
      "[CV] END bootstrap=False, max_depth=125, max_features=sqrt, min_samples_leaf=1, min_samples_split=10, n_estimators=50; total time=   0.0s\n",
      "[CV] END bootstrap=False, max_depth=125, max_features=sqrt, min_samples_leaf=1, min_samples_split=10, n_estimators=50; total time=   0.0s\n",
      "[CV] END bootstrap=False, max_depth=125, max_features=sqrt, min_samples_leaf=1, min_samples_split=10, n_estimators=50; total time=   0.0s\n",
      "[CV] END bootstrap=False, max_depth=125, max_features=sqrt, min_samples_leaf=1, min_samples_split=10, n_estimators=50; total time=   0.0s\n",
      "[CV] END bootstrap=False, max_depth=125, max_features=sqrt, min_samples_leaf=1, min_samples_split=10, n_estimators=50; total time=   0.0s\n"
     ]
    },
    {
     "data": {
      "text/plain": [
       "RandomizedSearchCV(cv=5, estimator=RandomForestRegressor(), n_iter=100,\n",
       "                   param_distributions=[{'bootstrap': [True, False],\n",
       "                                         'max_depth': [10, 30, 50, 70, 90, 100,\n",
       "                                                       125],\n",
       "                                         'max_features': ['auto', 'sqrt'],\n",
       "                                         'min_samples_leaf': [1, 2, 4],\n",
       "                                         'min_samples_split': [2, 5, 10],\n",
       "                                         'n_estimators': [50, 100, 150, 200,\n",
       "                                                          250, 300]}],\n",
       "                   verbose=2)"
      ]
     },
     "execution_count": 165,
     "metadata": {},
     "output_type": "execute_result"
    }
   ],
   "source": [
    "rfr_gcv.fit(x_train_scaled, y_train)"
   ]
  },
  {
   "cell_type": "code",
   "execution_count": 166,
   "id": "362bedb5",
   "metadata": {},
   "outputs": [
    {
     "data": {
      "text/plain": [
       "{'n_estimators': 100,\n",
       " 'min_samples_split': 2,\n",
       " 'min_samples_leaf': 2,\n",
       " 'max_features': 'auto',\n",
       " 'max_depth': 90,\n",
       " 'bootstrap': True}"
      ]
     },
     "execution_count": 166,
     "metadata": {},
     "output_type": "execute_result"
    }
   ],
   "source": [
    "rfr_gcv.best_params_"
   ]
  },
  {
   "cell_type": "code",
   "execution_count": 167,
   "id": "20ca5076",
   "metadata": {
    "scrolled": true
   },
   "outputs": [
    {
     "name": "stdout",
     "output_type": "stream",
     "text": [
      "Random Forest Regressor Tuned\n",
      "R2 Score :  0.9795636889434814\n",
      "Mean Absolute Error :  0.601537034868592\n"
     ]
    }
   ],
   "source": [
    "best_rfr_estimator = rfr_gcv.best_estimator_\n",
    "rfr_y_pred = best_rfr_estimator.predict(x_test_scaled)\n",
    "mae = mean_absolute_error(y_test, rfr_y_pred)\n",
    "r2 = r2_score(y_test, rfr_y_pred)\n",
    "print('Random Forest Regressor Tuned')\n",
    "print('R2 Score : ', r2)\n",
    "print('Mean Absolute Error : ', mae)"
   ]
  },
  {
   "cell_type": "markdown",
   "id": "81961295",
   "metadata": {},
   "source": [
    "<h3> Model Deployment</h3>"
   ]
  },
  {
   "cell_type": "code",
   "execution_count": 168,
   "id": "696ec0e9",
   "metadata": {},
   "outputs": [],
   "source": [
    "import pickle"
   ]
  },
  {
   "cell_type": "code",
   "execution_count": 169,
   "id": "28e3bfb1",
   "metadata": {},
   "outputs": [],
   "source": [
    "pickle.dump(best_xgb_estimator, open('regression.pkl', 'wb'))"
   ]
  },
  {
   "cell_type": "code",
   "execution_count": 170,
   "id": "2901accc",
   "metadata": {},
   "outputs": [],
   "source": [
    "rg_pickled_model = pickle.load(open('regression.pkl', 'rb'))"
   ]
  },
  {
   "cell_type": "code",
   "execution_count": 171,
   "id": "363d889f",
   "metadata": {},
   "outputs": [
    {
     "data": {
      "text/plain": [
       "array([10.059076  ,  7.009816  ,  7.258149  ,  4.354064  ,  7.9124327 ,\n",
       "       13.094955  ,  0.21338336,  9.040291  ,  6.2978797 , 14.118885  ,\n",
       "        1.0611591 , 14.610888  ,  5.341538  , 14.768821  ,  0.71340466,\n",
       "        0.26556516,  1.1170241 ,  2.1263504 ,  4.6570163 ,  0.3091214 ,\n",
       "        5.8598456 ,  6.079256  ,  4.278066  ,  0.21338336,  2.6297576 ,\n",
       "        3.0466871 , 11.235531  ,  0.43555093,  0.24348442,  0.7292873 ,\n",
       "       17.57545   ,  0.46512282,  0.28877565, 21.712004  ,  4.6570163 ,\n",
       "        0.78956383,  0.8331201 , 16.744015  , 29.349216  ,  1.4792482 ,\n",
       "        6.27883   ,  0.7345985 ,  0.16173054,  1.9470898 ,  0.7877323 ,\n",
       "        0.16173054,  3.5470939 ,  6.6998253 ,  0.16173054,  5.3852415 ,\n",
       "        4.6570163 , 10.844801  ,  0.19130243,  2.6297576 ,  5.3314815 ,\n",
       "        2.6230266 , 11.970528  ,  3.0440896 ,  2.8678594 , 19.163216  ,\n",
       "        2.748254  ], dtype=float32)"
      ]
     },
     "execution_count": 171,
     "metadata": {},
     "output_type": "execute_result"
    }
   ],
   "source": [
    "rg_pickled_model.predict(x_test_scaled)"
   ]
  },
  {
   "cell_type": "code",
   "execution_count": null,
   "id": "88fabef0",
   "metadata": {},
   "outputs": [],
   "source": []
  },
  {
   "cell_type": "markdown",
   "id": "7408787c",
   "metadata": {},
   "source": [
    "\n",
    "\n",
    "# B) Classification"
   ]
  },
  {
   "cell_type": "markdown",
   "id": "edabd6a6",
   "metadata": {},
   "source": [
    "<h3> 1. Importing Libraries</h3>"
   ]
  },
  {
   "cell_type": "code",
   "execution_count": 172,
   "id": "a8705af0",
   "metadata": {},
   "outputs": [],
   "source": [
    "from sklearn.linear_model import LogisticRegression\n",
    "from sklearn.neighbors import KNeighborsClassifier\n",
    "from sklearn.ensemble import RandomForestClassifier\n",
    "from sklearn.svm import SVC\n",
    "from xgboost import XGBClassifier\n",
    "from sklearn.tree import DecisionTreeClassifier\n",
    "from sklearn.naive_bayes import GaussianNB\n",
    "from sklearn.metrics import classification_report,accuracy_score, plot_confusion_matrix"
   ]
  },
  {
   "cell_type": "markdown",
   "id": "e8758599",
   "metadata": {},
   "source": [
    "<h3> 2. Train Test Split </h3>"
   ]
  },
  {
   "cell_type": "code",
   "execution_count": 173,
   "id": "f22238c2",
   "metadata": {},
   "outputs": [],
   "source": [
    "classification_data = pd.read_csv('classification_data_cleaned.csv')"
   ]
  },
  {
   "cell_type": "code",
   "execution_count": 174,
   "id": "c0a3553b",
   "metadata": {},
   "outputs": [
    {
     "data": {
      "text/html": [
       "<div>\n",
       "<style scoped>\n",
       "    .dataframe tbody tr th:only-of-type {\n",
       "        vertical-align: middle;\n",
       "    }\n",
       "\n",
       "    .dataframe tbody tr th {\n",
       "        vertical-align: top;\n",
       "    }\n",
       "\n",
       "    .dataframe thead th {\n",
       "        text-align: right;\n",
       "    }\n",
       "</style>\n",
       "<table border=\"1\" class=\"dataframe\">\n",
       "  <thead>\n",
       "    <tr style=\"text-align: right;\">\n",
       "      <th></th>\n",
       "      <th>Temperature</th>\n",
       "      <th>RH</th>\n",
       "      <th>Ws</th>\n",
       "      <th>Rain</th>\n",
       "      <th>FFMC</th>\n",
       "      <th>DMC</th>\n",
       "      <th>ISI</th>\n",
       "    </tr>\n",
       "  </thead>\n",
       "  <tbody>\n",
       "    <tr>\n",
       "      <th>0</th>\n",
       "      <td>29</td>\n",
       "      <td>57</td>\n",
       "      <td>18</td>\n",
       "      <td>0.0</td>\n",
       "      <td>65.7</td>\n",
       "      <td>3.4</td>\n",
       "      <td>1.3</td>\n",
       "    </tr>\n",
       "    <tr>\n",
       "      <th>1</th>\n",
       "      <td>29</td>\n",
       "      <td>61</td>\n",
       "      <td>13</td>\n",
       "      <td>1.3</td>\n",
       "      <td>64.4</td>\n",
       "      <td>4.1</td>\n",
       "      <td>1.0</td>\n",
       "    </tr>\n",
       "    <tr>\n",
       "      <th>2</th>\n",
       "      <td>26</td>\n",
       "      <td>82</td>\n",
       "      <td>22</td>\n",
       "      <td>13.1</td>\n",
       "      <td>47.1</td>\n",
       "      <td>2.5</td>\n",
       "      <td>0.3</td>\n",
       "    </tr>\n",
       "    <tr>\n",
       "      <th>3</th>\n",
       "      <td>25</td>\n",
       "      <td>89</td>\n",
       "      <td>13</td>\n",
       "      <td>2.5</td>\n",
       "      <td>28.6</td>\n",
       "      <td>1.3</td>\n",
       "      <td>0.0</td>\n",
       "    </tr>\n",
       "    <tr>\n",
       "      <th>4</th>\n",
       "      <td>27</td>\n",
       "      <td>77</td>\n",
       "      <td>16</td>\n",
       "      <td>0.0</td>\n",
       "      <td>64.8</td>\n",
       "      <td>3.0</td>\n",
       "      <td>1.2</td>\n",
       "    </tr>\n",
       "    <tr>\n",
       "      <th>...</th>\n",
       "      <td>...</td>\n",
       "      <td>...</td>\n",
       "      <td>...</td>\n",
       "      <td>...</td>\n",
       "      <td>...</td>\n",
       "      <td>...</td>\n",
       "      <td>...</td>\n",
       "    </tr>\n",
       "    <tr>\n",
       "      <th>238</th>\n",
       "      <td>30</td>\n",
       "      <td>65</td>\n",
       "      <td>14</td>\n",
       "      <td>0.0</td>\n",
       "      <td>85.4</td>\n",
       "      <td>16.0</td>\n",
       "      <td>4.5</td>\n",
       "    </tr>\n",
       "    <tr>\n",
       "      <th>239</th>\n",
       "      <td>28</td>\n",
       "      <td>87</td>\n",
       "      <td>15</td>\n",
       "      <td>4.4</td>\n",
       "      <td>41.1</td>\n",
       "      <td>6.5</td>\n",
       "      <td>0.1</td>\n",
       "    </tr>\n",
       "    <tr>\n",
       "      <th>240</th>\n",
       "      <td>27</td>\n",
       "      <td>87</td>\n",
       "      <td>29</td>\n",
       "      <td>0.5</td>\n",
       "      <td>45.9</td>\n",
       "      <td>3.5</td>\n",
       "      <td>0.4</td>\n",
       "    </tr>\n",
       "    <tr>\n",
       "      <th>241</th>\n",
       "      <td>24</td>\n",
       "      <td>54</td>\n",
       "      <td>18</td>\n",
       "      <td>0.1</td>\n",
       "      <td>79.7</td>\n",
       "      <td>4.3</td>\n",
       "      <td>1.7</td>\n",
       "    </tr>\n",
       "    <tr>\n",
       "      <th>242</th>\n",
       "      <td>24</td>\n",
       "      <td>64</td>\n",
       "      <td>15</td>\n",
       "      <td>0.2</td>\n",
       "      <td>67.3</td>\n",
       "      <td>3.8</td>\n",
       "      <td>1.2</td>\n",
       "    </tr>\n",
       "  </tbody>\n",
       "</table>\n",
       "<p>243 rows × 7 columns</p>\n",
       "</div>"
      ],
      "text/plain": [
       "     Temperature  RH  Ws  Rain  FFMC   DMC  ISI\n",
       "0             29  57  18   0.0  65.7   3.4  1.3\n",
       "1             29  61  13   1.3  64.4   4.1  1.0\n",
       "2             26  82  22  13.1  47.1   2.5  0.3\n",
       "3             25  89  13   2.5  28.6   1.3  0.0\n",
       "4             27  77  16   0.0  64.8   3.0  1.2\n",
       "..           ...  ..  ..   ...   ...   ...  ...\n",
       "238           30  65  14   0.0  85.4  16.0  4.5\n",
       "239           28  87  15   4.4  41.1   6.5  0.1\n",
       "240           27  87  29   0.5  45.9   3.5  0.4\n",
       "241           24  54  18   0.1  79.7   4.3  1.7\n",
       "242           24  64  15   0.2  67.3   3.8  1.2\n",
       "\n",
       "[243 rows x 7 columns]"
      ]
     },
     "execution_count": 174,
     "metadata": {},
     "output_type": "execute_result"
    }
   ],
   "source": [
    "x = classification_data.iloc[:,:-1]\n",
    "x"
   ]
  },
  {
   "cell_type": "code",
   "execution_count": 175,
   "id": "804e5cc9",
   "metadata": {},
   "outputs": [
    {
     "data": {
      "text/plain": [
       "0      0\n",
       "1      0\n",
       "2      0\n",
       "3      0\n",
       "4      0\n",
       "      ..\n",
       "238    1\n",
       "239    0\n",
       "240    0\n",
       "241    0\n",
       "242    0\n",
       "Name: Classes, Length: 243, dtype: int64"
      ]
     },
     "execution_count": 175,
     "metadata": {},
     "output_type": "execute_result"
    }
   ],
   "source": [
    "y = classification_data.iloc[:,-1]\n",
    "y"
   ]
  },
  {
   "cell_type": "code",
   "execution_count": 176,
   "id": "552bb57f",
   "metadata": {},
   "outputs": [],
   "source": [
    "x_train, x_test, y_train, y_test = train_test_split(x, y, test_size = 0.25, random_state = 0)"
   ]
  },
  {
   "cell_type": "code",
   "execution_count": 177,
   "id": "3b3085b5",
   "metadata": {},
   "outputs": [
    {
     "data": {
      "text/plain": [
       "(182, 7)"
      ]
     },
     "execution_count": 177,
     "metadata": {},
     "output_type": "execute_result"
    }
   ],
   "source": [
    "x_train.shape"
   ]
  },
  {
   "cell_type": "code",
   "execution_count": 178,
   "id": "fb18758f",
   "metadata": {
    "scrolled": true
   },
   "outputs": [
    {
     "data": {
      "text/plain": [
       "(61, 7)"
      ]
     },
     "execution_count": 178,
     "metadata": {},
     "output_type": "execute_result"
    }
   ],
   "source": [
    "x_test.shape"
   ]
  },
  {
   "cell_type": "markdown",
   "id": "06bc1d97",
   "metadata": {},
   "source": [
    "<h3> 3. Feature Scaling</h3>"
   ]
  },
  {
   "cell_type": "code",
   "execution_count": 179,
   "id": "454947ce",
   "metadata": {},
   "outputs": [],
   "source": [
    "def standard_scaler(x_train, x_test):\n",
    "    scaler = StandardScaler()\n",
    "    x_train_scaled = scaler.fit_transform(x_train)\n",
    "    x_test_scaled = scaler.transform(x_test)\n",
    "    \n",
    "    return x_train_scaled, x_test_scaled"
   ]
  },
  {
   "cell_type": "code",
   "execution_count": 180,
   "id": "eff47191",
   "metadata": {},
   "outputs": [],
   "source": [
    "x_train_scaled, x_test_scaled = standard_scaler(x_train, x_test)"
   ]
  },
  {
   "cell_type": "code",
   "execution_count": 181,
   "id": "184fcf7e",
   "metadata": {},
   "outputs": [
    {
     "data": {
      "text/plain": [
       "Text(0.5, 1.0, 'X_train after scaling')"
      ]
     },
     "execution_count": 181,
     "metadata": {},
     "output_type": "execute_result"
    },
    {
     "data": {
      "image/png": "[encoded data removed]",
      "text/plain": [
       "<Figure size 1080x360 with 2 Axes>"
      ]
     },
     "metadata": {
      "needs_background": "light"
     },
     "output_type": "display_data"
    }
   ],
   "source": [
    "plt.figure(figsize = (15,5))\n",
    "plt.subplot(1,2,1)\n",
    "sns.boxplot(data= x_train)\n",
    "plt.title('X_train before scaling')\n",
    "plt.subplot(1,2,2)\n",
    "sns.boxplot(data= x_train_scaled)\n",
    "plt.title('X_train after scaling')"
   ]
  },
  {
   "cell_type": "markdown",
   "id": "a48c9a24",
   "metadata": {},
   "source": [
    "<h3> 4. Model Training</h3>"
   ]
  },
  {
   "cell_type": "code",
   "execution_count": 182,
   "id": "1f34f7d8",
   "metadata": {},
   "outputs": [],
   "source": [
    "def train_model_classification(models,model_names, x_train_scaled, x_test_scaled, y_train, y_test):\n",
    "    model_res = []\n",
    "    for model in range(len(models)):\n",
    "        regressor = models[model]\n",
    "        regressor.fit(x_train_scaled, y_train)\n",
    "        y_pred = regressor.predict(x_test_scaled)\n",
    "        accuracy = accuracy_score(y_test, y_pred)\n",
    "        cr = classification_report(y_test, y_pred)\n",
    "        model_res.append(accuracy)\n",
    "        print(f\"{'-'*30} {model_names[model]} {'-'*30}\")\n",
    "        print(\"Accuracy Score value: {:.4f}\".format(accuracy))\n",
    "        print(f'Classification_report : {cr}')\n",
    "        plt.title(f'{model_names[model]} confusion matrix')\n",
    "        plot_confusion_matrix(regressor,x_test_scaled, y_test)\n",
    "        print('*'*80)\n",
    "        \n",
    "    return pd.DataFrame(list(zip(model_names, model_res)), columns = ['Model', 'Accuracy Score value'])    "
   ]
  },
  {
   "cell_type": "code",
   "execution_count": 183,
   "id": "5a8db303",
   "metadata": {},
   "outputs": [],
   "source": [
    "classification_models = [LogisticRegression(), KNeighborsClassifier(), RandomForestClassifier(), XGBClassifier(), SVC(), DecisionTreeClassifier(), GaussianNB()]"
   ]
  },
  {
   "cell_type": "code",
   "execution_count": 184,
   "id": "a2e2426a",
   "metadata": {},
   "outputs": [],
   "source": [
    "classification_models_names = ['Logistic Regression', 'K-Nearest Classifier','Random Forest Classifier','XGB Classifier', 'SVC', 'Decision Tree Classifier', 'Naive Bayes Classifier']"
   ]
  },
  {
   "cell_type": "code",
   "execution_count": 185,
   "id": "128d52d5",
   "metadata": {
    "scrolled": true
   },
   "outputs": [
    {
     "name": "stdout",
     "output_type": "stream",
     "text": [
      "------------------------------ Logistic Regression ------------------------------\n",
      "Accuracy Score value: 0.9016\n",
      "Classification_report :               precision    recall  f1-score   support\n",
      "\n",
      "           0       0.83      0.96      0.89        26\n",
      "           1       0.97      0.86      0.91        35\n",
      "\n",
      "    accuracy                           0.90        61\n",
      "   macro avg       0.90      0.91      0.90        61\n",
      "weighted avg       0.91      0.90      0.90        61\n",
      "\n",
      "********************************************************************************\n",
      "------------------------------ K-Nearest Classifier ------------------------------\n",
      "Accuracy Score value: 0.9016\n",
      "Classification_report :               precision    recall  f1-score   support\n",
      "\n",
      "           0       0.86      0.92      0.89        26\n",
      "           1       0.94      0.89      0.91        35\n",
      "\n",
      "    accuracy                           0.90        61\n",
      "   macro avg       0.90      0.90      0.90        61\n",
      "weighted avg       0.90      0.90      0.90        61\n",
      "\n",
      "********************************************************************************\n",
      "------------------------------ Random Forest Classifier ------------------------------\n",
      "Accuracy Score value: 0.9672\n",
      "Classification_report :               precision    recall  f1-score   support\n",
      "\n",
      "           0       0.93      1.00      0.96        26\n",
      "           1       1.00      0.94      0.97        35\n",
      "\n",
      "    accuracy                           0.97        61\n",
      "   macro avg       0.96      0.97      0.97        61\n",
      "weighted avg       0.97      0.97      0.97        61\n",
      "\n",
      "********************************************************************************\n",
      "------------------------------ XGB Classifier ------------------------------\n",
      "Accuracy Score value: 0.9836\n",
      "Classification_report :               precision    recall  f1-score   support\n",
      "\n",
      "           0       0.96      1.00      0.98        26\n",
      "           1       1.00      0.97      0.99        35\n",
      "\n",
      "    accuracy                           0.98        61\n",
      "   macro avg       0.98      0.99      0.98        61\n",
      "weighted avg       0.98      0.98      0.98        61\n",
      "\n",
      "********************************************************************************\n",
      "------------------------------ SVC ------------------------------\n",
      "Accuracy Score value: 0.9016\n",
      "Classification_report :               precision    recall  f1-score   support\n",
      "\n",
      "           0       0.83      0.96      0.89        26\n",
      "           1       0.97      0.86      0.91        35\n",
      "\n",
      "    accuracy                           0.90        61\n",
      "   macro avg       0.90      0.91      0.90        61\n",
      "weighted avg       0.91      0.90      0.90        61\n",
      "\n",
      "********************************************************************************\n",
      "------------------------------ Decision Tree Classifier ------------------------------\n",
      "Accuracy Score value: 1.0000\n",
      "Classification_report :               precision    recall  f1-score   support\n",
      "\n",
      "           0       1.00      1.00      1.00        26\n",
      "           1       1.00      1.00      1.00        35\n",
      "\n",
      "    accuracy                           1.00        61\n",
      "   macro avg       1.00      1.00      1.00        61\n",
      "weighted avg       1.00      1.00      1.00        61\n",
      "\n",
      "********************************************************************************\n",
      "------------------------------ Naive Bayes Classifier ------------------------------\n",
      "Accuracy Score value: 0.9180\n",
      "Classification_report :               precision    recall  f1-score   support\n",
      "\n",
      "           0       0.86      0.96      0.91        26\n",
      "           1       0.97      0.89      0.93        35\n",
      "\n",
      "    accuracy                           0.92        61\n",
      "   macro avg       0.92      0.92      0.92        61\n",
      "weighted avg       0.92      0.92      0.92        61\n",
      "\n",
      "********************************************************************************\n"
     ]
    },
    {
     "data": {
      "image/png": "[encoded data removed]",
      "text/plain": [
       "<Figure size 432x288 with 1 Axes>"
      ]
     },
     "metadata": {
      "needs_background": "light"
     },
     "output_type": "display_data"
    },
    {
     "data": {
      "image/png": "[encoded data removed]",
      "text/plain": [
       "<Figure size 432x288 with 2 Axes>"
      ]
     },
     "metadata": {
      "needs_background": "light"
     },
     "output_type": "display_data"
    },
    {
     "data": {
      "image/png": "[encoded data removed]",
      "text/plain": [
       "<Figure size 432x288 with 2 Axes>"
      ]
     },
     "metadata": {
      "needs_background": "light"
     },
     "output_type": "display_data"
    },
    {
     "data": {
      "image/png": "[encoded data removed]",
      "text/plain": [
       "<Figure size 432x288 with 2 Axes>"
      ]
     },
     "metadata": {
      "needs_background": "light"
     },
     "output_type": "display_data"
    },
    {
     "data": {
      "image/png": "[encoded data removed]",
      "text/plain": [
       "<Figure size 432x288 with 2 Axes>"
      ]
     },
     "metadata": {
      "needs_background": "light"
     },
     "output_type": "display_data"
    },
    {
     "data": {
      "image/png": "[encoded data removed]",
      "text/plain": [
       "<Figure size 432x288 with 2 Axes>"
      ]
     },
     "metadata": {
      "needs_background": "light"
     },
     "output_type": "display_data"
    },
    {
     "data": {
      "image/png": "[encoded data removed]",
      "text/plain": [
       "<Figure size 432x288 with 2 Axes>"
      ]
     },
     "metadata": {
      "needs_background": "light"
     },
     "output_type": "display_data"
    },
    {
     "data": {
      "image/png": "[encoded data removed]",
      "text/plain": [
       "<Figure size 432x288 with 2 Axes>"
      ]
     },
     "metadata": {
      "needs_background": "light"
     },
     "output_type": "display_data"
    }
   ],
   "source": [
    "model_res = train_model_classification(classification_models,classification_models_names, x_train_scaled, x_test_scaled, y_train, y_test)"
   ]
  },
  {
   "cell_type": "code",
   "execution_count": 186,
   "id": "85a33b09",
   "metadata": {
    "scrolled": true
   },
   "outputs": [
    {
     "data": {
      "text/html": [
       "<div>\n",
       "<style scoped>\n",
       "    .dataframe tbody tr th:only-of-type {\n",
       "        vertical-align: middle;\n",
       "    }\n",
       "\n",
       "    .dataframe tbody tr th {\n",
       "        vertical-align: top;\n",
       "    }\n",
       "\n",
       "    .dataframe thead th {\n",
       "        text-align: right;\n",
       "    }\n",
       "</style>\n",
       "<table border=\"1\" class=\"dataframe\">\n",
       "  <thead>\n",
       "    <tr style=\"text-align: right;\">\n",
       "      <th></th>\n",
       "      <th>Model</th>\n",
       "      <th>Accuracy Score value</th>\n",
       "    </tr>\n",
       "  </thead>\n",
       "  <tbody>\n",
       "    <tr>\n",
       "      <th>0</th>\n",
       "      <td>Logistic Regression</td>\n",
       "      <td>0.901639</td>\n",
       "    </tr>\n",
       "    <tr>\n",
       "      <th>1</th>\n",
       "      <td>K-Nearest Classifier</td>\n",
       "      <td>0.901639</td>\n",
       "    </tr>\n",
       "    <tr>\n",
       "      <th>2</th>\n",
       "      <td>Random Forest Classifier</td>\n",
       "      <td>0.967213</td>\n",
       "    </tr>\n",
       "    <tr>\n",
       "      <th>3</th>\n",
       "      <td>XGB Classifier</td>\n",
       "      <td>0.983607</td>\n",
       "    </tr>\n",
       "    <tr>\n",
       "      <th>4</th>\n",
       "      <td>SVC</td>\n",
       "      <td>0.901639</td>\n",
       "    </tr>\n",
       "    <tr>\n",
       "      <th>5</th>\n",
       "      <td>Decision Tree Classifier</td>\n",
       "      <td>1.000000</td>\n",
       "    </tr>\n",
       "    <tr>\n",
       "      <th>6</th>\n",
       "      <td>Naive Bayes Classifier</td>\n",
       "      <td>0.918033</td>\n",
       "    </tr>\n",
       "  </tbody>\n",
       "</table>\n",
       "</div>"
      ],
      "text/plain": [
       "                      Model  Accuracy Score value\n",
       "0       Logistic Regression              0.901639\n",
       "1      K-Nearest Classifier              0.901639\n",
       "2  Random Forest Classifier              0.967213\n",
       "3            XGB Classifier              0.983607\n",
       "4                       SVC              0.901639\n",
       "5  Decision Tree Classifier              1.000000\n",
       "6    Naive Bayes Classifier              0.918033"
      ]
     },
     "execution_count": 186,
     "metadata": {},
     "output_type": "execute_result"
    }
   ],
   "source": [
    "model_res"
   ]
  },
  {
   "cell_type": "code",
   "execution_count": 187,
   "id": "e5009ff8",
   "metadata": {},
   "outputs": [
    {
     "data": {
      "text/plain": [
       "5    1.000000\n",
       "3    0.983607\n",
       "Name: Accuracy Score value, dtype: float64"
      ]
     },
     "execution_count": 187,
     "metadata": {},
     "output_type": "execute_result"
    }
   ],
   "source": [
    "model_res['Accuracy Score value'].nlargest(2)"
   ]
  },
  {
   "cell_type": "markdown",
   "id": "1c47137d",
   "metadata": {},
   "source": [
    "- As we see here, XGBoostRegressor and Random Forest Dregressor are the two most accurate models.\n",
    "- So we will perform hyperparameter tuning on these two models"
   ]
  },
  {
   "cell_type": "markdown",
   "id": "8ba1ed2e",
   "metadata": {},
   "source": [
    "<h3> 5. Hyperparamter Tuning</h3>"
   ]
  },
  {
   "cell_type": "markdown",
   "id": "74743546",
   "metadata": {},
   "source": [
    "<h3> Tuning XGBoostClassifier</h3>"
   ]
  },
  {
   "cell_type": "code",
   "execution_count": 188,
   "id": "6e3ab9cd",
   "metadata": {},
   "outputs": [],
   "source": [
    "params_grid_a = [{'max_depth':[1,2,3,4,5,6,7,8,9,10],\n",
    "                'n_estimators': [50,75,100,125,150,175,200,250],\n",
    "                'gamma': [1,2,3,4,5],\n",
    "                'learning_rate' : [.1,.2,.3],\n",
    "                'reg_alpha': [1.1, 1.2, 1.3],\n",
    "                'reg_lambda': [1.1, 1.2, 1.3],\n",
    "                'subsample': [0.7, 0.8, 0.9]\n",
    "}]"
   ]
  },
  {
   "cell_type": "code",
   "execution_count": 189,
   "id": "ef530cfa",
   "metadata": {},
   "outputs": [],
   "source": [
    "xgbc = XGBClassifier()"
   ]
  },
  {
   "cell_type": "code",
   "execution_count": 190,
   "id": "ddf164f6",
   "metadata": {},
   "outputs": [
    {
     "data": {
      "text/plain": [
       "XGBClassifier(base_score=None, booster=None, callbacks=None,\n",
       "              colsample_bylevel=None, colsample_bynode=None,\n",
       "              colsample_bytree=None, early_stopping_rounds=None,\n",
       "              enable_categorical=False, eval_metric=None, gamma=None,\n",
       "              gpu_id=None, grow_policy=None, importance_type=None,\n",
       "              interaction_constraints=None, learning_rate=None, max_bin=None,\n",
       "              max_cat_to_onehot=None, max_delta_step=None, max_depth=None,\n",
       "              max_leaves=None, min_child_weight=None, missing=nan,\n",
       "              monotone_constraints=None, n_estimators=100, n_jobs=None,\n",
       "              num_parallel_tree=None, predictor=None, random_state=None,\n",
       "              reg_alpha=None, reg_lambda=None, ...)"
      ]
     },
     "execution_count": 190,
     "metadata": {},
     "output_type": "execute_result"
    }
   ],
   "source": [
    "xgbc"
   ]
  },
  {
   "cell_type": "code",
   "execution_count": 191,
   "id": "d401b48f",
   "metadata": {},
   "outputs": [],
   "source": [
    "gcv_xgbc = RandomizedSearchCV(estimator = xgbc, param_distributions = params_grid_a,n_iter = 100, cv = 5, verbose = 2)"
   ]
  },
  {
   "cell_type": "code",
   "execution_count": 192,
   "id": "1feac2e1",
   "metadata": {},
   "outputs": [
    {
     "name": "stdout",
     "output_type": "stream",
     "text": [
      "Fitting 5 folds for each of 100 candidates, totalling 500 fits\n",
      "[CV] END gamma=2, learning_rate=0.2, max_depth=9, n_estimators=200, reg_alpha=1.2, reg_lambda=1.1, subsample=0.8; total time=   0.2s\n",
      "[CV] END gamma=2, learning_rate=0.2, max_depth=9, n_estimators=200, reg_alpha=1.2, reg_lambda=1.1, subsample=0.8; total time=   0.2s\n",
      "[CV] END gamma=2, learning_rate=0.2, max_depth=9, n_estimators=200, reg_alpha=1.2, reg_lambda=1.1, subsample=0.8; total time=   0.3s\n",
      "[CV] END gamma=2, learning_rate=0.2, max_depth=9, n_estimators=200, reg_alpha=1.2, reg_lambda=1.1, subsample=0.8; total time=   0.2s\n",
      "[CV] END gamma=2, learning_rate=0.2, max_depth=9, n_estimators=200, reg_alpha=1.2, reg_lambda=1.1, subsample=0.8; total time=   0.2s\n",
      "[CV] END gamma=1, learning_rate=0.3, max_depth=1, n_estimators=75, reg_alpha=1.2, reg_lambda=1.3, subsample=0.8; total time=   0.0s\n",
      "[CV] END gamma=1, learning_rate=0.3, max_depth=1, n_estimators=75, reg_alpha=1.2, reg_lambda=1.3, subsample=0.8; total time=   0.0s\n",
      "[CV] END gamma=1, learning_rate=0.3, max_depth=1, n_estimators=75, reg_alpha=1.2, reg_lambda=1.3, subsample=0.8; total time=   0.0s\n",
      "[CV] END gamma=1, learning_rate=0.3, max_depth=1, n_estimators=75, reg_alpha=1.2, reg_lambda=1.3, subsample=0.8; total time=   0.0s\n",
      "[CV] END gamma=1, learning_rate=0.3, max_depth=1, n_estimators=75, reg_alpha=1.2, reg_lambda=1.3, subsample=0.8; total time=   0.1s\n",
      "[CV] END gamma=3, learning_rate=0.3, max_depth=7, n_estimators=175, reg_alpha=1.1, reg_lambda=1.3, subsample=0.9; total time=   0.2s\n",
      "[CV] END gamma=3, learning_rate=0.3, max_depth=7, n_estimators=175, reg_alpha=1.1, reg_lambda=1.3, subsample=0.9; total time=   0.2s\n",
      "[CV] END gamma=3, learning_rate=0.3, max_depth=7, n_estimators=175, reg_alpha=1.1, reg_lambda=1.3, subsample=0.9; total time=   0.2s\n",
      "[CV] END gamma=3, learning_rate=0.3, max_depth=7, n_estimators=175, reg_alpha=1.1, reg_lambda=1.3, subsample=0.9; total time=   0.2s\n",
      "[CV] END gamma=3, learning_rate=0.3, max_depth=7, n_estimators=175, reg_alpha=1.1, reg_lambda=1.3, subsample=0.9; total time=   0.2s\n",
      "[CV] END gamma=2, learning_rate=0.3, max_depth=2, n_estimators=200, reg_alpha=1.1, reg_lambda=1.2, subsample=0.8; total time=   0.2s\n",
      "[CV] END gamma=2, learning_rate=0.3, max_depth=2, n_estimators=200, reg_alpha=1.1, reg_lambda=1.2, subsample=0.8; total time=   0.2s\n",
      "[CV] END gamma=2, learning_rate=0.3, max_depth=2, n_estimators=200, reg_alpha=1.1, reg_lambda=1.2, subsample=0.8; total time=   0.3s\n",
      "[CV] END gamma=2, learning_rate=0.3, max_depth=2, n_estimators=200, reg_alpha=1.1, reg_lambda=1.2, subsample=0.8; total time=   0.2s\n",
      "[CV] END gamma=2, learning_rate=0.3, max_depth=2, n_estimators=200, reg_alpha=1.1, reg_lambda=1.2, subsample=0.8; total time=   0.2s\n",
      "[CV] END gamma=5, learning_rate=0.3, max_depth=4, n_estimators=50, reg_alpha=1.1, reg_lambda=1.3, subsample=0.7; total time=   0.0s\n",
      "[CV] END gamma=5, learning_rate=0.3, max_depth=4, n_estimators=50, reg_alpha=1.1, reg_lambda=1.3, subsample=0.7; total time=   0.0s\n",
      "[CV] END gamma=5, learning_rate=0.3, max_depth=4, n_estimators=50, reg_alpha=1.1, reg_lambda=1.3, subsample=0.7; total time=   0.0s\n",
      "[CV] END gamma=5, learning_rate=0.3, max_depth=4, n_estimators=50, reg_alpha=1.1, reg_lambda=1.3, subsample=0.7; total time=   0.0s\n",
      "[CV] END gamma=5, learning_rate=0.3, max_depth=4, n_estimators=50, reg_alpha=1.1, reg_lambda=1.3, subsample=0.7; total time=   0.0s\n",
      "[CV] END gamma=3, learning_rate=0.2, max_depth=2, n_estimators=50, reg_alpha=1.1, reg_lambda=1.3, subsample=0.9; total time=   0.0s\n",
      "[CV] END gamma=3, learning_rate=0.2, max_depth=2, n_estimators=50, reg_alpha=1.1, reg_lambda=1.3, subsample=0.9; total time=   0.0s\n",
      "[CV] END gamma=3, learning_rate=0.2, max_depth=2, n_estimators=50, reg_alpha=1.1, reg_lambda=1.3, subsample=0.9; total time=   0.0s\n",
      "[CV] END gamma=3, learning_rate=0.2, max_depth=2, n_estimators=50, reg_alpha=1.1, reg_lambda=1.3, subsample=0.9; total time=   0.0s\n",
      "[CV] END gamma=3, learning_rate=0.2, max_depth=2, n_estimators=50, reg_alpha=1.1, reg_lambda=1.3, subsample=0.9; total time=   0.0s\n",
      "[CV] END gamma=3, learning_rate=0.3, max_depth=10, n_estimators=200, reg_alpha=1.3, reg_lambda=1.3, subsample=0.8; total time=   0.3s\n",
      "[CV] END gamma=3, learning_rate=0.3, max_depth=10, n_estimators=200, reg_alpha=1.3, reg_lambda=1.3, subsample=0.8; total time=   0.2s\n",
      "[CV] END gamma=3, learning_rate=0.3, max_depth=10, n_estimators=200, reg_alpha=1.3, reg_lambda=1.3, subsample=0.8; total time=   0.2s\n",
      "[CV] END gamma=3, learning_rate=0.3, max_depth=10, n_estimators=200, reg_alpha=1.3, reg_lambda=1.3, subsample=0.8; total time=   0.2s\n",
      "[CV] END gamma=3, learning_rate=0.3, max_depth=10, n_estimators=200, reg_alpha=1.3, reg_lambda=1.3, subsample=0.8; total time=   0.3s\n",
      "[CV] END gamma=1, learning_rate=0.1, max_depth=2, n_estimators=50, reg_alpha=1.2, reg_lambda=1.3, subsample=0.9; total time=   0.0s\n",
      "[CV] END gamma=1, learning_rate=0.1, max_depth=2, n_estimators=50, reg_alpha=1.2, reg_lambda=1.3, subsample=0.9; total time=   0.0s\n",
      "[CV] END gamma=1, learning_rate=0.1, max_depth=2, n_estimators=50, reg_alpha=1.2, reg_lambda=1.3, subsample=0.9; total time=   0.0s\n",
      "[CV] END gamma=1, learning_rate=0.1, max_depth=2, n_estimators=50, reg_alpha=1.2, reg_lambda=1.3, subsample=0.9; total time=   0.0s\n",
      "[CV] END gamma=1, learning_rate=0.1, max_depth=2, n_estimators=50, reg_alpha=1.2, reg_lambda=1.3, subsample=0.9; total time=   0.0s\n",
      "[CV] END gamma=4, learning_rate=0.2, max_depth=8, n_estimators=175, reg_alpha=1.3, reg_lambda=1.2, subsample=0.7; total time=   0.2s\n",
      "[CV] END gamma=4, learning_rate=0.2, max_depth=8, n_estimators=175, reg_alpha=1.3, reg_lambda=1.2, subsample=0.7; total time=   0.2s\n",
      "[CV] END gamma=4, learning_rate=0.2, max_depth=8, n_estimators=175, reg_alpha=1.3, reg_lambda=1.2, subsample=0.7; total time=   0.2s\n",
      "[CV] END gamma=4, learning_rate=0.2, max_depth=8, n_estimators=175, reg_alpha=1.3, reg_lambda=1.2, subsample=0.7; total time=   0.2s\n",
      "[CV] END gamma=4, learning_rate=0.2, max_depth=8, n_estimators=175, reg_alpha=1.3, reg_lambda=1.2, subsample=0.7; total time=   0.2s\n",
      "[CV] END gamma=5, learning_rate=0.3, max_depth=2, n_estimators=50, reg_alpha=1.2, reg_lambda=1.1, subsample=0.8; total time=   0.0s\n",
      "[CV] END gamma=5, learning_rate=0.3, max_depth=2, n_estimators=50, reg_alpha=1.2, reg_lambda=1.1, subsample=0.8; total time=   0.0s\n",
      "[CV] END gamma=5, learning_rate=0.3, max_depth=2, n_estimators=50, reg_alpha=1.2, reg_lambda=1.1, subsample=0.8; total time=   0.0s\n",
      "[CV] END gamma=5, learning_rate=0.3, max_depth=2, n_estimators=50, reg_alpha=1.2, reg_lambda=1.1, subsample=0.8; total time=   0.0s\n",
      "[CV] END gamma=5, learning_rate=0.3, max_depth=2, n_estimators=50, reg_alpha=1.2, reg_lambda=1.1, subsample=0.8; total time=   0.0s\n",
      "[CV] END gamma=2, learning_rate=0.3, max_depth=2, n_estimators=150, reg_alpha=1.3, reg_lambda=1.3, subsample=0.8; total time=   0.2s\n",
      "[CV] END gamma=2, learning_rate=0.3, max_depth=2, n_estimators=150, reg_alpha=1.3, reg_lambda=1.3, subsample=0.8; total time=   0.2s\n",
      "[CV] END gamma=2, learning_rate=0.3, max_depth=2, n_estimators=150, reg_alpha=1.3, reg_lambda=1.3, subsample=0.8; total time=   0.2s\n",
      "[CV] END gamma=2, learning_rate=0.3, max_depth=2, n_estimators=150, reg_alpha=1.3, reg_lambda=1.3, subsample=0.8; total time=   0.2s\n",
      "[CV] END gamma=2, learning_rate=0.3, max_depth=2, n_estimators=150, reg_alpha=1.3, reg_lambda=1.3, subsample=0.8; total time=   0.2s\n",
      "[CV] END gamma=5, learning_rate=0.3, max_depth=6, n_estimators=150, reg_alpha=1.2, reg_lambda=1.1, subsample=0.9; total time=   0.2s\n",
      "[CV] END gamma=5, learning_rate=0.3, max_depth=6, n_estimators=150, reg_alpha=1.2, reg_lambda=1.1, subsample=0.9; total time=   0.2s\n",
      "[CV] END gamma=5, learning_rate=0.3, max_depth=6, n_estimators=150, reg_alpha=1.2, reg_lambda=1.1, subsample=0.9; total time=   0.2s\n",
      "[CV] END gamma=5, learning_rate=0.3, max_depth=6, n_estimators=150, reg_alpha=1.2, reg_lambda=1.1, subsample=0.9; total time=   0.2s\n",
      "[CV] END gamma=5, learning_rate=0.3, max_depth=6, n_estimators=150, reg_alpha=1.2, reg_lambda=1.1, subsample=0.9; total time=   0.2s\n",
      "[CV] END gamma=4, learning_rate=0.2, max_depth=9, n_estimators=50, reg_alpha=1.2, reg_lambda=1.1, subsample=0.7; total time=   0.0s\n",
      "[CV] END gamma=4, learning_rate=0.2, max_depth=9, n_estimators=50, reg_alpha=1.2, reg_lambda=1.1, subsample=0.7; total time=   0.0s\n",
      "[CV] END gamma=4, learning_rate=0.2, max_depth=9, n_estimators=50, reg_alpha=1.2, reg_lambda=1.1, subsample=0.7; total time=   0.0s\n",
      "[CV] END gamma=4, learning_rate=0.2, max_depth=9, n_estimators=50, reg_alpha=1.2, reg_lambda=1.1, subsample=0.7; total time=   0.0s\n",
      "[CV] END gamma=4, learning_rate=0.2, max_depth=9, n_estimators=50, reg_alpha=1.2, reg_lambda=1.1, subsample=0.7; total time=   0.0s\n",
      "[CV] END gamma=3, learning_rate=0.1, max_depth=3, n_estimators=50, reg_alpha=1.2, reg_lambda=1.3, subsample=0.7; total time=   0.0s\n",
      "[CV] END gamma=3, learning_rate=0.1, max_depth=3, n_estimators=50, reg_alpha=1.2, reg_lambda=1.3, subsample=0.7; total time=   0.0s\n",
      "[CV] END gamma=3, learning_rate=0.1, max_depth=3, n_estimators=50, reg_alpha=1.2, reg_lambda=1.3, subsample=0.7; total time=   0.0s\n",
      "[CV] END gamma=3, learning_rate=0.1, max_depth=3, n_estimators=50, reg_alpha=1.2, reg_lambda=1.3, subsample=0.7; total time=   0.0s\n",
      "[CV] END gamma=3, learning_rate=0.1, max_depth=3, n_estimators=50, reg_alpha=1.2, reg_lambda=1.3, subsample=0.7; total time=   0.0s\n",
      "[CV] END gamma=5, learning_rate=0.1, max_depth=5, n_estimators=150, reg_alpha=1.3, reg_lambda=1.3, subsample=0.7; total time=   0.2s\n",
      "[CV] END gamma=5, learning_rate=0.1, max_depth=5, n_estimators=150, reg_alpha=1.3, reg_lambda=1.3, subsample=0.7; total time=   0.2s\n",
      "[CV] END gamma=5, learning_rate=0.1, max_depth=5, n_estimators=150, reg_alpha=1.3, reg_lambda=1.3, subsample=0.7; total time=   0.2s\n",
      "[CV] END gamma=5, learning_rate=0.1, max_depth=5, n_estimators=150, reg_alpha=1.3, reg_lambda=1.3, subsample=0.7; total time=   0.2s\n",
      "[CV] END gamma=5, learning_rate=0.1, max_depth=5, n_estimators=150, reg_alpha=1.3, reg_lambda=1.3, subsample=0.7; total time=   0.2s\n",
      "[CV] END gamma=4, learning_rate=0.3, max_depth=5, n_estimators=75, reg_alpha=1.1, reg_lambda=1.3, subsample=0.8; total time=   0.0s\n",
      "[CV] END gamma=4, learning_rate=0.3, max_depth=5, n_estimators=75, reg_alpha=1.1, reg_lambda=1.3, subsample=0.8; total time=   0.0s\n",
      "[CV] END gamma=4, learning_rate=0.3, max_depth=5, n_estimators=75, reg_alpha=1.1, reg_lambda=1.3, subsample=0.8; total time=   0.1s\n",
      "[CV] END gamma=4, learning_rate=0.3, max_depth=5, n_estimators=75, reg_alpha=1.1, reg_lambda=1.3, subsample=0.8; total time=   0.0s\n",
      "[CV] END gamma=4, learning_rate=0.3, max_depth=5, n_estimators=75, reg_alpha=1.1, reg_lambda=1.3, subsample=0.8; total time=   0.1s\n",
      "[CV] END gamma=3, learning_rate=0.3, max_depth=5, n_estimators=200, reg_alpha=1.2, reg_lambda=1.1, subsample=0.8; total time=   0.3s\n",
      "[CV] END gamma=3, learning_rate=0.3, max_depth=5, n_estimators=200, reg_alpha=1.2, reg_lambda=1.1, subsample=0.8; total time=   0.3s\n",
      "[CV] END gamma=3, learning_rate=0.3, max_depth=5, n_estimators=200, reg_alpha=1.2, reg_lambda=1.1, subsample=0.8; total time=   0.3s\n",
      "[CV] END gamma=3, learning_rate=0.3, max_depth=5, n_estimators=200, reg_alpha=1.2, reg_lambda=1.1, subsample=0.8; total time=   0.3s\n",
      "[CV] END gamma=3, learning_rate=0.3, max_depth=5, n_estimators=200, reg_alpha=1.2, reg_lambda=1.1, subsample=0.8; total time=   0.2s\n",
      "[CV] END gamma=4, learning_rate=0.2, max_depth=8, n_estimators=75, reg_alpha=1.1, reg_lambda=1.1, subsample=0.7; total time=   0.0s\n",
      "[CV] END gamma=4, learning_rate=0.2, max_depth=8, n_estimators=75, reg_alpha=1.1, reg_lambda=1.1, subsample=0.7; total time=   0.0s\n",
      "[CV] END gamma=4, learning_rate=0.2, max_depth=8, n_estimators=75, reg_alpha=1.1, reg_lambda=1.1, subsample=0.7; total time=   0.0s\n",
      "[CV] END gamma=4, learning_rate=0.2, max_depth=8, n_estimators=75, reg_alpha=1.1, reg_lambda=1.1, subsample=0.7; total time=   0.0s\n",
      "[CV] END gamma=4, learning_rate=0.2, max_depth=8, n_estimators=75, reg_alpha=1.1, reg_lambda=1.1, subsample=0.7; total time=   0.0s\n",
      "[CV] END gamma=3, learning_rate=0.2, max_depth=6, n_estimators=175, reg_alpha=1.3, reg_lambda=1.3, subsample=0.8; total time=   0.2s\n",
      "[CV] END gamma=3, learning_rate=0.2, max_depth=6, n_estimators=175, reg_alpha=1.3, reg_lambda=1.3, subsample=0.8; total time=   0.2s\n",
      "[CV] END gamma=3, learning_rate=0.2, max_depth=6, n_estimators=175, reg_alpha=1.3, reg_lambda=1.3, subsample=0.8; total time=   0.2s\n",
      "[CV] END gamma=3, learning_rate=0.2, max_depth=6, n_estimators=175, reg_alpha=1.3, reg_lambda=1.3, subsample=0.8; total time=   0.2s\n",
      "[CV] END gamma=3, learning_rate=0.2, max_depth=6, n_estimators=175, reg_alpha=1.3, reg_lambda=1.3, subsample=0.8; total time=   0.2s\n",
      "[CV] END gamma=3, learning_rate=0.3, max_depth=7, n_estimators=200, reg_alpha=1.1, reg_lambda=1.3, subsample=0.7; total time=   0.2s\n",
      "[CV] END gamma=3, learning_rate=0.3, max_depth=7, n_estimators=200, reg_alpha=1.1, reg_lambda=1.3, subsample=0.7; total time=   0.3s\n",
      "[CV] END gamma=3, learning_rate=0.3, max_depth=7, n_estimators=200, reg_alpha=1.1, reg_lambda=1.3, subsample=0.7; total time=   0.2s\n",
      "[CV] END gamma=3, learning_rate=0.3, max_depth=7, n_estimators=200, reg_alpha=1.1, reg_lambda=1.3, subsample=0.7; total time=   0.2s\n",
      "[CV] END gamma=3, learning_rate=0.3, max_depth=7, n_estimators=200, reg_alpha=1.1, reg_lambda=1.3, subsample=0.7; total time=   0.2s\n",
      "[CV] END gamma=3, learning_rate=0.2, max_depth=3, n_estimators=100, reg_alpha=1.1, reg_lambda=1.3, subsample=0.8; total time=   0.1s\n",
      "[CV] END gamma=3, learning_rate=0.2, max_depth=3, n_estimators=100, reg_alpha=1.1, reg_lambda=1.3, subsample=0.8; total time=   0.1s\n",
      "[CV] END gamma=3, learning_rate=0.2, max_depth=3, n_estimators=100, reg_alpha=1.1, reg_lambda=1.3, subsample=0.8; total time=   0.1s\n",
      "[CV] END gamma=3, learning_rate=0.2, max_depth=3, n_estimators=100, reg_alpha=1.1, reg_lambda=1.3, subsample=0.8; total time=   0.1s\n",
      "[CV] END gamma=3, learning_rate=0.2, max_depth=3, n_estimators=100, reg_alpha=1.1, reg_lambda=1.3, subsample=0.8; total time=   0.1s\n",
      "[CV] END gamma=1, learning_rate=0.1, max_depth=8, n_estimators=175, reg_alpha=1.3, reg_lambda=1.2, subsample=0.7; total time=   0.2s\n",
      "[CV] END gamma=1, learning_rate=0.1, max_depth=8, n_estimators=175, reg_alpha=1.3, reg_lambda=1.2, subsample=0.7; total time=   0.2s\n",
      "[CV] END gamma=1, learning_rate=0.1, max_depth=8, n_estimators=175, reg_alpha=1.3, reg_lambda=1.2, subsample=0.7; total time=   0.2s\n",
      "[CV] END gamma=1, learning_rate=0.1, max_depth=8, n_estimators=175, reg_alpha=1.3, reg_lambda=1.2, subsample=0.7; total time=   0.2s\n",
      "[CV] END gamma=1, learning_rate=0.1, max_depth=8, n_estimators=175, reg_alpha=1.3, reg_lambda=1.2, subsample=0.7; total time=   0.2s\n",
      "[CV] END gamma=5, learning_rate=0.2, max_depth=4, n_estimators=250, reg_alpha=1.3, reg_lambda=1.2, subsample=0.8; total time=   0.3s\n",
      "[CV] END gamma=5, learning_rate=0.2, max_depth=4, n_estimators=250, reg_alpha=1.3, reg_lambda=1.2, subsample=0.8; total time=   0.4s\n",
      "[CV] END gamma=5, learning_rate=0.2, max_depth=4, n_estimators=250, reg_alpha=1.3, reg_lambda=1.2, subsample=0.8; total time=   0.4s\n",
      "[CV] END gamma=5, learning_rate=0.2, max_depth=4, n_estimators=250, reg_alpha=1.3, reg_lambda=1.2, subsample=0.8; total time=   0.3s\n",
      "[CV] END gamma=5, learning_rate=0.2, max_depth=4, n_estimators=250, reg_alpha=1.3, reg_lambda=1.2, subsample=0.8; total time=   0.3s\n",
      "[CV] END gamma=1, learning_rate=0.3, max_depth=3, n_estimators=200, reg_alpha=1.2, reg_lambda=1.2, subsample=0.9; total time=   0.2s\n",
      "[CV] END gamma=1, learning_rate=0.3, max_depth=3, n_estimators=200, reg_alpha=1.2, reg_lambda=1.2, subsample=0.9; total time=   0.3s\n",
      "[CV] END gamma=1, learning_rate=0.3, max_depth=3, n_estimators=200, reg_alpha=1.2, reg_lambda=1.2, subsample=0.9; total time=   0.3s\n",
      "[CV] END gamma=1, learning_rate=0.3, max_depth=3, n_estimators=200, reg_alpha=1.2, reg_lambda=1.2, subsample=0.9; total time=   0.3s\n",
      "[CV] END gamma=1, learning_rate=0.3, max_depth=3, n_estimators=200, reg_alpha=1.2, reg_lambda=1.2, subsample=0.9; total time=   0.2s\n",
      "[CV] END gamma=3, learning_rate=0.3, max_depth=10, n_estimators=175, reg_alpha=1.3, reg_lambda=1.2, subsample=0.7; total time=   0.2s\n",
      "[CV] END gamma=3, learning_rate=0.3, max_depth=10, n_estimators=175, reg_alpha=1.3, reg_lambda=1.2, subsample=0.7; total time=   0.2s\n",
      "[CV] END gamma=3, learning_rate=0.3, max_depth=10, n_estimators=175, reg_alpha=1.3, reg_lambda=1.2, subsample=0.7; total time=   0.2s\n",
      "[CV] END gamma=3, learning_rate=0.3, max_depth=10, n_estimators=175, reg_alpha=1.3, reg_lambda=1.2, subsample=0.7; total time=   0.2s\n",
      "[CV] END gamma=3, learning_rate=0.3, max_depth=10, n_estimators=175, reg_alpha=1.3, reg_lambda=1.2, subsample=0.7; total time=   0.2s\n",
      "[CV] END gamma=5, learning_rate=0.1, max_depth=7, n_estimators=200, reg_alpha=1.2, reg_lambda=1.3, subsample=0.9; total time=   0.3s\n",
      "[CV] END gamma=5, learning_rate=0.1, max_depth=7, n_estimators=200, reg_alpha=1.2, reg_lambda=1.3, subsample=0.9; total time=   0.3s\n",
      "[CV] END gamma=5, learning_rate=0.1, max_depth=7, n_estimators=200, reg_alpha=1.2, reg_lambda=1.3, subsample=0.9; total time=   0.3s\n",
      "[CV] END gamma=5, learning_rate=0.1, max_depth=7, n_estimators=200, reg_alpha=1.2, reg_lambda=1.3, subsample=0.9; total time=   0.3s\n",
      "[CV] END gamma=5, learning_rate=0.1, max_depth=7, n_estimators=200, reg_alpha=1.2, reg_lambda=1.3, subsample=0.9; total time=   0.2s\n",
      "[CV] END gamma=4, learning_rate=0.2, max_depth=7, n_estimators=200, reg_alpha=1.2, reg_lambda=1.3, subsample=0.9; total time=   0.2s\n",
      "[CV] END gamma=4, learning_rate=0.2, max_depth=7, n_estimators=200, reg_alpha=1.2, reg_lambda=1.3, subsample=0.9; total time=   0.3s\n",
      "[CV] END gamma=4, learning_rate=0.2, max_depth=7, n_estimators=200, reg_alpha=1.2, reg_lambda=1.3, subsample=0.9; total time=   0.2s\n",
      "[CV] END gamma=4, learning_rate=0.2, max_depth=7, n_estimators=200, reg_alpha=1.2, reg_lambda=1.3, subsample=0.9; total time=   0.2s\n",
      "[CV] END gamma=4, learning_rate=0.2, max_depth=7, n_estimators=200, reg_alpha=1.2, reg_lambda=1.3, subsample=0.9; total time=   0.3s\n",
      "[CV] END gamma=3, learning_rate=0.3, max_depth=2, n_estimators=50, reg_alpha=1.3, reg_lambda=1.2, subsample=0.7; total time=   0.0s\n",
      "[CV] END gamma=3, learning_rate=0.3, max_depth=2, n_estimators=50, reg_alpha=1.3, reg_lambda=1.2, subsample=0.7; total time=   0.0s\n",
      "[CV] END gamma=3, learning_rate=0.3, max_depth=2, n_estimators=50, reg_alpha=1.3, reg_lambda=1.2, subsample=0.7; total time=   0.0s\n",
      "[CV] END gamma=3, learning_rate=0.3, max_depth=2, n_estimators=50, reg_alpha=1.3, reg_lambda=1.2, subsample=0.7; total time=   0.0s\n",
      "[CV] END gamma=3, learning_rate=0.3, max_depth=2, n_estimators=50, reg_alpha=1.3, reg_lambda=1.2, subsample=0.7; total time=   0.0s\n",
      "[CV] END gamma=5, learning_rate=0.1, max_depth=9, n_estimators=50, reg_alpha=1.1, reg_lambda=1.1, subsample=0.9; total time=   0.0s\n",
      "[CV] END gamma=5, learning_rate=0.1, max_depth=9, n_estimators=50, reg_alpha=1.1, reg_lambda=1.1, subsample=0.9; total time=   0.0s\n",
      "[CV] END gamma=5, learning_rate=0.1, max_depth=9, n_estimators=50, reg_alpha=1.1, reg_lambda=1.1, subsample=0.9; total time=   0.0s\n",
      "[CV] END gamma=5, learning_rate=0.1, max_depth=9, n_estimators=50, reg_alpha=1.1, reg_lambda=1.1, subsample=0.9; total time=   0.0s\n",
      "[CV] END gamma=5, learning_rate=0.1, max_depth=9, n_estimators=50, reg_alpha=1.1, reg_lambda=1.1, subsample=0.9; total time=   0.0s\n",
      "[CV] END gamma=5, learning_rate=0.2, max_depth=2, n_estimators=50, reg_alpha=1.2, reg_lambda=1.3, subsample=0.7; total time=   0.0s\n",
      "[CV] END gamma=5, learning_rate=0.2, max_depth=2, n_estimators=50, reg_alpha=1.2, reg_lambda=1.3, subsample=0.7; total time=   0.0s\n",
      "[CV] END gamma=5, learning_rate=0.2, max_depth=2, n_estimators=50, reg_alpha=1.2, reg_lambda=1.3, subsample=0.7; total time=   0.0s\n",
      "[CV] END gamma=5, learning_rate=0.2, max_depth=2, n_estimators=50, reg_alpha=1.2, reg_lambda=1.3, subsample=0.7; total time=   0.0s\n",
      "[CV] END gamma=5, learning_rate=0.2, max_depth=2, n_estimators=50, reg_alpha=1.2, reg_lambda=1.3, subsample=0.7; total time=   0.0s\n",
      "[CV] END gamma=2, learning_rate=0.3, max_depth=4, n_estimators=100, reg_alpha=1.1, reg_lambda=1.2, subsample=0.7; total time=   0.1s\n",
      "[CV] END gamma=2, learning_rate=0.3, max_depth=4, n_estimators=100, reg_alpha=1.1, reg_lambda=1.2, subsample=0.7; total time=   0.1s\n",
      "[CV] END gamma=2, learning_rate=0.3, max_depth=4, n_estimators=100, reg_alpha=1.1, reg_lambda=1.2, subsample=0.7; total time=   0.1s\n",
      "[CV] END gamma=2, learning_rate=0.3, max_depth=4, n_estimators=100, reg_alpha=1.1, reg_lambda=1.2, subsample=0.7; total time=   0.1s\n",
      "[CV] END gamma=2, learning_rate=0.3, max_depth=4, n_estimators=100, reg_alpha=1.1, reg_lambda=1.2, subsample=0.7; total time=   0.1s\n",
      "[CV] END gamma=1, learning_rate=0.1, max_depth=10, n_estimators=200, reg_alpha=1.1, reg_lambda=1.1, subsample=0.9; total time=   0.2s\n",
      "[CV] END gamma=1, learning_rate=0.1, max_depth=10, n_estimators=200, reg_alpha=1.1, reg_lambda=1.1, subsample=0.9; total time=   0.3s\n",
      "[CV] END gamma=1, learning_rate=0.1, max_depth=10, n_estimators=200, reg_alpha=1.1, reg_lambda=1.1, subsample=0.9; total time=   0.3s\n",
      "[CV] END gamma=1, learning_rate=0.1, max_depth=10, n_estimators=200, reg_alpha=1.1, reg_lambda=1.1, subsample=0.9; total time=   0.2s\n",
      "[CV] END gamma=1, learning_rate=0.1, max_depth=10, n_estimators=200, reg_alpha=1.1, reg_lambda=1.1, subsample=0.9; total time=   0.2s\n",
      "[CV] END gamma=5, learning_rate=0.3, max_depth=5, n_estimators=175, reg_alpha=1.1, reg_lambda=1.1, subsample=0.9; total time=   0.2s\n",
      "[CV] END gamma=5, learning_rate=0.3, max_depth=5, n_estimators=175, reg_alpha=1.1, reg_lambda=1.1, subsample=0.9; total time=   0.2s\n",
      "[CV] END gamma=5, learning_rate=0.3, max_depth=5, n_estimators=175, reg_alpha=1.1, reg_lambda=1.1, subsample=0.9; total time=   0.2s\n",
      "[CV] END gamma=5, learning_rate=0.3, max_depth=5, n_estimators=175, reg_alpha=1.1, reg_lambda=1.1, subsample=0.9; total time=   0.2s\n",
      "[CV] END gamma=5, learning_rate=0.3, max_depth=5, n_estimators=175, reg_alpha=1.1, reg_lambda=1.1, subsample=0.9; total time=   0.2s\n",
      "[CV] END gamma=4, learning_rate=0.2, max_depth=8, n_estimators=100, reg_alpha=1.3, reg_lambda=1.1, subsample=0.7; total time=   0.1s\n",
      "[CV] END gamma=4, learning_rate=0.2, max_depth=8, n_estimators=100, reg_alpha=1.3, reg_lambda=1.1, subsample=0.7; total time=   0.1s\n",
      "[CV] END gamma=4, learning_rate=0.2, max_depth=8, n_estimators=100, reg_alpha=1.3, reg_lambda=1.1, subsample=0.7; total time=   0.1s\n",
      "[CV] END gamma=4, learning_rate=0.2, max_depth=8, n_estimators=100, reg_alpha=1.3, reg_lambda=1.1, subsample=0.7; total time=   0.1s\n",
      "[CV] END gamma=4, learning_rate=0.2, max_depth=8, n_estimators=100, reg_alpha=1.3, reg_lambda=1.1, subsample=0.7; total time=   0.1s\n",
      "[CV] END gamma=1, learning_rate=0.1, max_depth=7, n_estimators=75, reg_alpha=1.2, reg_lambda=1.1, subsample=0.8; total time=   0.0s\n",
      "[CV] END gamma=1, learning_rate=0.1, max_depth=7, n_estimators=75, reg_alpha=1.2, reg_lambda=1.1, subsample=0.8; total time=   0.0s\n",
      "[CV] END gamma=1, learning_rate=0.1, max_depth=7, n_estimators=75, reg_alpha=1.2, reg_lambda=1.1, subsample=0.8; total time=   0.1s\n",
      "[CV] END gamma=1, learning_rate=0.1, max_depth=7, n_estimators=75, reg_alpha=1.2, reg_lambda=1.1, subsample=0.8; total time=   0.0s\n",
      "[CV] END gamma=1, learning_rate=0.1, max_depth=7, n_estimators=75, reg_alpha=1.2, reg_lambda=1.1, subsample=0.8; total time=   0.0s\n",
      "[CV] END gamma=5, learning_rate=0.2, max_depth=7, n_estimators=150, reg_alpha=1.3, reg_lambda=1.3, subsample=0.9; total time=   0.2s\n",
      "[CV] END gamma=5, learning_rate=0.2, max_depth=7, n_estimators=150, reg_alpha=1.3, reg_lambda=1.3, subsample=0.9; total time=   0.2s\n",
      "[CV] END gamma=5, learning_rate=0.2, max_depth=7, n_estimators=150, reg_alpha=1.3, reg_lambda=1.3, subsample=0.9; total time=   0.2s\n",
      "[CV] END gamma=5, learning_rate=0.2, max_depth=7, n_estimators=150, reg_alpha=1.3, reg_lambda=1.3, subsample=0.9; total time=   0.2s\n",
      "[CV] END gamma=5, learning_rate=0.2, max_depth=7, n_estimators=150, reg_alpha=1.3, reg_lambda=1.3, subsample=0.9; total time=   0.2s\n",
      "[CV] END gamma=1, learning_rate=0.3, max_depth=6, n_estimators=75, reg_alpha=1.2, reg_lambda=1.2, subsample=0.8; total time=   0.1s\n",
      "[CV] END gamma=1, learning_rate=0.3, max_depth=6, n_estimators=75, reg_alpha=1.2, reg_lambda=1.2, subsample=0.8; total time=   0.0s\n",
      "[CV] END gamma=1, learning_rate=0.3, max_depth=6, n_estimators=75, reg_alpha=1.2, reg_lambda=1.2, subsample=0.8; total time=   0.1s\n",
      "[CV] END gamma=1, learning_rate=0.3, max_depth=6, n_estimators=75, reg_alpha=1.2, reg_lambda=1.2, subsample=0.8; total time=   0.1s\n",
      "[CV] END gamma=1, learning_rate=0.3, max_depth=6, n_estimators=75, reg_alpha=1.2, reg_lambda=1.2, subsample=0.8; total time=   0.1s\n",
      "[CV] END gamma=5, learning_rate=0.2, max_depth=2, n_estimators=200, reg_alpha=1.2, reg_lambda=1.3, subsample=0.9; total time=   0.3s\n",
      "[CV] END gamma=5, learning_rate=0.2, max_depth=2, n_estimators=200, reg_alpha=1.2, reg_lambda=1.3, subsample=0.9; total time=   0.3s\n",
      "[CV] END gamma=5, learning_rate=0.2, max_depth=2, n_estimators=200, reg_alpha=1.2, reg_lambda=1.3, subsample=0.9; total time=   0.3s\n",
      "[CV] END gamma=5, learning_rate=0.2, max_depth=2, n_estimators=200, reg_alpha=1.2, reg_lambda=1.3, subsample=0.9; total time=   0.2s\n",
      "[CV] END gamma=5, learning_rate=0.2, max_depth=2, n_estimators=200, reg_alpha=1.2, reg_lambda=1.3, subsample=0.9; total time=   0.3s\n",
      "[CV] END gamma=4, learning_rate=0.2, max_depth=8, n_estimators=200, reg_alpha=1.3, reg_lambda=1.3, subsample=0.7; total time=   0.3s\n",
      "[CV] END gamma=4, learning_rate=0.2, max_depth=8, n_estimators=200, reg_alpha=1.3, reg_lambda=1.3, subsample=0.7; total time=   0.2s\n",
      "[CV] END gamma=4, learning_rate=0.2, max_depth=8, n_estimators=200, reg_alpha=1.3, reg_lambda=1.3, subsample=0.7; total time=   0.3s\n",
      "[CV] END gamma=4, learning_rate=0.2, max_depth=8, n_estimators=200, reg_alpha=1.3, reg_lambda=1.3, subsample=0.7; total time=   0.3s\n",
      "[CV] END gamma=4, learning_rate=0.2, max_depth=8, n_estimators=200, reg_alpha=1.3, reg_lambda=1.3, subsample=0.7; total time=   0.3s\n",
      "[CV] END gamma=3, learning_rate=0.2, max_depth=8, n_estimators=150, reg_alpha=1.1, reg_lambda=1.1, subsample=0.7; total time=   0.2s\n",
      "[CV] END gamma=3, learning_rate=0.2, max_depth=8, n_estimators=150, reg_alpha=1.1, reg_lambda=1.1, subsample=0.7; total time=   0.2s\n",
      "[CV] END gamma=3, learning_rate=0.2, max_depth=8, n_estimators=150, reg_alpha=1.1, reg_lambda=1.1, subsample=0.7; total time=   0.2s\n",
      "[CV] END gamma=3, learning_rate=0.2, max_depth=8, n_estimators=150, reg_alpha=1.1, reg_lambda=1.1, subsample=0.7; total time=   0.2s\n",
      "[CV] END gamma=3, learning_rate=0.2, max_depth=8, n_estimators=150, reg_alpha=1.1, reg_lambda=1.1, subsample=0.7; total time=   0.2s\n",
      "[CV] END gamma=5, learning_rate=0.2, max_depth=9, n_estimators=100, reg_alpha=1.1, reg_lambda=1.1, subsample=0.9; total time=   0.1s\n",
      "[CV] END gamma=5, learning_rate=0.2, max_depth=9, n_estimators=100, reg_alpha=1.1, reg_lambda=1.1, subsample=0.9; total time=   0.1s\n",
      "[CV] END gamma=5, learning_rate=0.2, max_depth=9, n_estimators=100, reg_alpha=1.1, reg_lambda=1.1, subsample=0.9; total time=   0.1s\n",
      "[CV] END gamma=5, learning_rate=0.2, max_depth=9, n_estimators=100, reg_alpha=1.1, reg_lambda=1.1, subsample=0.9; total time=   0.1s\n",
      "[CV] END gamma=5, learning_rate=0.2, max_depth=9, n_estimators=100, reg_alpha=1.1, reg_lambda=1.1, subsample=0.9; total time=   0.1s\n",
      "[CV] END gamma=3, learning_rate=0.3, max_depth=5, n_estimators=175, reg_alpha=1.2, reg_lambda=1.1, subsample=0.8; total time=   0.2s\n",
      "[CV] END gamma=3, learning_rate=0.3, max_depth=5, n_estimators=175, reg_alpha=1.2, reg_lambda=1.1, subsample=0.8; total time=   0.2s\n",
      "[CV] END gamma=3, learning_rate=0.3, max_depth=5, n_estimators=175, reg_alpha=1.2, reg_lambda=1.1, subsample=0.8; total time=   0.2s\n",
      "[CV] END gamma=3, learning_rate=0.3, max_depth=5, n_estimators=175, reg_alpha=1.2, reg_lambda=1.1, subsample=0.8; total time=   0.2s\n",
      "[CV] END gamma=3, learning_rate=0.3, max_depth=5, n_estimators=175, reg_alpha=1.2, reg_lambda=1.1, subsample=0.8; total time=   0.2s\n",
      "[CV] END gamma=3, learning_rate=0.3, max_depth=9, n_estimators=125, reg_alpha=1.3, reg_lambda=1.3, subsample=0.9; total time=   0.1s\n",
      "[CV] END gamma=3, learning_rate=0.3, max_depth=9, n_estimators=125, reg_alpha=1.3, reg_lambda=1.3, subsample=0.9; total time=   0.1s\n",
      "[CV] END gamma=3, learning_rate=0.3, max_depth=9, n_estimators=125, reg_alpha=1.3, reg_lambda=1.3, subsample=0.9; total time=   0.1s\n",
      "[CV] END gamma=3, learning_rate=0.3, max_depth=9, n_estimators=125, reg_alpha=1.3, reg_lambda=1.3, subsample=0.9; total time=   0.1s\n",
      "[CV] END gamma=3, learning_rate=0.3, max_depth=9, n_estimators=125, reg_alpha=1.3, reg_lambda=1.3, subsample=0.9; total time=   0.1s\n",
      "[CV] END gamma=2, learning_rate=0.3, max_depth=6, n_estimators=150, reg_alpha=1.1, reg_lambda=1.3, subsample=0.8; total time=   0.2s\n",
      "[CV] END gamma=2, learning_rate=0.3, max_depth=6, n_estimators=150, reg_alpha=1.1, reg_lambda=1.3, subsample=0.8; total time=   0.2s\n",
      "[CV] END gamma=2, learning_rate=0.3, max_depth=6, n_estimators=150, reg_alpha=1.1, reg_lambda=1.3, subsample=0.8; total time=   0.2s\n",
      "[CV] END gamma=2, learning_rate=0.3, max_depth=6, n_estimators=150, reg_alpha=1.1, reg_lambda=1.3, subsample=0.8; total time=   0.2s\n",
      "[CV] END gamma=2, learning_rate=0.3, max_depth=6, n_estimators=150, reg_alpha=1.1, reg_lambda=1.3, subsample=0.8; total time=   0.2s\n",
      "[CV] END gamma=4, learning_rate=0.2, max_depth=6, n_estimators=250, reg_alpha=1.1, reg_lambda=1.2, subsample=0.9; total time=   0.4s\n",
      "[CV] END gamma=4, learning_rate=0.2, max_depth=6, n_estimators=250, reg_alpha=1.1, reg_lambda=1.2, subsample=0.9; total time=   0.3s\n",
      "[CV] END gamma=4, learning_rate=0.2, max_depth=6, n_estimators=250, reg_alpha=1.1, reg_lambda=1.2, subsample=0.9; total time=   0.3s\n",
      "[CV] END gamma=4, learning_rate=0.2, max_depth=6, n_estimators=250, reg_alpha=1.1, reg_lambda=1.2, subsample=0.9; total time=   0.3s\n",
      "[CV] END gamma=4, learning_rate=0.2, max_depth=6, n_estimators=250, reg_alpha=1.1, reg_lambda=1.2, subsample=0.9; total time=   0.3s\n",
      "[CV] END gamma=5, learning_rate=0.1, max_depth=6, n_estimators=75, reg_alpha=1.1, reg_lambda=1.3, subsample=0.7; total time=   0.0s\n",
      "[CV] END gamma=5, learning_rate=0.1, max_depth=6, n_estimators=75, reg_alpha=1.1, reg_lambda=1.3, subsample=0.7; total time=   0.0s\n",
      "[CV] END gamma=5, learning_rate=0.1, max_depth=6, n_estimators=75, reg_alpha=1.1, reg_lambda=1.3, subsample=0.7; total time=   0.0s\n",
      "[CV] END gamma=5, learning_rate=0.1, max_depth=6, n_estimators=75, reg_alpha=1.1, reg_lambda=1.3, subsample=0.7; total time=   0.0s\n",
      "[CV] END gamma=5, learning_rate=0.1, max_depth=6, n_estimators=75, reg_alpha=1.1, reg_lambda=1.3, subsample=0.7; total time=   0.0s\n",
      "[CV] END gamma=4, learning_rate=0.3, max_depth=8, n_estimators=175, reg_alpha=1.1, reg_lambda=1.2, subsample=0.9; total time=   0.2s\n",
      "[CV] END gamma=4, learning_rate=0.3, max_depth=8, n_estimators=175, reg_alpha=1.1, reg_lambda=1.2, subsample=0.9; total time=   0.2s\n",
      "[CV] END gamma=4, learning_rate=0.3, max_depth=8, n_estimators=175, reg_alpha=1.1, reg_lambda=1.2, subsample=0.9; total time=   0.2s\n",
      "[CV] END gamma=4, learning_rate=0.3, max_depth=8, n_estimators=175, reg_alpha=1.1, reg_lambda=1.2, subsample=0.9; total time=   0.2s\n",
      "[CV] END gamma=4, learning_rate=0.3, max_depth=8, n_estimators=175, reg_alpha=1.1, reg_lambda=1.2, subsample=0.9; total time=   0.2s\n",
      "[CV] END gamma=5, learning_rate=0.3, max_depth=8, n_estimators=125, reg_alpha=1.2, reg_lambda=1.3, subsample=0.8; total time=   0.1s\n",
      "[CV] END gamma=5, learning_rate=0.3, max_depth=8, n_estimators=125, reg_alpha=1.2, reg_lambda=1.3, subsample=0.8; total time=   0.1s\n",
      "[CV] END gamma=5, learning_rate=0.3, max_depth=8, n_estimators=125, reg_alpha=1.2, reg_lambda=1.3, subsample=0.8; total time=   0.1s\n",
      "[CV] END gamma=5, learning_rate=0.3, max_depth=8, n_estimators=125, reg_alpha=1.2, reg_lambda=1.3, subsample=0.8; total time=   0.1s\n",
      "[CV] END gamma=5, learning_rate=0.3, max_depth=8, n_estimators=125, reg_alpha=1.2, reg_lambda=1.3, subsample=0.8; total time=   0.1s\n",
      "[CV] END gamma=5, learning_rate=0.2, max_depth=5, n_estimators=100, reg_alpha=1.2, reg_lambda=1.2, subsample=0.9; total time=   0.1s\n",
      "[CV] END gamma=5, learning_rate=0.2, max_depth=5, n_estimators=100, reg_alpha=1.2, reg_lambda=1.2, subsample=0.9; total time=   0.1s\n",
      "[CV] END gamma=5, learning_rate=0.2, max_depth=5, n_estimators=100, reg_alpha=1.2, reg_lambda=1.2, subsample=0.9; total time=   0.1s\n",
      "[CV] END gamma=5, learning_rate=0.2, max_depth=5, n_estimators=100, reg_alpha=1.2, reg_lambda=1.2, subsample=0.9; total time=   0.1s\n",
      "[CV] END gamma=5, learning_rate=0.2, max_depth=5, n_estimators=100, reg_alpha=1.2, reg_lambda=1.2, subsample=0.9; total time=   0.1s\n",
      "[CV] END gamma=5, learning_rate=0.3, max_depth=4, n_estimators=150, reg_alpha=1.1, reg_lambda=1.1, subsample=0.9; total time=   0.2s\n",
      "[CV] END gamma=5, learning_rate=0.3, max_depth=4, n_estimators=150, reg_alpha=1.1, reg_lambda=1.1, subsample=0.9; total time=   0.2s\n",
      "[CV] END gamma=5, learning_rate=0.3, max_depth=4, n_estimators=150, reg_alpha=1.1, reg_lambda=1.1, subsample=0.9; total time=   0.2s\n",
      "[CV] END gamma=5, learning_rate=0.3, max_depth=4, n_estimators=150, reg_alpha=1.1, reg_lambda=1.1, subsample=0.9; total time=   0.2s\n",
      "[CV] END gamma=5, learning_rate=0.3, max_depth=4, n_estimators=150, reg_alpha=1.1, reg_lambda=1.1, subsample=0.9; total time=   0.2s\n",
      "[CV] END gamma=3, learning_rate=0.2, max_depth=1, n_estimators=50, reg_alpha=1.2, reg_lambda=1.1, subsample=0.8; total time=   0.0s\n",
      "[CV] END gamma=3, learning_rate=0.2, max_depth=1, n_estimators=50, reg_alpha=1.2, reg_lambda=1.1, subsample=0.8; total time=   0.0s\n",
      "[CV] END gamma=3, learning_rate=0.2, max_depth=1, n_estimators=50, reg_alpha=1.2, reg_lambda=1.1, subsample=0.8; total time=   0.0s\n",
      "[CV] END gamma=3, learning_rate=0.2, max_depth=1, n_estimators=50, reg_alpha=1.2, reg_lambda=1.1, subsample=0.8; total time=   0.0s\n",
      "[CV] END gamma=3, learning_rate=0.2, max_depth=1, n_estimators=50, reg_alpha=1.2, reg_lambda=1.1, subsample=0.8; total time=   0.0s\n",
      "[CV] END gamma=1, learning_rate=0.1, max_depth=1, n_estimators=175, reg_alpha=1.1, reg_lambda=1.1, subsample=0.9; total time=   0.2s\n",
      "[CV] END gamma=1, learning_rate=0.1, max_depth=1, n_estimators=175, reg_alpha=1.1, reg_lambda=1.1, subsample=0.9; total time=   0.2s\n",
      "[CV] END gamma=1, learning_rate=0.1, max_depth=1, n_estimators=175, reg_alpha=1.1, reg_lambda=1.1, subsample=0.9; total time=   0.2s\n",
      "[CV] END gamma=1, learning_rate=0.1, max_depth=1, n_estimators=175, reg_alpha=1.1, reg_lambda=1.1, subsample=0.9; total time=   0.2s\n",
      "[CV] END gamma=1, learning_rate=0.1, max_depth=1, n_estimators=175, reg_alpha=1.1, reg_lambda=1.1, subsample=0.9; total time=   0.2s\n",
      "[CV] END gamma=3, learning_rate=0.2, max_depth=5, n_estimators=250, reg_alpha=1.3, reg_lambda=1.2, subsample=0.9; total time=   0.4s\n",
      "[CV] END gamma=3, learning_rate=0.2, max_depth=5, n_estimators=250, reg_alpha=1.3, reg_lambda=1.2, subsample=0.9; total time=   0.4s\n",
      "[CV] END gamma=3, learning_rate=0.2, max_depth=5, n_estimators=250, reg_alpha=1.3, reg_lambda=1.2, subsample=0.9; total time=   0.3s\n",
      "[CV] END gamma=3, learning_rate=0.2, max_depth=5, n_estimators=250, reg_alpha=1.3, reg_lambda=1.2, subsample=0.9; total time=   0.3s\n",
      "[CV] END gamma=3, learning_rate=0.2, max_depth=5, n_estimators=250, reg_alpha=1.3, reg_lambda=1.2, subsample=0.9; total time=   0.3s\n",
      "[CV] END gamma=1, learning_rate=0.1, max_depth=3, n_estimators=175, reg_alpha=1.1, reg_lambda=1.2, subsample=0.9; total time=   0.2s\n",
      "[CV] END gamma=1, learning_rate=0.1, max_depth=3, n_estimators=175, reg_alpha=1.1, reg_lambda=1.2, subsample=0.9; total time=   0.2s\n",
      "[CV] END gamma=1, learning_rate=0.1, max_depth=3, n_estimators=175, reg_alpha=1.1, reg_lambda=1.2, subsample=0.9; total time=   0.2s\n",
      "[CV] END gamma=1, learning_rate=0.1, max_depth=3, n_estimators=175, reg_alpha=1.1, reg_lambda=1.2, subsample=0.9; total time=   0.2s\n",
      "[CV] END gamma=1, learning_rate=0.1, max_depth=3, n_estimators=175, reg_alpha=1.1, reg_lambda=1.2, subsample=0.9; total time=   0.2s\n",
      "[CV] END gamma=3, learning_rate=0.2, max_depth=9, n_estimators=75, reg_alpha=1.2, reg_lambda=1.3, subsample=0.7; total time=   0.0s\n",
      "[CV] END gamma=3, learning_rate=0.2, max_depth=9, n_estimators=75, reg_alpha=1.2, reg_lambda=1.3, subsample=0.7; total time=   0.0s\n",
      "[CV] END gamma=3, learning_rate=0.2, max_depth=9, n_estimators=75, reg_alpha=1.2, reg_lambda=1.3, subsample=0.7; total time=   0.0s\n",
      "[CV] END gamma=3, learning_rate=0.2, max_depth=9, n_estimators=75, reg_alpha=1.2, reg_lambda=1.3, subsample=0.7; total time=   0.0s\n",
      "[CV] END gamma=3, learning_rate=0.2, max_depth=9, n_estimators=75, reg_alpha=1.2, reg_lambda=1.3, subsample=0.7; total time=   0.0s\n",
      "[CV] END gamma=2, learning_rate=0.3, max_depth=5, n_estimators=100, reg_alpha=1.3, reg_lambda=1.2, subsample=0.9; total time=   0.1s\n",
      "[CV] END gamma=2, learning_rate=0.3, max_depth=5, n_estimators=100, reg_alpha=1.3, reg_lambda=1.2, subsample=0.9; total time=   0.1s\n",
      "[CV] END gamma=2, learning_rate=0.3, max_depth=5, n_estimators=100, reg_alpha=1.3, reg_lambda=1.2, subsample=0.9; total time=   0.1s\n",
      "[CV] END gamma=2, learning_rate=0.3, max_depth=5, n_estimators=100, reg_alpha=1.3, reg_lambda=1.2, subsample=0.9; total time=   0.1s\n",
      "[CV] END gamma=2, learning_rate=0.3, max_depth=5, n_estimators=100, reg_alpha=1.3, reg_lambda=1.2, subsample=0.9; total time=   0.1s\n",
      "[CV] END gamma=1, learning_rate=0.2, max_depth=6, n_estimators=175, reg_alpha=1.1, reg_lambda=1.1, subsample=0.9; total time=   0.2s\n",
      "[CV] END gamma=1, learning_rate=0.2, max_depth=6, n_estimators=175, reg_alpha=1.1, reg_lambda=1.1, subsample=0.9; total time=   0.2s\n",
      "[CV] END gamma=1, learning_rate=0.2, max_depth=6, n_estimators=175, reg_alpha=1.1, reg_lambda=1.1, subsample=0.9; total time=   0.2s\n",
      "[CV] END gamma=1, learning_rate=0.2, max_depth=6, n_estimators=175, reg_alpha=1.1, reg_lambda=1.1, subsample=0.9; total time=   0.2s\n",
      "[CV] END gamma=1, learning_rate=0.2, max_depth=6, n_estimators=175, reg_alpha=1.1, reg_lambda=1.1, subsample=0.9; total time=   0.2s\n",
      "[CV] END gamma=1, learning_rate=0.3, max_depth=8, n_estimators=125, reg_alpha=1.3, reg_lambda=1.2, subsample=0.8; total time=   0.1s\n",
      "[CV] END gamma=1, learning_rate=0.3, max_depth=8, n_estimators=125, reg_alpha=1.3, reg_lambda=1.2, subsample=0.8; total time=   0.1s\n",
      "[CV] END gamma=1, learning_rate=0.3, max_depth=8, n_estimators=125, reg_alpha=1.3, reg_lambda=1.2, subsample=0.8; total time=   0.1s\n",
      "[CV] END gamma=1, learning_rate=0.3, max_depth=8, n_estimators=125, reg_alpha=1.3, reg_lambda=1.2, subsample=0.8; total time=   0.1s\n",
      "[CV] END gamma=1, learning_rate=0.3, max_depth=8, n_estimators=125, reg_alpha=1.3, reg_lambda=1.2, subsample=0.8; total time=   0.1s\n",
      "[CV] END gamma=1, learning_rate=0.3, max_depth=4, n_estimators=150, reg_alpha=1.3, reg_lambda=1.3, subsample=0.7; total time=   0.2s\n",
      "[CV] END gamma=1, learning_rate=0.3, max_depth=4, n_estimators=150, reg_alpha=1.3, reg_lambda=1.3, subsample=0.7; total time=   0.2s\n",
      "[CV] END gamma=1, learning_rate=0.3, max_depth=4, n_estimators=150, reg_alpha=1.3, reg_lambda=1.3, subsample=0.7; total time=   0.2s\n",
      "[CV] END gamma=1, learning_rate=0.3, max_depth=4, n_estimators=150, reg_alpha=1.3, reg_lambda=1.3, subsample=0.7; total time=   0.2s\n",
      "[CV] END gamma=1, learning_rate=0.3, max_depth=4, n_estimators=150, reg_alpha=1.3, reg_lambda=1.3, subsample=0.7; total time=   0.2s\n",
      "[CV] END gamma=4, learning_rate=0.1, max_depth=9, n_estimators=100, reg_alpha=1.3, reg_lambda=1.2, subsample=0.9; total time=   0.1s\n",
      "[CV] END gamma=4, learning_rate=0.1, max_depth=9, n_estimators=100, reg_alpha=1.3, reg_lambda=1.2, subsample=0.9; total time=   0.1s\n",
      "[CV] END gamma=4, learning_rate=0.1, max_depth=9, n_estimators=100, reg_alpha=1.3, reg_lambda=1.2, subsample=0.9; total time=   0.1s\n",
      "[CV] END gamma=4, learning_rate=0.1, max_depth=9, n_estimators=100, reg_alpha=1.3, reg_lambda=1.2, subsample=0.9; total time=   0.1s\n",
      "[CV] END gamma=4, learning_rate=0.1, max_depth=9, n_estimators=100, reg_alpha=1.3, reg_lambda=1.2, subsample=0.9; total time=   0.1s\n",
      "[CV] END gamma=2, learning_rate=0.2, max_depth=1, n_estimators=200, reg_alpha=1.2, reg_lambda=1.2, subsample=0.7; total time=   0.3s\n",
      "[CV] END gamma=2, learning_rate=0.2, max_depth=1, n_estimators=200, reg_alpha=1.2, reg_lambda=1.2, subsample=0.7; total time=   0.2s\n",
      "[CV] END gamma=2, learning_rate=0.2, max_depth=1, n_estimators=200, reg_alpha=1.2, reg_lambda=1.2, subsample=0.7; total time=   0.3s\n",
      "[CV] END gamma=2, learning_rate=0.2, max_depth=1, n_estimators=200, reg_alpha=1.2, reg_lambda=1.2, subsample=0.7; total time=   0.2s\n",
      "[CV] END gamma=2, learning_rate=0.2, max_depth=1, n_estimators=200, reg_alpha=1.2, reg_lambda=1.2, subsample=0.7; total time=   0.2s\n",
      "[CV] END gamma=2, learning_rate=0.1, max_depth=7, n_estimators=125, reg_alpha=1.3, reg_lambda=1.3, subsample=0.7; total time=   0.1s\n",
      "[CV] END gamma=2, learning_rate=0.1, max_depth=7, n_estimators=125, reg_alpha=1.3, reg_lambda=1.3, subsample=0.7; total time=   0.1s\n",
      "[CV] END gamma=2, learning_rate=0.1, max_depth=7, n_estimators=125, reg_alpha=1.3, reg_lambda=1.3, subsample=0.7; total time=   0.1s\n",
      "[CV] END gamma=2, learning_rate=0.1, max_depth=7, n_estimators=125, reg_alpha=1.3, reg_lambda=1.3, subsample=0.7; total time=   0.1s\n",
      "[CV] END gamma=2, learning_rate=0.1, max_depth=7, n_estimators=125, reg_alpha=1.3, reg_lambda=1.3, subsample=0.7; total time=   0.1s\n",
      "[CV] END gamma=1, learning_rate=0.1, max_depth=8, n_estimators=75, reg_alpha=1.2, reg_lambda=1.1, subsample=0.9; total time=   0.0s\n",
      "[CV] END gamma=1, learning_rate=0.1, max_depth=8, n_estimators=75, reg_alpha=1.2, reg_lambda=1.1, subsample=0.9; total time=   0.0s\n",
      "[CV] END gamma=1, learning_rate=0.1, max_depth=8, n_estimators=75, reg_alpha=1.2, reg_lambda=1.1, subsample=0.9; total time=   0.0s\n",
      "[CV] END gamma=1, learning_rate=0.1, max_depth=8, n_estimators=75, reg_alpha=1.2, reg_lambda=1.1, subsample=0.9; total time=   0.0s\n",
      "[CV] END gamma=1, learning_rate=0.1, max_depth=8, n_estimators=75, reg_alpha=1.2, reg_lambda=1.1, subsample=0.9; total time=   0.0s\n",
      "[CV] END gamma=4, learning_rate=0.3, max_depth=5, n_estimators=75, reg_alpha=1.3, reg_lambda=1.1, subsample=0.9; total time=   0.1s\n",
      "[CV] END gamma=4, learning_rate=0.3, max_depth=5, n_estimators=75, reg_alpha=1.3, reg_lambda=1.1, subsample=0.9; total time=   0.0s\n",
      "[CV] END gamma=4, learning_rate=0.3, max_depth=5, n_estimators=75, reg_alpha=1.3, reg_lambda=1.1, subsample=0.9; total time=   0.0s\n",
      "[CV] END gamma=4, learning_rate=0.3, max_depth=5, n_estimators=75, reg_alpha=1.3, reg_lambda=1.1, subsample=0.9; total time=   0.0s\n",
      "[CV] END gamma=4, learning_rate=0.3, max_depth=5, n_estimators=75, reg_alpha=1.3, reg_lambda=1.1, subsample=0.9; total time=   0.0s\n",
      "[CV] END gamma=5, learning_rate=0.3, max_depth=1, n_estimators=50, reg_alpha=1.3, reg_lambda=1.1, subsample=0.8; total time=   0.0s\n",
      "[CV] END gamma=5, learning_rate=0.3, max_depth=1, n_estimators=50, reg_alpha=1.3, reg_lambda=1.1, subsample=0.8; total time=   0.0s\n",
      "[CV] END gamma=5, learning_rate=0.3, max_depth=1, n_estimators=50, reg_alpha=1.3, reg_lambda=1.1, subsample=0.8; total time=   0.0s\n",
      "[CV] END gamma=5, learning_rate=0.3, max_depth=1, n_estimators=50, reg_alpha=1.3, reg_lambda=1.1, subsample=0.8; total time=   0.0s\n",
      "[CV] END gamma=5, learning_rate=0.3, max_depth=1, n_estimators=50, reg_alpha=1.3, reg_lambda=1.1, subsample=0.8; total time=   0.0s\n",
      "[CV] END gamma=1, learning_rate=0.2, max_depth=8, n_estimators=75, reg_alpha=1.3, reg_lambda=1.1, subsample=0.8; total time=   0.0s\n",
      "[CV] END gamma=1, learning_rate=0.2, max_depth=8, n_estimators=75, reg_alpha=1.3, reg_lambda=1.1, subsample=0.8; total time=   0.0s\n",
      "[CV] END gamma=1, learning_rate=0.2, max_depth=8, n_estimators=75, reg_alpha=1.3, reg_lambda=1.1, subsample=0.8; total time=   0.1s\n",
      "[CV] END gamma=1, learning_rate=0.2, max_depth=8, n_estimators=75, reg_alpha=1.3, reg_lambda=1.1, subsample=0.8; total time=   0.1s\n",
      "[CV] END gamma=1, learning_rate=0.2, max_depth=8, n_estimators=75, reg_alpha=1.3, reg_lambda=1.1, subsample=0.8; total time=   0.1s\n",
      "[CV] END gamma=3, learning_rate=0.3, max_depth=3, n_estimators=200, reg_alpha=1.3, reg_lambda=1.2, subsample=0.7; total time=   0.3s\n",
      "[CV] END gamma=3, learning_rate=0.3, max_depth=3, n_estimators=200, reg_alpha=1.3, reg_lambda=1.2, subsample=0.7; total time=   0.2s\n",
      "[CV] END gamma=3, learning_rate=0.3, max_depth=3, n_estimators=200, reg_alpha=1.3, reg_lambda=1.2, subsample=0.7; total time=   0.2s\n",
      "[CV] END gamma=3, learning_rate=0.3, max_depth=3, n_estimators=200, reg_alpha=1.3, reg_lambda=1.2, subsample=0.7; total time=   0.2s\n",
      "[CV] END gamma=3, learning_rate=0.3, max_depth=3, n_estimators=200, reg_alpha=1.3, reg_lambda=1.2, subsample=0.7; total time=   0.2s\n",
      "[CV] END gamma=5, learning_rate=0.3, max_depth=7, n_estimators=125, reg_alpha=1.3, reg_lambda=1.1, subsample=0.9; total time=   0.1s\n",
      "[CV] END gamma=5, learning_rate=0.3, max_depth=7, n_estimators=125, reg_alpha=1.3, reg_lambda=1.1, subsample=0.9; total time=   0.1s\n",
      "[CV] END gamma=5, learning_rate=0.3, max_depth=7, n_estimators=125, reg_alpha=1.3, reg_lambda=1.1, subsample=0.9; total time=   0.1s\n",
      "[CV] END gamma=5, learning_rate=0.3, max_depth=7, n_estimators=125, reg_alpha=1.3, reg_lambda=1.1, subsample=0.9; total time=   0.1s\n",
      "[CV] END gamma=5, learning_rate=0.3, max_depth=7, n_estimators=125, reg_alpha=1.3, reg_lambda=1.1, subsample=0.9; total time=   0.1s\n",
      "[CV] END gamma=1, learning_rate=0.3, max_depth=10, n_estimators=125, reg_alpha=1.1, reg_lambda=1.1, subsample=0.9; total time=   0.1s\n",
      "[CV] END gamma=1, learning_rate=0.3, max_depth=10, n_estimators=125, reg_alpha=1.1, reg_lambda=1.1, subsample=0.9; total time=   0.1s\n",
      "[CV] END gamma=1, learning_rate=0.3, max_depth=10, n_estimators=125, reg_alpha=1.1, reg_lambda=1.1, subsample=0.9; total time=   0.1s\n",
      "[CV] END gamma=1, learning_rate=0.3, max_depth=10, n_estimators=125, reg_alpha=1.1, reg_lambda=1.1, subsample=0.9; total time=   0.1s\n",
      "[CV] END gamma=1, learning_rate=0.3, max_depth=10, n_estimators=125, reg_alpha=1.1, reg_lambda=1.1, subsample=0.9; total time=   0.1s\n",
      "[CV] END gamma=4, learning_rate=0.1, max_depth=1, n_estimators=50, reg_alpha=1.1, reg_lambda=1.1, subsample=0.9; total time=   0.0s\n",
      "[CV] END gamma=4, learning_rate=0.1, max_depth=1, n_estimators=50, reg_alpha=1.1, reg_lambda=1.1, subsample=0.9; total time=   0.0s\n",
      "[CV] END gamma=4, learning_rate=0.1, max_depth=1, n_estimators=50, reg_alpha=1.1, reg_lambda=1.1, subsample=0.9; total time=   0.0s\n",
      "[CV] END gamma=4, learning_rate=0.1, max_depth=1, n_estimators=50, reg_alpha=1.1, reg_lambda=1.1, subsample=0.9; total time=   0.0s\n",
      "[CV] END gamma=4, learning_rate=0.1, max_depth=1, n_estimators=50, reg_alpha=1.1, reg_lambda=1.1, subsample=0.9; total time=   0.0s\n",
      "[CV] END gamma=4, learning_rate=0.2, max_depth=1, n_estimators=75, reg_alpha=1.2, reg_lambda=1.2, subsample=0.8; total time=   0.0s\n",
      "[CV] END gamma=4, learning_rate=0.2, max_depth=1, n_estimators=75, reg_alpha=1.2, reg_lambda=1.2, subsample=0.8; total time=   0.0s\n",
      "[CV] END gamma=4, learning_rate=0.2, max_depth=1, n_estimators=75, reg_alpha=1.2, reg_lambda=1.2, subsample=0.8; total time=   0.0s\n",
      "[CV] END gamma=4, learning_rate=0.2, max_depth=1, n_estimators=75, reg_alpha=1.2, reg_lambda=1.2, subsample=0.8; total time=   0.0s\n",
      "[CV] END gamma=4, learning_rate=0.2, max_depth=1, n_estimators=75, reg_alpha=1.2, reg_lambda=1.2, subsample=0.8; total time=   0.0s\n",
      "[CV] END gamma=5, learning_rate=0.2, max_depth=10, n_estimators=125, reg_alpha=1.1, reg_lambda=1.1, subsample=0.9; total time=   0.1s\n",
      "[CV] END gamma=5, learning_rate=0.2, max_depth=10, n_estimators=125, reg_alpha=1.1, reg_lambda=1.1, subsample=0.9; total time=   0.1s\n",
      "[CV] END gamma=5, learning_rate=0.2, max_depth=10, n_estimators=125, reg_alpha=1.1, reg_lambda=1.1, subsample=0.9; total time=   0.1s\n",
      "[CV] END gamma=5, learning_rate=0.2, max_depth=10, n_estimators=125, reg_alpha=1.1, reg_lambda=1.1, subsample=0.9; total time=   0.1s\n",
      "[CV] END gamma=5, learning_rate=0.2, max_depth=10, n_estimators=125, reg_alpha=1.1, reg_lambda=1.1, subsample=0.9; total time=   0.1s\n",
      "[CV] END gamma=3, learning_rate=0.2, max_depth=6, n_estimators=200, reg_alpha=1.3, reg_lambda=1.2, subsample=0.7; total time=   0.2s\n",
      "[CV] END gamma=3, learning_rate=0.2, max_depth=6, n_estimators=200, reg_alpha=1.3, reg_lambda=1.2, subsample=0.7; total time=   0.3s\n",
      "[CV] END gamma=3, learning_rate=0.2, max_depth=6, n_estimators=200, reg_alpha=1.3, reg_lambda=1.2, subsample=0.7; total time=   0.2s\n",
      "[CV] END gamma=3, learning_rate=0.2, max_depth=6, n_estimators=200, reg_alpha=1.3, reg_lambda=1.2, subsample=0.7; total time=   0.2s\n",
      "[CV] END gamma=3, learning_rate=0.2, max_depth=6, n_estimators=200, reg_alpha=1.3, reg_lambda=1.2, subsample=0.7; total time=   0.3s\n",
      "[CV] END gamma=4, learning_rate=0.2, max_depth=7, n_estimators=175, reg_alpha=1.2, reg_lambda=1.3, subsample=0.9; total time=   0.2s\n",
      "[CV] END gamma=4, learning_rate=0.2, max_depth=7, n_estimators=175, reg_alpha=1.2, reg_lambda=1.3, subsample=0.9; total time=   0.2s\n",
      "[CV] END gamma=4, learning_rate=0.2, max_depth=7, n_estimators=175, reg_alpha=1.2, reg_lambda=1.3, subsample=0.9; total time=   0.2s\n",
      "[CV] END gamma=4, learning_rate=0.2, max_depth=7, n_estimators=175, reg_alpha=1.2, reg_lambda=1.3, subsample=0.9; total time=   0.2s\n",
      "[CV] END gamma=4, learning_rate=0.2, max_depth=7, n_estimators=175, reg_alpha=1.2, reg_lambda=1.3, subsample=0.9; total time=   0.2s\n",
      "[CV] END gamma=3, learning_rate=0.2, max_depth=4, n_estimators=100, reg_alpha=1.3, reg_lambda=1.1, subsample=0.7; total time=   0.1s\n",
      "[CV] END gamma=3, learning_rate=0.2, max_depth=4, n_estimators=100, reg_alpha=1.3, reg_lambda=1.1, subsample=0.7; total time=   0.1s\n",
      "[CV] END gamma=3, learning_rate=0.2, max_depth=4, n_estimators=100, reg_alpha=1.3, reg_lambda=1.1, subsample=0.7; total time=   0.1s\n",
      "[CV] END gamma=3, learning_rate=0.2, max_depth=4, n_estimators=100, reg_alpha=1.3, reg_lambda=1.1, subsample=0.7; total time=   0.1s\n",
      "[CV] END gamma=3, learning_rate=0.2, max_depth=4, n_estimators=100, reg_alpha=1.3, reg_lambda=1.1, subsample=0.7; total time=   0.1s\n",
      "[CV] END gamma=1, learning_rate=0.2, max_depth=3, n_estimators=50, reg_alpha=1.1, reg_lambda=1.3, subsample=0.9; total time=   0.0s\n",
      "[CV] END gamma=1, learning_rate=0.2, max_depth=3, n_estimators=50, reg_alpha=1.1, reg_lambda=1.3, subsample=0.9; total time=   0.0s\n",
      "[CV] END gamma=1, learning_rate=0.2, max_depth=3, n_estimators=50, reg_alpha=1.1, reg_lambda=1.3, subsample=0.9; total time=   0.0s\n",
      "[CV] END gamma=1, learning_rate=0.2, max_depth=3, n_estimators=50, reg_alpha=1.1, reg_lambda=1.3, subsample=0.9; total time=   0.0s\n",
      "[CV] END gamma=1, learning_rate=0.2, max_depth=3, n_estimators=50, reg_alpha=1.1, reg_lambda=1.3, subsample=0.9; total time=   0.0s\n",
      "[CV] END gamma=1, learning_rate=0.3, max_depth=2, n_estimators=250, reg_alpha=1.1, reg_lambda=1.2, subsample=0.8; total time=   0.3s\n",
      "[CV] END gamma=1, learning_rate=0.3, max_depth=2, n_estimators=250, reg_alpha=1.1, reg_lambda=1.2, subsample=0.8; total time=   0.3s\n",
      "[CV] END gamma=1, learning_rate=0.3, max_depth=2, n_estimators=250, reg_alpha=1.1, reg_lambda=1.2, subsample=0.8; total time=   0.3s\n",
      "[CV] END gamma=1, learning_rate=0.3, max_depth=2, n_estimators=250, reg_alpha=1.1, reg_lambda=1.2, subsample=0.8; total time=   0.3s\n",
      "[CV] END gamma=1, learning_rate=0.3, max_depth=2, n_estimators=250, reg_alpha=1.1, reg_lambda=1.2, subsample=0.8; total time=   0.3s\n",
      "[CV] END gamma=3, learning_rate=0.3, max_depth=5, n_estimators=100, reg_alpha=1.2, reg_lambda=1.1, subsample=0.8; total time=   0.1s\n",
      "[CV] END gamma=3, learning_rate=0.3, max_depth=5, n_estimators=100, reg_alpha=1.2, reg_lambda=1.1, subsample=0.8; total time=   0.1s\n",
      "[CV] END gamma=3, learning_rate=0.3, max_depth=5, n_estimators=100, reg_alpha=1.2, reg_lambda=1.1, subsample=0.8; total time=   0.1s\n",
      "[CV] END gamma=3, learning_rate=0.3, max_depth=5, n_estimators=100, reg_alpha=1.2, reg_lambda=1.1, subsample=0.8; total time=   0.1s\n",
      "[CV] END gamma=3, learning_rate=0.3, max_depth=5, n_estimators=100, reg_alpha=1.2, reg_lambda=1.1, subsample=0.8; total time=   0.1s\n",
      "[CV] END gamma=3, learning_rate=0.3, max_depth=7, n_estimators=150, reg_alpha=1.2, reg_lambda=1.2, subsample=0.7; total time=   0.2s\n",
      "[CV] END gamma=3, learning_rate=0.3, max_depth=7, n_estimators=150, reg_alpha=1.2, reg_lambda=1.2, subsample=0.7; total time=   0.2s\n",
      "[CV] END gamma=3, learning_rate=0.3, max_depth=7, n_estimators=150, reg_alpha=1.2, reg_lambda=1.2, subsample=0.7; total time=   0.2s\n",
      "[CV] END gamma=3, learning_rate=0.3, max_depth=7, n_estimators=150, reg_alpha=1.2, reg_lambda=1.2, subsample=0.7; total time=   0.2s\n",
      "[CV] END gamma=3, learning_rate=0.3, max_depth=7, n_estimators=150, reg_alpha=1.2, reg_lambda=1.2, subsample=0.7; total time=   0.2s\n",
      "[CV] END gamma=3, learning_rate=0.3, max_depth=9, n_estimators=100, reg_alpha=1.2, reg_lambda=1.1, subsample=0.8; total time=   0.1s\n",
      "[CV] END gamma=3, learning_rate=0.3, max_depth=9, n_estimators=100, reg_alpha=1.2, reg_lambda=1.1, subsample=0.8; total time=   0.1s\n",
      "[CV] END gamma=3, learning_rate=0.3, max_depth=9, n_estimators=100, reg_alpha=1.2, reg_lambda=1.1, subsample=0.8; total time=   0.1s\n",
      "[CV] END gamma=3, learning_rate=0.3, max_depth=9, n_estimators=100, reg_alpha=1.2, reg_lambda=1.1, subsample=0.8; total time=   0.1s\n",
      "[CV] END gamma=3, learning_rate=0.3, max_depth=9, n_estimators=100, reg_alpha=1.2, reg_lambda=1.1, subsample=0.8; total time=   0.1s\n",
      "[CV] END gamma=2, learning_rate=0.3, max_depth=9, n_estimators=250, reg_alpha=1.2, reg_lambda=1.3, subsample=0.7; total time=   0.3s\n",
      "[CV] END gamma=2, learning_rate=0.3, max_depth=9, n_estimators=250, reg_alpha=1.2, reg_lambda=1.3, subsample=0.7; total time=   0.3s\n",
      "[CV] END gamma=2, learning_rate=0.3, max_depth=9, n_estimators=250, reg_alpha=1.2, reg_lambda=1.3, subsample=0.7; total time=   0.3s\n",
      "[CV] END gamma=2, learning_rate=0.3, max_depth=9, n_estimators=250, reg_alpha=1.2, reg_lambda=1.3, subsample=0.7; total time=   0.3s\n",
      "[CV] END gamma=2, learning_rate=0.3, max_depth=9, n_estimators=250, reg_alpha=1.2, reg_lambda=1.3, subsample=0.7; total time=   0.3s\n",
      "[CV] END gamma=1, learning_rate=0.2, max_depth=2, n_estimators=100, reg_alpha=1.1, reg_lambda=1.3, subsample=0.7; total time=   0.1s\n",
      "[CV] END gamma=1, learning_rate=0.2, max_depth=2, n_estimators=100, reg_alpha=1.1, reg_lambda=1.3, subsample=0.7; total time=   0.1s\n",
      "[CV] END gamma=1, learning_rate=0.2, max_depth=2, n_estimators=100, reg_alpha=1.1, reg_lambda=1.3, subsample=0.7; total time=   0.1s\n",
      "[CV] END gamma=1, learning_rate=0.2, max_depth=2, n_estimators=100, reg_alpha=1.1, reg_lambda=1.3, subsample=0.7; total time=   0.1s\n",
      "[CV] END gamma=1, learning_rate=0.2, max_depth=2, n_estimators=100, reg_alpha=1.1, reg_lambda=1.3, subsample=0.7; total time=   0.1s\n",
      "[CV] END gamma=1, learning_rate=0.3, max_depth=3, n_estimators=150, reg_alpha=1.2, reg_lambda=1.3, subsample=0.9; total time=   0.2s\n",
      "[CV] END gamma=1, learning_rate=0.3, max_depth=3, n_estimators=150, reg_alpha=1.2, reg_lambda=1.3, subsample=0.9; total time=   0.2s\n",
      "[CV] END gamma=1, learning_rate=0.3, max_depth=3, n_estimators=150, reg_alpha=1.2, reg_lambda=1.3, subsample=0.9; total time=   0.2s\n",
      "[CV] END gamma=1, learning_rate=0.3, max_depth=3, n_estimators=150, reg_alpha=1.2, reg_lambda=1.3, subsample=0.9; total time=   0.2s\n",
      "[CV] END gamma=1, learning_rate=0.3, max_depth=3, n_estimators=150, reg_alpha=1.2, reg_lambda=1.3, subsample=0.9; total time=   0.2s\n",
      "[CV] END gamma=2, learning_rate=0.1, max_depth=8, n_estimators=50, reg_alpha=1.1, reg_lambda=1.1, subsample=0.8; total time=   0.0s\n",
      "[CV] END gamma=2, learning_rate=0.1, max_depth=8, n_estimators=50, reg_alpha=1.1, reg_lambda=1.1, subsample=0.8; total time=   0.0s\n",
      "[CV] END gamma=2, learning_rate=0.1, max_depth=8, n_estimators=50, reg_alpha=1.1, reg_lambda=1.1, subsample=0.8; total time=   0.0s\n",
      "[CV] END gamma=2, learning_rate=0.1, max_depth=8, n_estimators=50, reg_alpha=1.1, reg_lambda=1.1, subsample=0.8; total time=   0.0s\n",
      "[CV] END gamma=2, learning_rate=0.1, max_depth=8, n_estimators=50, reg_alpha=1.1, reg_lambda=1.1, subsample=0.8; total time=   0.0s\n",
      "[CV] END gamma=5, learning_rate=0.1, max_depth=1, n_estimators=100, reg_alpha=1.2, reg_lambda=1.3, subsample=0.8; total time=   0.1s\n",
      "[CV] END gamma=5, learning_rate=0.1, max_depth=1, n_estimators=100, reg_alpha=1.2, reg_lambda=1.3, subsample=0.8; total time=   0.1s\n",
      "[CV] END gamma=5, learning_rate=0.1, max_depth=1, n_estimators=100, reg_alpha=1.2, reg_lambda=1.3, subsample=0.8; total time=   0.1s\n",
      "[CV] END gamma=5, learning_rate=0.1, max_depth=1, n_estimators=100, reg_alpha=1.2, reg_lambda=1.3, subsample=0.8; total time=   0.1s\n",
      "[CV] END gamma=5, learning_rate=0.1, max_depth=1, n_estimators=100, reg_alpha=1.2, reg_lambda=1.3, subsample=0.8; total time=   0.1s\n",
      "[CV] END gamma=4, learning_rate=0.3, max_depth=3, n_estimators=250, reg_alpha=1.1, reg_lambda=1.2, subsample=0.8; total time=   0.3s\n",
      "[CV] END gamma=4, learning_rate=0.3, max_depth=3, n_estimators=250, reg_alpha=1.1, reg_lambda=1.2, subsample=0.8; total time=   0.3s\n",
      "[CV] END gamma=4, learning_rate=0.3, max_depth=3, n_estimators=250, reg_alpha=1.1, reg_lambda=1.2, subsample=0.8; total time=   0.3s\n",
      "[CV] END gamma=4, learning_rate=0.3, max_depth=3, n_estimators=250, reg_alpha=1.1, reg_lambda=1.2, subsample=0.8; total time=   0.4s\n",
      "[CV] END gamma=4, learning_rate=0.3, max_depth=3, n_estimators=250, reg_alpha=1.1, reg_lambda=1.2, subsample=0.8; total time=   0.4s\n",
      "[CV] END gamma=2, learning_rate=0.3, max_depth=2, n_estimators=100, reg_alpha=1.2, reg_lambda=1.2, subsample=0.7; total time=   0.1s\n",
      "[CV] END gamma=2, learning_rate=0.3, max_depth=2, n_estimators=100, reg_alpha=1.2, reg_lambda=1.2, subsample=0.7; total time=   0.1s\n",
      "[CV] END gamma=2, learning_rate=0.3, max_depth=2, n_estimators=100, reg_alpha=1.2, reg_lambda=1.2, subsample=0.7; total time=   0.1s\n",
      "[CV] END gamma=2, learning_rate=0.3, max_depth=2, n_estimators=100, reg_alpha=1.2, reg_lambda=1.2, subsample=0.7; total time=   0.1s\n",
      "[CV] END gamma=2, learning_rate=0.3, max_depth=2, n_estimators=100, reg_alpha=1.2, reg_lambda=1.2, subsample=0.7; total time=   0.1s\n",
      "[CV] END gamma=4, learning_rate=0.1, max_depth=10, n_estimators=150, reg_alpha=1.1, reg_lambda=1.3, subsample=0.8; total time=   0.2s\n",
      "[CV] END gamma=4, learning_rate=0.1, max_depth=10, n_estimators=150, reg_alpha=1.1, reg_lambda=1.3, subsample=0.8; total time=   0.2s\n",
      "[CV] END gamma=4, learning_rate=0.1, max_depth=10, n_estimators=150, reg_alpha=1.1, reg_lambda=1.3, subsample=0.8; total time=   0.2s\n",
      "[CV] END gamma=4, learning_rate=0.1, max_depth=10, n_estimators=150, reg_alpha=1.1, reg_lambda=1.3, subsample=0.8; total time=   0.2s\n",
      "[CV] END gamma=4, learning_rate=0.1, max_depth=10, n_estimators=150, reg_alpha=1.1, reg_lambda=1.3, subsample=0.8; total time=   0.2s\n",
      "[CV] END gamma=4, learning_rate=0.3, max_depth=4, n_estimators=200, reg_alpha=1.2, reg_lambda=1.2, subsample=0.7; total time=   0.2s\n",
      "[CV] END gamma=4, learning_rate=0.3, max_depth=4, n_estimators=200, reg_alpha=1.2, reg_lambda=1.2, subsample=0.7; total time=   0.2s\n",
      "[CV] END gamma=4, learning_rate=0.3, max_depth=4, n_estimators=200, reg_alpha=1.2, reg_lambda=1.2, subsample=0.7; total time=   0.2s\n",
      "[CV] END gamma=4, learning_rate=0.3, max_depth=4, n_estimators=200, reg_alpha=1.2, reg_lambda=1.2, subsample=0.7; total time=   0.3s\n",
      "[CV] END gamma=4, learning_rate=0.3, max_depth=4, n_estimators=200, reg_alpha=1.2, reg_lambda=1.2, subsample=0.7; total time=   0.3s\n",
      "[CV] END gamma=2, learning_rate=0.1, max_depth=5, n_estimators=200, reg_alpha=1.1, reg_lambda=1.3, subsample=0.7; total time=   0.3s\n",
      "[CV] END gamma=2, learning_rate=0.1, max_depth=5, n_estimators=200, reg_alpha=1.1, reg_lambda=1.3, subsample=0.7; total time=   0.3s\n",
      "[CV] END gamma=2, learning_rate=0.1, max_depth=5, n_estimators=200, reg_alpha=1.1, reg_lambda=1.3, subsample=0.7; total time=   0.3s\n",
      "[CV] END gamma=2, learning_rate=0.1, max_depth=5, n_estimators=200, reg_alpha=1.1, reg_lambda=1.3, subsample=0.7; total time=   0.3s\n",
      "[CV] END gamma=2, learning_rate=0.1, max_depth=5, n_estimators=200, reg_alpha=1.1, reg_lambda=1.3, subsample=0.7; total time=   0.2s\n",
      "[CV] END gamma=1, learning_rate=0.3, max_depth=6, n_estimators=175, reg_alpha=1.3, reg_lambda=1.1, subsample=0.9; total time=   0.2s\n",
      "[CV] END gamma=1, learning_rate=0.3, max_depth=6, n_estimators=175, reg_alpha=1.3, reg_lambda=1.1, subsample=0.9; total time=   0.2s\n",
      "[CV] END gamma=1, learning_rate=0.3, max_depth=6, n_estimators=175, reg_alpha=1.3, reg_lambda=1.1, subsample=0.9; total time=   0.2s\n",
      "[CV] END gamma=1, learning_rate=0.3, max_depth=6, n_estimators=175, reg_alpha=1.3, reg_lambda=1.1, subsample=0.9; total time=   0.2s\n",
      "[CV] END gamma=1, learning_rate=0.3, max_depth=6, n_estimators=175, reg_alpha=1.3, reg_lambda=1.1, subsample=0.9; total time=   0.2s\n",
      "[CV] END gamma=1, learning_rate=0.2, max_depth=5, n_estimators=200, reg_alpha=1.3, reg_lambda=1.2, subsample=0.8; total time=   0.3s\n",
      "[CV] END gamma=1, learning_rate=0.2, max_depth=5, n_estimators=200, reg_alpha=1.3, reg_lambda=1.2, subsample=0.8; total time=   0.2s\n",
      "[CV] END gamma=1, learning_rate=0.2, max_depth=5, n_estimators=200, reg_alpha=1.3, reg_lambda=1.2, subsample=0.8; total time=   0.3s\n",
      "[CV] END gamma=1, learning_rate=0.2, max_depth=5, n_estimators=200, reg_alpha=1.3, reg_lambda=1.2, subsample=0.8; total time=   0.2s\n",
      "[CV] END gamma=1, learning_rate=0.2, max_depth=5, n_estimators=200, reg_alpha=1.3, reg_lambda=1.2, subsample=0.8; total time=   0.2s\n",
      "[CV] END gamma=1, learning_rate=0.1, max_depth=2, n_estimators=75, reg_alpha=1.3, reg_lambda=1.1, subsample=0.7; total time=   0.0s\n",
      "[CV] END gamma=1, learning_rate=0.1, max_depth=2, n_estimators=75, reg_alpha=1.3, reg_lambda=1.1, subsample=0.7; total time=   0.1s\n",
      "[CV] END gamma=1, learning_rate=0.1, max_depth=2, n_estimators=75, reg_alpha=1.3, reg_lambda=1.1, subsample=0.7; total time=   0.1s\n",
      "[CV] END gamma=1, learning_rate=0.1, max_depth=2, n_estimators=75, reg_alpha=1.3, reg_lambda=1.1, subsample=0.7; total time=   0.0s\n",
      "[CV] END gamma=1, learning_rate=0.1, max_depth=2, n_estimators=75, reg_alpha=1.3, reg_lambda=1.1, subsample=0.7; total time=   0.0s\n",
      "[CV] END gamma=1, learning_rate=0.2, max_depth=7, n_estimators=200, reg_alpha=1.1, reg_lambda=1.2, subsample=0.9; total time=   0.3s\n",
      "[CV] END gamma=1, learning_rate=0.2, max_depth=7, n_estimators=200, reg_alpha=1.1, reg_lambda=1.2, subsample=0.9; total time=   0.3s\n",
      "[CV] END gamma=1, learning_rate=0.2, max_depth=7, n_estimators=200, reg_alpha=1.1, reg_lambda=1.2, subsample=0.9; total time=   0.2s\n",
      "[CV] END gamma=1, learning_rate=0.2, max_depth=7, n_estimators=200, reg_alpha=1.1, reg_lambda=1.2, subsample=0.9; total time=   0.2s\n",
      "[CV] END gamma=1, learning_rate=0.2, max_depth=7, n_estimators=200, reg_alpha=1.1, reg_lambda=1.2, subsample=0.9; total time=   0.2s\n",
      "[CV] END gamma=3, learning_rate=0.1, max_depth=1, n_estimators=200, reg_alpha=1.2, reg_lambda=1.3, subsample=0.8; total time=   0.3s\n",
      "[CV] END gamma=3, learning_rate=0.1, max_depth=1, n_estimators=200, reg_alpha=1.2, reg_lambda=1.3, subsample=0.8; total time=   0.3s\n",
      "[CV] END gamma=3, learning_rate=0.1, max_depth=1, n_estimators=200, reg_alpha=1.2, reg_lambda=1.3, subsample=0.8; total time=   0.3s\n",
      "[CV] END gamma=3, learning_rate=0.1, max_depth=1, n_estimators=200, reg_alpha=1.2, reg_lambda=1.3, subsample=0.8; total time=   0.2s\n",
      "[CV] END gamma=3, learning_rate=0.1, max_depth=1, n_estimators=200, reg_alpha=1.2, reg_lambda=1.3, subsample=0.8; total time=   0.2s\n",
      "[CV] END gamma=3, learning_rate=0.2, max_depth=2, n_estimators=175, reg_alpha=1.3, reg_lambda=1.2, subsample=0.7; total time=   0.2s\n",
      "[CV] END gamma=3, learning_rate=0.2, max_depth=2, n_estimators=175, reg_alpha=1.3, reg_lambda=1.2, subsample=0.7; total time=   0.2s\n",
      "[CV] END gamma=3, learning_rate=0.2, max_depth=2, n_estimators=175, reg_alpha=1.3, reg_lambda=1.2, subsample=0.7; total time=   0.2s\n",
      "[CV] END gamma=3, learning_rate=0.2, max_depth=2, n_estimators=175, reg_alpha=1.3, reg_lambda=1.2, subsample=0.7; total time=   0.2s\n",
      "[CV] END gamma=3, learning_rate=0.2, max_depth=2, n_estimators=175, reg_alpha=1.3, reg_lambda=1.2, subsample=0.7; total time=   0.2s\n",
      "[CV] END gamma=3, learning_rate=0.3, max_depth=7, n_estimators=100, reg_alpha=1.2, reg_lambda=1.2, subsample=0.9; total time=   0.1s\n",
      "[CV] END gamma=3, learning_rate=0.3, max_depth=7, n_estimators=100, reg_alpha=1.2, reg_lambda=1.2, subsample=0.9; total time=   0.1s\n",
      "[CV] END gamma=3, learning_rate=0.3, max_depth=7, n_estimators=100, reg_alpha=1.2, reg_lambda=1.2, subsample=0.9; total time=   0.1s\n",
      "[CV] END gamma=3, learning_rate=0.3, max_depth=7, n_estimators=100, reg_alpha=1.2, reg_lambda=1.2, subsample=0.9; total time=   0.1s\n",
      "[CV] END gamma=3, learning_rate=0.3, max_depth=7, n_estimators=100, reg_alpha=1.2, reg_lambda=1.2, subsample=0.9; total time=   0.1s\n",
      "[CV] END gamma=1, learning_rate=0.1, max_depth=3, n_estimators=50, reg_alpha=1.3, reg_lambda=1.1, subsample=0.9; total time=   0.0s\n",
      "[CV] END gamma=1, learning_rate=0.1, max_depth=3, n_estimators=50, reg_alpha=1.3, reg_lambda=1.1, subsample=0.9; total time=   0.0s\n",
      "[CV] END gamma=1, learning_rate=0.1, max_depth=3, n_estimators=50, reg_alpha=1.3, reg_lambda=1.1, subsample=0.9; total time=   0.0s\n",
      "[CV] END gamma=1, learning_rate=0.1, max_depth=3, n_estimators=50, reg_alpha=1.3, reg_lambda=1.1, subsample=0.9; total time=   0.0s\n",
      "[CV] END gamma=1, learning_rate=0.1, max_depth=3, n_estimators=50, reg_alpha=1.3, reg_lambda=1.1, subsample=0.9; total time=   0.0s\n",
      "[CV] END gamma=3, learning_rate=0.2, max_depth=7, n_estimators=200, reg_alpha=1.3, reg_lambda=1.1, subsample=0.7; total time=   0.2s\n",
      "[CV] END gamma=3, learning_rate=0.2, max_depth=7, n_estimators=200, reg_alpha=1.3, reg_lambda=1.1, subsample=0.7; total time=   0.3s\n",
      "[CV] END gamma=3, learning_rate=0.2, max_depth=7, n_estimators=200, reg_alpha=1.3, reg_lambda=1.1, subsample=0.7; total time=   0.3s\n",
      "[CV] END gamma=3, learning_rate=0.2, max_depth=7, n_estimators=200, reg_alpha=1.3, reg_lambda=1.1, subsample=0.7; total time=   0.2s\n",
      "[CV] END gamma=3, learning_rate=0.2, max_depth=7, n_estimators=200, reg_alpha=1.3, reg_lambda=1.1, subsample=0.7; total time=   0.2s\n",
      "[CV] END gamma=5, learning_rate=0.1, max_depth=1, n_estimators=250, reg_alpha=1.2, reg_lambda=1.1, subsample=0.8; total time=   0.3s\n",
      "[CV] END gamma=5, learning_rate=0.1, max_depth=1, n_estimators=250, reg_alpha=1.2, reg_lambda=1.1, subsample=0.8; total time=   0.3s\n",
      "[CV] END gamma=5, learning_rate=0.1, max_depth=1, n_estimators=250, reg_alpha=1.2, reg_lambda=1.1, subsample=0.8; total time=   0.3s\n",
      "[CV] END gamma=5, learning_rate=0.1, max_depth=1, n_estimators=250, reg_alpha=1.2, reg_lambda=1.1, subsample=0.8; total time=   0.3s\n",
      "[CV] END gamma=5, learning_rate=0.1, max_depth=1, n_estimators=250, reg_alpha=1.2, reg_lambda=1.1, subsample=0.8; total time=   0.3s\n"
     ]
    },
    {
     "data": {
      "text/plain": [
       "RandomizedSearchCV(cv=5,\n",
       "                   estimator=XGBClassifier(base_score=None, booster=None,\n",
       "                                           callbacks=None,\n",
       "                                           colsample_bylevel=None,\n",
       "                                           colsample_bynode=None,\n",
       "                                           colsample_bytree=None,\n",
       "                                           early_stopping_rounds=None,\n",
       "                                           enable_categorical=False,\n",
       "                                           eval_metric=None, gamma=None,\n",
       "                                           gpu_id=None, grow_policy=None,\n",
       "                                           importance_type=None,\n",
       "                                           interaction_constraints=None,\n",
       "                                           learning_rate=None, max_bin=None,...\n",
       "                                           n_estimators=100, n_jobs=None,\n",
       "                                           num_parallel_tree=None,\n",
       "                                           predictor=None, random_state=None,\n",
       "                                           reg_alpha=None, reg_lambda=None, ...),\n",
       "                   n_iter=100,\n",
       "                   param_distributions=[{'gamma': [1, 2, 3, 4, 5],\n",
       "                                         'learning_rate': [0.1, 0.2, 0.3],\n",
       "                                         'max_depth': [1, 2, 3, 4, 5, 6, 7, 8,\n",
       "                                                       9, 10],\n",
       "                                         'n_estimators': [50, 75, 100, 125, 150,\n",
       "                                                          175, 200, 250],\n",
       "                                         'reg_alpha': [1.1, 1.2, 1.3],\n",
       "                                         'reg_lambda': [1.1, 1.2, 1.3],\n",
       "                                         'subsample': [0.7, 0.8, 0.9]}],\n",
       "                   verbose=2)"
      ]
     },
     "execution_count": 192,
     "metadata": {},
     "output_type": "execute_result"
    }
   ],
   "source": [
    "gcv_xgbc.fit(x_train_scaled, y_train)"
   ]
  },
  {
   "cell_type": "code",
   "execution_count": 193,
   "id": "bd81231b",
   "metadata": {},
   "outputs": [
    {
     "data": {
      "text/plain": [
       "{'subsample': 0.8,\n",
       " 'reg_lambda': 1.2,\n",
       " 'reg_alpha': 1.1,\n",
       " 'n_estimators': 200,\n",
       " 'max_depth': 2,\n",
       " 'learning_rate': 0.3,\n",
       " 'gamma': 2}"
      ]
     },
     "execution_count": 193,
     "metadata": {},
     "output_type": "execute_result"
    }
   ],
   "source": [
    "gcv_xgbc.best_params_"
   ]
  },
  {
   "cell_type": "code",
   "execution_count": 194,
   "id": "54d6849e",
   "metadata": {},
   "outputs": [
    {
     "name": "stdout",
     "output_type": "stream",
     "text": [
      "XGBoost Classifier Tuned\n",
      "Accuracy Score :  1.0\n",
      "Mean Absolute Error :  0.0\n"
     ]
    }
   ],
   "source": [
    "best_xgbc_estimator = gcv_xgbc.best_estimator_\n",
    "xgbc_y_pred = best_xgbc_estimator.predict(x_test_scaled)\n",
    "mae = mean_absolute_error(y_test, xgbc_y_pred)\n",
    "acc_score = accuracy_score(y_test, xgbc_y_pred)\n",
    "print('XGBoost Classifier Tuned')\n",
    "print('Accuracy Score : ', acc_score)\n",
    "print('Mean Absolute Error : ', mae)"
   ]
  },
  {
   "cell_type": "markdown",
   "id": "cc73eabb",
   "metadata": {},
   "source": [
    "<h3> Tuning Decision Tree Classiifer</h3>"
   ]
  },
  {
   "cell_type": "code",
   "execution_count": 195,
   "id": "4b66e75a",
   "metadata": {},
   "outputs": [],
   "source": [
    "param_grid_b = [{\n",
    "    \"max_depth\": [3,5,10,15,20,None],\n",
    "    \"min_samples_split\": [2,5,7,10],\n",
    "    \"min_samples_leaf\": [1,2,5]\n",
    "}]"
   ]
  },
  {
   "cell_type": "code",
   "execution_count": 196,
   "id": "9d8a21b0",
   "metadata": {},
   "outputs": [],
   "source": [
    "dtc = DecisionTreeClassifier()"
   ]
  },
  {
   "cell_type": "code",
   "execution_count": 197,
   "id": "05124623",
   "metadata": {},
   "outputs": [],
   "source": [
    "dtc_gcv = GridSearchCV(estimator = dtc, param_grid = param_grid_b, cv = 5, verbose = 2)"
   ]
  },
  {
   "cell_type": "code",
   "execution_count": 198,
   "id": "cdd3e0bb",
   "metadata": {},
   "outputs": [
    {
     "name": "stdout",
     "output_type": "stream",
     "text": [
      "Fitting 5 folds for each of 72 candidates, totalling 360 fits\n",
      "[CV] END max_depth=3, min_samples_leaf=1, min_samples_split=2; total time=   0.0s\n",
      "[CV] END max_depth=3, min_samples_leaf=1, min_samples_split=2; total time=   0.0s\n",
      "[CV] END max_depth=3, min_samples_leaf=1, min_samples_split=2; total time=   0.0s\n",
      "[CV] END max_depth=3, min_samples_leaf=1, min_samples_split=2; total time=   0.0s\n",
      "[CV] END max_depth=3, min_samples_leaf=1, min_samples_split=2; total time=   0.0s\n",
      "[CV] END max_depth=3, min_samples_leaf=1, min_samples_split=5; total time=   0.0s\n",
      "[CV] END max_depth=3, min_samples_leaf=1, min_samples_split=5; total time=   0.0s\n",
      "[CV] END max_depth=3, min_samples_leaf=1, min_samples_split=5; total time=   0.0s\n",
      "[CV] END max_depth=3, min_samples_leaf=1, min_samples_split=5; total time=   0.0s\n",
      "[CV] END max_depth=3, min_samples_leaf=1, min_samples_split=5; total time=   0.0s\n",
      "[CV] END max_depth=3, min_samples_leaf=1, min_samples_split=7; total time=   0.0s\n",
      "[CV] END max_depth=3, min_samples_leaf=1, min_samples_split=7; total time=   0.0s\n",
      "[CV] END max_depth=3, min_samples_leaf=1, min_samples_split=7; total time=   0.0s\n",
      "[CV] END max_depth=3, min_samples_leaf=1, min_samples_split=7; total time=   0.0s\n",
      "[CV] END max_depth=3, min_samples_leaf=1, min_samples_split=7; total time=   0.0s\n",
      "[CV] END max_depth=3, min_samples_leaf=1, min_samples_split=10; total time=   0.0s\n",
      "[CV] END max_depth=3, min_samples_leaf=1, min_samples_split=10; total time=   0.0s\n",
      "[CV] END max_depth=3, min_samples_leaf=1, min_samples_split=10; total time=   0.0s\n",
      "[CV] END max_depth=3, min_samples_leaf=1, min_samples_split=10; total time=   0.0s\n",
      "[CV] END max_depth=3, min_samples_leaf=1, min_samples_split=10; total time=   0.0s\n",
      "[CV] END max_depth=3, min_samples_leaf=2, min_samples_split=2; total time=   0.0s\n",
      "[CV] END max_depth=3, min_samples_leaf=2, min_samples_split=2; total time=   0.0s\n",
      "[CV] END max_depth=3, min_samples_leaf=2, min_samples_split=2; total time=   0.0s\n",
      "[CV] END max_depth=3, min_samples_leaf=2, min_samples_split=2; total time=   0.0s\n",
      "[CV] END max_depth=3, min_samples_leaf=2, min_samples_split=2; total time=   0.0s\n",
      "[CV] END max_depth=3, min_samples_leaf=2, min_samples_split=5; total time=   0.0s\n",
      "[CV] END max_depth=3, min_samples_leaf=2, min_samples_split=5; total time=   0.0s\n",
      "[CV] END max_depth=3, min_samples_leaf=2, min_samples_split=5; total time=   0.0s\n",
      "[CV] END max_depth=3, min_samples_leaf=2, min_samples_split=5; total time=   0.0s\n",
      "[CV] END max_depth=3, min_samples_leaf=2, min_samples_split=5; total time=   0.0s\n",
      "[CV] END max_depth=3, min_samples_leaf=2, min_samples_split=7; total time=   0.0s\n",
      "[CV] END max_depth=3, min_samples_leaf=2, min_samples_split=7; total time=   0.0s\n",
      "[CV] END max_depth=3, min_samples_leaf=2, min_samples_split=7; total time=   0.0s\n",
      "[CV] END max_depth=3, min_samples_leaf=2, min_samples_split=7; total time=   0.0s\n",
      "[CV] END max_depth=3, min_samples_leaf=2, min_samples_split=7; total time=   0.0s\n",
      "[CV] END max_depth=3, min_samples_leaf=2, min_samples_split=10; total time=   0.0s\n",
      "[CV] END max_depth=3, min_samples_leaf=2, min_samples_split=10; total time=   0.0s\n",
      "[CV] END max_depth=3, min_samples_leaf=2, min_samples_split=10; total time=   0.0s\n",
      "[CV] END max_depth=3, min_samples_leaf=2, min_samples_split=10; total time=   0.0s\n",
      "[CV] END max_depth=3, min_samples_leaf=2, min_samples_split=10; total time=   0.0s\n",
      "[CV] END max_depth=3, min_samples_leaf=5, min_samples_split=2; total time=   0.0s\n",
      "[CV] END max_depth=3, min_samples_leaf=5, min_samples_split=2; total time=   0.0s\n",
      "[CV] END max_depth=3, min_samples_leaf=5, min_samples_split=2; total time=   0.0s\n",
      "[CV] END max_depth=3, min_samples_leaf=5, min_samples_split=2; total time=   0.0s\n",
      "[CV] END max_depth=3, min_samples_leaf=5, min_samples_split=2; total time=   0.0s\n",
      "[CV] END max_depth=3, min_samples_leaf=5, min_samples_split=5; total time=   0.0s\n",
      "[CV] END max_depth=3, min_samples_leaf=5, min_samples_split=5; total time=   0.0s\n",
      "[CV] END max_depth=3, min_samples_leaf=5, min_samples_split=5; total time=   0.0s\n",
      "[CV] END max_depth=3, min_samples_leaf=5, min_samples_split=5; total time=   0.0s\n",
      "[CV] END max_depth=3, min_samples_leaf=5, min_samples_split=5; total time=   0.0s\n",
      "[CV] END max_depth=3, min_samples_leaf=5, min_samples_split=7; total time=   0.0s\n",
      "[CV] END max_depth=3, min_samples_leaf=5, min_samples_split=7; total time=   0.0s\n",
      "[CV] END max_depth=3, min_samples_leaf=5, min_samples_split=7; total time=   0.0s\n",
      "[CV] END max_depth=3, min_samples_leaf=5, min_samples_split=7; total time=   0.0s\n",
      "[CV] END max_depth=3, min_samples_leaf=5, min_samples_split=7; total time=   0.0s\n",
      "[CV] END max_depth=3, min_samples_leaf=5, min_samples_split=10; total time=   0.0s\n",
      "[CV] END max_depth=3, min_samples_leaf=5, min_samples_split=10; total time=   0.0s\n",
      "[CV] END max_depth=3, min_samples_leaf=5, min_samples_split=10; total time=   0.0s\n",
      "[CV] END max_depth=3, min_samples_leaf=5, min_samples_split=10; total time=   0.0s\n",
      "[CV] END max_depth=3, min_samples_leaf=5, min_samples_split=10; total time=   0.0s\n",
      "[CV] END max_depth=5, min_samples_leaf=1, min_samples_split=2; total time=   0.0s\n",
      "[CV] END max_depth=5, min_samples_leaf=1, min_samples_split=2; total time=   0.0s\n",
      "[CV] END max_depth=5, min_samples_leaf=1, min_samples_split=2; total time=   0.0s\n",
      "[CV] END max_depth=5, min_samples_leaf=1, min_samples_split=2; total time=   0.0s\n",
      "[CV] END max_depth=5, min_samples_leaf=1, min_samples_split=2; total time=   0.0s\n",
      "[CV] END max_depth=5, min_samples_leaf=1, min_samples_split=5; total time=   0.0s\n",
      "[CV] END max_depth=5, min_samples_leaf=1, min_samples_split=5; total time=   0.0s\n",
      "[CV] END max_depth=5, min_samples_leaf=1, min_samples_split=5; total time=   0.0s\n",
      "[CV] END max_depth=5, min_samples_leaf=1, min_samples_split=5; total time=   0.0s\n",
      "[CV] END max_depth=5, min_samples_leaf=1, min_samples_split=5; total time=   0.0s\n",
      "[CV] END max_depth=5, min_samples_leaf=1, min_samples_split=7; total time=   0.0s\n",
      "[CV] END max_depth=5, min_samples_leaf=1, min_samples_split=7; total time=   0.0s\n",
      "[CV] END max_depth=5, min_samples_leaf=1, min_samples_split=7; total time=   0.0s\n",
      "[CV] END max_depth=5, min_samples_leaf=1, min_samples_split=7; total time=   0.0s\n",
      "[CV] END max_depth=5, min_samples_leaf=1, min_samples_split=7; total time=   0.0s\n",
      "[CV] END max_depth=5, min_samples_leaf=1, min_samples_split=10; total time=   0.0s\n",
      "[CV] END max_depth=5, min_samples_leaf=1, min_samples_split=10; total time=   0.0s\n",
      "[CV] END max_depth=5, min_samples_leaf=1, min_samples_split=10; total time=   0.0s\n",
      "[CV] END max_depth=5, min_samples_leaf=1, min_samples_split=10; total time=   0.0s\n",
      "[CV] END max_depth=5, min_samples_leaf=1, min_samples_split=10; total time=   0.0s\n",
      "[CV] END max_depth=5, min_samples_leaf=2, min_samples_split=2; total time=   0.0s\n",
      "[CV] END max_depth=5, min_samples_leaf=2, min_samples_split=2; total time=   0.0s\n",
      "[CV] END max_depth=5, min_samples_leaf=2, min_samples_split=2; total time=   0.0s\n",
      "[CV] END max_depth=5, min_samples_leaf=2, min_samples_split=2; total time=   0.0s\n",
      "[CV] END max_depth=5, min_samples_leaf=2, min_samples_split=2; total time=   0.0s\n",
      "[CV] END max_depth=5, min_samples_leaf=2, min_samples_split=5; total time=   0.0s\n",
      "[CV] END max_depth=5, min_samples_leaf=2, min_samples_split=5; total time=   0.0s\n",
      "[CV] END max_depth=5, min_samples_leaf=2, min_samples_split=5; total time=   0.0s\n",
      "[CV] END max_depth=5, min_samples_leaf=2, min_samples_split=5; total time=   0.0s\n",
      "[CV] END max_depth=5, min_samples_leaf=2, min_samples_split=5; total time=   0.0s\n",
      "[CV] END max_depth=5, min_samples_leaf=2, min_samples_split=7; total time=   0.0s\n",
      "[CV] END max_depth=5, min_samples_leaf=2, min_samples_split=7; total time=   0.0s\n",
      "[CV] END max_depth=5, min_samples_leaf=2, min_samples_split=7; total time=   0.0s\n",
      "[CV] END max_depth=5, min_samples_leaf=2, min_samples_split=7; total time=   0.0s\n",
      "[CV] END max_depth=5, min_samples_leaf=2, min_samples_split=7; total time=   0.0s\n",
      "[CV] END max_depth=5, min_samples_leaf=2, min_samples_split=10; total time=   0.0s\n",
      "[CV] END max_depth=5, min_samples_leaf=2, min_samples_split=10; total time=   0.0s\n",
      "[CV] END max_depth=5, min_samples_leaf=2, min_samples_split=10; total time=   0.0s\n",
      "[CV] END max_depth=5, min_samples_leaf=2, min_samples_split=10; total time=   0.0s\n",
      "[CV] END max_depth=5, min_samples_leaf=2, min_samples_split=10; total time=   0.0s\n",
      "[CV] END max_depth=5, min_samples_leaf=5, min_samples_split=2; total time=   0.0s\n",
      "[CV] END max_depth=5, min_samples_leaf=5, min_samples_split=2; total time=   0.0s\n",
      "[CV] END max_depth=5, min_samples_leaf=5, min_samples_split=2; total time=   0.0s\n",
      "[CV] END max_depth=5, min_samples_leaf=5, min_samples_split=2; total time=   0.0s\n",
      "[CV] END max_depth=5, min_samples_leaf=5, min_samples_split=2; total time=   0.0s\n",
      "[CV] END max_depth=5, min_samples_leaf=5, min_samples_split=5; total time=   0.0s\n",
      "[CV] END max_depth=5, min_samples_leaf=5, min_samples_split=5; total time=   0.0s\n",
      "[CV] END max_depth=5, min_samples_leaf=5, min_samples_split=5; total time=   0.0s\n",
      "[CV] END max_depth=5, min_samples_leaf=5, min_samples_split=5; total time=   0.0s\n",
      "[CV] END max_depth=5, min_samples_leaf=5, min_samples_split=5; total time=   0.0s\n",
      "[CV] END max_depth=5, min_samples_leaf=5, min_samples_split=7; total time=   0.0s\n",
      "[CV] END max_depth=5, min_samples_leaf=5, min_samples_split=7; total time=   0.0s\n",
      "[CV] END max_depth=5, min_samples_leaf=5, min_samples_split=7; total time=   0.0s\n",
      "[CV] END max_depth=5, min_samples_leaf=5, min_samples_split=7; total time=   0.0s\n",
      "[CV] END max_depth=5, min_samples_leaf=5, min_samples_split=7; total time=   0.0s\n",
      "[CV] END max_depth=5, min_samples_leaf=5, min_samples_split=10; total time=   0.0s\n",
      "[CV] END max_depth=5, min_samples_leaf=5, min_samples_split=10; total time=   0.0s\n",
      "[CV] END max_depth=5, min_samples_leaf=5, min_samples_split=10; total time=   0.0s\n",
      "[CV] END max_depth=5, min_samples_leaf=5, min_samples_split=10; total time=   0.0s\n",
      "[CV] END max_depth=5, min_samples_leaf=5, min_samples_split=10; total time=   0.0s\n",
      "[CV] END max_depth=10, min_samples_leaf=1, min_samples_split=2; total time=   0.0s\n",
      "[CV] END max_depth=10, min_samples_leaf=1, min_samples_split=2; total time=   0.0s\n",
      "[CV] END max_depth=10, min_samples_leaf=1, min_samples_split=2; total time=   0.0s\n",
      "[CV] END max_depth=10, min_samples_leaf=1, min_samples_split=2; total time=   0.0s\n",
      "[CV] END max_depth=10, min_samples_leaf=1, min_samples_split=2; total time=   0.0s\n",
      "[CV] END max_depth=10, min_samples_leaf=1, min_samples_split=5; total time=   0.0s\n",
      "[CV] END max_depth=10, min_samples_leaf=1, min_samples_split=5; total time=   0.0s\n",
      "[CV] END max_depth=10, min_samples_leaf=1, min_samples_split=5; total time=   0.0s\n",
      "[CV] END max_depth=10, min_samples_leaf=1, min_samples_split=5; total time=   0.0s\n",
      "[CV] END max_depth=10, min_samples_leaf=1, min_samples_split=5; total time=   0.0s\n",
      "[CV] END max_depth=10, min_samples_leaf=1, min_samples_split=7; total time=   0.0s\n",
      "[CV] END max_depth=10, min_samples_leaf=1, min_samples_split=7; total time=   0.0s\n",
      "[CV] END max_depth=10, min_samples_leaf=1, min_samples_split=7; total time=   0.0s\n",
      "[CV] END max_depth=10, min_samples_leaf=1, min_samples_split=7; total time=   0.0s\n",
      "[CV] END max_depth=10, min_samples_leaf=1, min_samples_split=7; total time=   0.0s\n",
      "[CV] END max_depth=10, min_samples_leaf=1, min_samples_split=10; total time=   0.0s\n",
      "[CV] END max_depth=10, min_samples_leaf=1, min_samples_split=10; total time=   0.0s\n",
      "[CV] END max_depth=10, min_samples_leaf=1, min_samples_split=10; total time=   0.0s\n",
      "[CV] END max_depth=10, min_samples_leaf=1, min_samples_split=10; total time=   0.0s\n",
      "[CV] END max_depth=10, min_samples_leaf=1, min_samples_split=10; total time=   0.0s\n",
      "[CV] END max_depth=10, min_samples_leaf=2, min_samples_split=2; total time=   0.0s\n",
      "[CV] END max_depth=10, min_samples_leaf=2, min_samples_split=2; total time=   0.0s\n",
      "[CV] END max_depth=10, min_samples_leaf=2, min_samples_split=2; total time=   0.0s\n",
      "[CV] END max_depth=10, min_samples_leaf=2, min_samples_split=2; total time=   0.0s\n",
      "[CV] END max_depth=10, min_samples_leaf=2, min_samples_split=2; total time=   0.0s\n",
      "[CV] END max_depth=10, min_samples_leaf=2, min_samples_split=5; total time=   0.0s\n",
      "[CV] END max_depth=10, min_samples_leaf=2, min_samples_split=5; total time=   0.0s\n",
      "[CV] END max_depth=10, min_samples_leaf=2, min_samples_split=5; total time=   0.0s\n",
      "[CV] END max_depth=10, min_samples_leaf=2, min_samples_split=5; total time=   0.0s\n",
      "[CV] END max_depth=10, min_samples_leaf=2, min_samples_split=5; total time=   0.0s\n",
      "[CV] END max_depth=10, min_samples_leaf=2, min_samples_split=7; total time=   0.0s\n",
      "[CV] END max_depth=10, min_samples_leaf=2, min_samples_split=7; total time=   0.0s\n",
      "[CV] END max_depth=10, min_samples_leaf=2, min_samples_split=7; total time=   0.0s\n",
      "[CV] END max_depth=10, min_samples_leaf=2, min_samples_split=7; total time=   0.0s\n",
      "[CV] END max_depth=10, min_samples_leaf=2, min_samples_split=7; total time=   0.0s\n",
      "[CV] END max_depth=10, min_samples_leaf=2, min_samples_split=10; total time=   0.0s\n",
      "[CV] END max_depth=10, min_samples_leaf=2, min_samples_split=10; total time=   0.0s\n",
      "[CV] END max_depth=10, min_samples_leaf=2, min_samples_split=10; total time=   0.0s\n",
      "[CV] END max_depth=10, min_samples_leaf=2, min_samples_split=10; total time=   0.0s\n",
      "[CV] END max_depth=10, min_samples_leaf=2, min_samples_split=10; total time=   0.0s\n",
      "[CV] END max_depth=10, min_samples_leaf=5, min_samples_split=2; total time=   0.0s\n",
      "[CV] END max_depth=10, min_samples_leaf=5, min_samples_split=2; total time=   0.0s\n",
      "[CV] END max_depth=10, min_samples_leaf=5, min_samples_split=2; total time=   0.0s\n",
      "[CV] END max_depth=10, min_samples_leaf=5, min_samples_split=2; total time=   0.0s\n",
      "[CV] END max_depth=10, min_samples_leaf=5, min_samples_split=2; total time=   0.0s\n",
      "[CV] END max_depth=10, min_samples_leaf=5, min_samples_split=5; total time=   0.0s\n",
      "[CV] END max_depth=10, min_samples_leaf=5, min_samples_split=5; total time=   0.0s\n",
      "[CV] END max_depth=10, min_samples_leaf=5, min_samples_split=5; total time=   0.0s\n",
      "[CV] END max_depth=10, min_samples_leaf=5, min_samples_split=5; total time=   0.0s\n",
      "[CV] END max_depth=10, min_samples_leaf=5, min_samples_split=5; total time=   0.0s\n",
      "[CV] END max_depth=10, min_samples_leaf=5, min_samples_split=7; total time=   0.0s\n",
      "[CV] END max_depth=10, min_samples_leaf=5, min_samples_split=7; total time=   0.0s\n",
      "[CV] END max_depth=10, min_samples_leaf=5, min_samples_split=7; total time=   0.0s\n",
      "[CV] END max_depth=10, min_samples_leaf=5, min_samples_split=7; total time=   0.0s\n",
      "[CV] END max_depth=10, min_samples_leaf=5, min_samples_split=7; total time=   0.0s\n",
      "[CV] END max_depth=10, min_samples_leaf=5, min_samples_split=10; total time=   0.0s\n",
      "[CV] END max_depth=10, min_samples_leaf=5, min_samples_split=10; total time=   0.0s\n",
      "[CV] END max_depth=10, min_samples_leaf=5, min_samples_split=10; total time=   0.0s\n",
      "[CV] END max_depth=10, min_samples_leaf=5, min_samples_split=10; total time=   0.0s\n",
      "[CV] END max_depth=10, min_samples_leaf=5, min_samples_split=10; total time=   0.0s\n",
      "[CV] END max_depth=15, min_samples_leaf=1, min_samples_split=2; total time=   0.0s\n",
      "[CV] END max_depth=15, min_samples_leaf=1, min_samples_split=2; total time=   0.0s\n",
      "[CV] END max_depth=15, min_samples_leaf=1, min_samples_split=2; total time=   0.0s\n",
      "[CV] END max_depth=15, min_samples_leaf=1, min_samples_split=2; total time=   0.0s\n",
      "[CV] END max_depth=15, min_samples_leaf=1, min_samples_split=2; total time=   0.0s\n",
      "[CV] END max_depth=15, min_samples_leaf=1, min_samples_split=5; total time=   0.0s\n",
      "[CV] END max_depth=15, min_samples_leaf=1, min_samples_split=5; total time=   0.0s\n",
      "[CV] END max_depth=15, min_samples_leaf=1, min_samples_split=5; total time=   0.0s\n",
      "[CV] END max_depth=15, min_samples_leaf=1, min_samples_split=5; total time=   0.0s\n",
      "[CV] END max_depth=15, min_samples_leaf=1, min_samples_split=5; total time=   0.0s\n",
      "[CV] END max_depth=15, min_samples_leaf=1, min_samples_split=7; total time=   0.0s\n",
      "[CV] END max_depth=15, min_samples_leaf=1, min_samples_split=7; total time=   0.0s\n",
      "[CV] END max_depth=15, min_samples_leaf=1, min_samples_split=7; total time=   0.0s\n",
      "[CV] END max_depth=15, min_samples_leaf=1, min_samples_split=7; total time=   0.0s\n",
      "[CV] END max_depth=15, min_samples_leaf=1, min_samples_split=7; total time=   0.0s\n",
      "[CV] END max_depth=15, min_samples_leaf=1, min_samples_split=10; total time=   0.0s\n",
      "[CV] END max_depth=15, min_samples_leaf=1, min_samples_split=10; total time=   0.0s\n",
      "[CV] END max_depth=15, min_samples_leaf=1, min_samples_split=10; total time=   0.0s\n",
      "[CV] END max_depth=15, min_samples_leaf=1, min_samples_split=10; total time=   0.0s\n",
      "[CV] END max_depth=15, min_samples_leaf=1, min_samples_split=10; total time=   0.0s\n",
      "[CV] END max_depth=15, min_samples_leaf=2, min_samples_split=2; total time=   0.0s\n",
      "[CV] END max_depth=15, min_samples_leaf=2, min_samples_split=2; total time=   0.0s\n",
      "[CV] END max_depth=15, min_samples_leaf=2, min_samples_split=2; total time=   0.0s\n",
      "[CV] END max_depth=15, min_samples_leaf=2, min_samples_split=2; total time=   0.0s\n",
      "[CV] END max_depth=15, min_samples_leaf=2, min_samples_split=2; total time=   0.0s\n",
      "[CV] END max_depth=15, min_samples_leaf=2, min_samples_split=5; total time=   0.0s\n",
      "[CV] END max_depth=15, min_samples_leaf=2, min_samples_split=5; total time=   0.0s\n",
      "[CV] END max_depth=15, min_samples_leaf=2, min_samples_split=5; total time=   0.0s\n",
      "[CV] END max_depth=15, min_samples_leaf=2, min_samples_split=5; total time=   0.0s\n",
      "[CV] END max_depth=15, min_samples_leaf=2, min_samples_split=5; total time=   0.0s\n",
      "[CV] END max_depth=15, min_samples_leaf=2, min_samples_split=7; total time=   0.0s\n",
      "[CV] END max_depth=15, min_samples_leaf=2, min_samples_split=7; total time=   0.0s\n",
      "[CV] END max_depth=15, min_samples_leaf=2, min_samples_split=7; total time=   0.0s\n",
      "[CV] END max_depth=15, min_samples_leaf=2, min_samples_split=7; total time=   0.0s\n",
      "[CV] END max_depth=15, min_samples_leaf=2, min_samples_split=7; total time=   0.0s\n",
      "[CV] END max_depth=15, min_samples_leaf=2, min_samples_split=10; total time=   0.0s\n",
      "[CV] END max_depth=15, min_samples_leaf=2, min_samples_split=10; total time=   0.0s\n",
      "[CV] END max_depth=15, min_samples_leaf=2, min_samples_split=10; total time=   0.0s\n",
      "[CV] END max_depth=15, min_samples_leaf=2, min_samples_split=10; total time=   0.0s\n",
      "[CV] END max_depth=15, min_samples_leaf=2, min_samples_split=10; total time=   0.0s\n",
      "[CV] END max_depth=15, min_samples_leaf=5, min_samples_split=2; total time=   0.0s\n",
      "[CV] END max_depth=15, min_samples_leaf=5, min_samples_split=2; total time=   0.0s\n",
      "[CV] END max_depth=15, min_samples_leaf=5, min_samples_split=2; total time=   0.0s\n",
      "[CV] END max_depth=15, min_samples_leaf=5, min_samples_split=2; total time=   0.0s\n",
      "[CV] END max_depth=15, min_samples_leaf=5, min_samples_split=2; total time=   0.0s\n",
      "[CV] END max_depth=15, min_samples_leaf=5, min_samples_split=5; total time=   0.0s\n",
      "[CV] END max_depth=15, min_samples_leaf=5, min_samples_split=5; total time=   0.0s\n",
      "[CV] END max_depth=15, min_samples_leaf=5, min_samples_split=5; total time=   0.0s\n",
      "[CV] END max_depth=15, min_samples_leaf=5, min_samples_split=5; total time=   0.0s\n",
      "[CV] END max_depth=15, min_samples_leaf=5, min_samples_split=5; total time=   0.0s\n",
      "[CV] END max_depth=15, min_samples_leaf=5, min_samples_split=7; total time=   0.0s\n",
      "[CV] END max_depth=15, min_samples_leaf=5, min_samples_split=7; total time=   0.0s\n",
      "[CV] END max_depth=15, min_samples_leaf=5, min_samples_split=7; total time=   0.0s\n",
      "[CV] END max_depth=15, min_samples_leaf=5, min_samples_split=7; total time=   0.0s\n",
      "[CV] END max_depth=15, min_samples_leaf=5, min_samples_split=7; total time=   0.0s\n",
      "[CV] END max_depth=15, min_samples_leaf=5, min_samples_split=10; total time=   0.0s\n",
      "[CV] END max_depth=15, min_samples_leaf=5, min_samples_split=10; total time=   0.0s\n",
      "[CV] END max_depth=15, min_samples_leaf=5, min_samples_split=10; total time=   0.0s\n",
      "[CV] END max_depth=15, min_samples_leaf=5, min_samples_split=10; total time=   0.0s\n",
      "[CV] END max_depth=15, min_samples_leaf=5, min_samples_split=10; total time=   0.0s\n",
      "[CV] END max_depth=20, min_samples_leaf=1, min_samples_split=2; total time=   0.0s\n",
      "[CV] END max_depth=20, min_samples_leaf=1, min_samples_split=2; total time=   0.0s\n",
      "[CV] END max_depth=20, min_samples_leaf=1, min_samples_split=2; total time=   0.0s\n",
      "[CV] END max_depth=20, min_samples_leaf=1, min_samples_split=2; total time=   0.0s\n",
      "[CV] END max_depth=20, min_samples_leaf=1, min_samples_split=2; total time=   0.0s\n",
      "[CV] END max_depth=20, min_samples_leaf=1, min_samples_split=5; total time=   0.0s\n",
      "[CV] END max_depth=20, min_samples_leaf=1, min_samples_split=5; total time=   0.0s\n",
      "[CV] END max_depth=20, min_samples_leaf=1, min_samples_split=5; total time=   0.0s\n",
      "[CV] END max_depth=20, min_samples_leaf=1, min_samples_split=5; total time=   0.0s\n",
      "[CV] END max_depth=20, min_samples_leaf=1, min_samples_split=5; total time=   0.0s\n",
      "[CV] END max_depth=20, min_samples_leaf=1, min_samples_split=7; total time=   0.0s\n",
      "[CV] END max_depth=20, min_samples_leaf=1, min_samples_split=7; total time=   0.0s\n",
      "[CV] END max_depth=20, min_samples_leaf=1, min_samples_split=7; total time=   0.0s\n",
      "[CV] END max_depth=20, min_samples_leaf=1, min_samples_split=7; total time=   0.0s\n",
      "[CV] END max_depth=20, min_samples_leaf=1, min_samples_split=7; total time=   0.0s\n",
      "[CV] END max_depth=20, min_samples_leaf=1, min_samples_split=10; total time=   0.0s\n",
      "[CV] END max_depth=20, min_samples_leaf=1, min_samples_split=10; total time=   0.0s\n",
      "[CV] END max_depth=20, min_samples_leaf=1, min_samples_split=10; total time=   0.0s\n",
      "[CV] END max_depth=20, min_samples_leaf=1, min_samples_split=10; total time=   0.0s\n",
      "[CV] END max_depth=20, min_samples_leaf=1, min_samples_split=10; total time=   0.0s\n",
      "[CV] END max_depth=20, min_samples_leaf=2, min_samples_split=2; total time=   0.0s\n",
      "[CV] END max_depth=20, min_samples_leaf=2, min_samples_split=2; total time=   0.0s\n",
      "[CV] END max_depth=20, min_samples_leaf=2, min_samples_split=2; total time=   0.0s\n",
      "[CV] END max_depth=20, min_samples_leaf=2, min_samples_split=2; total time=   0.0s\n",
      "[CV] END max_depth=20, min_samples_leaf=2, min_samples_split=2; total time=   0.0s\n",
      "[CV] END max_depth=20, min_samples_leaf=2, min_samples_split=5; total time=   0.0s\n",
      "[CV] END max_depth=20, min_samples_leaf=2, min_samples_split=5; total time=   0.0s\n",
      "[CV] END max_depth=20, min_samples_leaf=2, min_samples_split=5; total time=   0.0s\n",
      "[CV] END max_depth=20, min_samples_leaf=2, min_samples_split=5; total time=   0.0s\n",
      "[CV] END max_depth=20, min_samples_leaf=2, min_samples_split=5; total time=   0.0s\n",
      "[CV] END max_depth=20, min_samples_leaf=2, min_samples_split=7; total time=   0.0s\n",
      "[CV] END max_depth=20, min_samples_leaf=2, min_samples_split=7; total time=   0.0s\n",
      "[CV] END max_depth=20, min_samples_leaf=2, min_samples_split=7; total time=   0.0s\n",
      "[CV] END max_depth=20, min_samples_leaf=2, min_samples_split=7; total time=   0.0s\n",
      "[CV] END max_depth=20, min_samples_leaf=2, min_samples_split=7; total time=   0.0s\n",
      "[CV] END max_depth=20, min_samples_leaf=2, min_samples_split=10; total time=   0.0s\n",
      "[CV] END max_depth=20, min_samples_leaf=2, min_samples_split=10; total time=   0.0s\n",
      "[CV] END max_depth=20, min_samples_leaf=2, min_samples_split=10; total time=   0.0s\n",
      "[CV] END max_depth=20, min_samples_leaf=2, min_samples_split=10; total time=   0.0s\n",
      "[CV] END max_depth=20, min_samples_leaf=2, min_samples_split=10; total time=   0.0s\n",
      "[CV] END max_depth=20, min_samples_leaf=5, min_samples_split=2; total time=   0.0s\n",
      "[CV] END max_depth=20, min_samples_leaf=5, min_samples_split=2; total time=   0.0s\n",
      "[CV] END max_depth=20, min_samples_leaf=5, min_samples_split=2; total time=   0.0s\n",
      "[CV] END max_depth=20, min_samples_leaf=5, min_samples_split=2; total time=   0.0s\n",
      "[CV] END max_depth=20, min_samples_leaf=5, min_samples_split=2; total time=   0.0s\n",
      "[CV] END max_depth=20, min_samples_leaf=5, min_samples_split=5; total time=   0.0s\n",
      "[CV] END max_depth=20, min_samples_leaf=5, min_samples_split=5; total time=   0.0s\n",
      "[CV] END max_depth=20, min_samples_leaf=5, min_samples_split=5; total time=   0.0s\n",
      "[CV] END max_depth=20, min_samples_leaf=5, min_samples_split=5; total time=   0.0s\n",
      "[CV] END max_depth=20, min_samples_leaf=5, min_samples_split=5; total time=   0.0s\n",
      "[CV] END max_depth=20, min_samples_leaf=5, min_samples_split=7; total time=   0.0s\n",
      "[CV] END max_depth=20, min_samples_leaf=5, min_samples_split=7; total time=   0.0s\n",
      "[CV] END max_depth=20, min_samples_leaf=5, min_samples_split=7; total time=   0.0s\n",
      "[CV] END max_depth=20, min_samples_leaf=5, min_samples_split=7; total time=   0.0s\n",
      "[CV] END max_depth=20, min_samples_leaf=5, min_samples_split=7; total time=   0.0s\n",
      "[CV] END max_depth=20, min_samples_leaf=5, min_samples_split=10; total time=   0.0s\n",
      "[CV] END max_depth=20, min_samples_leaf=5, min_samples_split=10; total time=   0.0s\n",
      "[CV] END max_depth=20, min_samples_leaf=5, min_samples_split=10; total time=   0.0s\n",
      "[CV] END max_depth=20, min_samples_leaf=5, min_samples_split=10; total time=   0.0s\n",
      "[CV] END max_depth=20, min_samples_leaf=5, min_samples_split=10; total time=   0.0s\n",
      "[CV] END max_depth=None, min_samples_leaf=1, min_samples_split=2; total time=   0.0s\n",
      "[CV] END max_depth=None, min_samples_leaf=1, min_samples_split=2; total time=   0.0s\n",
      "[CV] END max_depth=None, min_samples_leaf=1, min_samples_split=2; total time=   0.0s\n",
      "[CV] END max_depth=None, min_samples_leaf=1, min_samples_split=2; total time=   0.0s\n",
      "[CV] END max_depth=None, min_samples_leaf=1, min_samples_split=2; total time=   0.0s\n",
      "[CV] END max_depth=None, min_samples_leaf=1, min_samples_split=5; total time=   0.0s\n",
      "[CV] END max_depth=None, min_samples_leaf=1, min_samples_split=5; total time=   0.0s\n",
      "[CV] END max_depth=None, min_samples_leaf=1, min_samples_split=5; total time=   0.0s\n",
      "[CV] END max_depth=None, min_samples_leaf=1, min_samples_split=5; total time=   0.0s\n",
      "[CV] END max_depth=None, min_samples_leaf=1, min_samples_split=5; total time=   0.0s\n",
      "[CV] END max_depth=None, min_samples_leaf=1, min_samples_split=7; total time=   0.0s\n",
      "[CV] END max_depth=None, min_samples_leaf=1, min_samples_split=7; total time=   0.0s\n",
      "[CV] END max_depth=None, min_samples_leaf=1, min_samples_split=7; total time=   0.0s\n",
      "[CV] END max_depth=None, min_samples_leaf=1, min_samples_split=7; total time=   0.0s\n",
      "[CV] END max_depth=None, min_samples_leaf=1, min_samples_split=7; total time=   0.0s\n",
      "[CV] END max_depth=None, min_samples_leaf=1, min_samples_split=10; total time=   0.0s\n",
      "[CV] END max_depth=None, min_samples_leaf=1, min_samples_split=10; total time=   0.0s\n",
      "[CV] END max_depth=None, min_samples_leaf=1, min_samples_split=10; total time=   0.0s\n",
      "[CV] END max_depth=None, min_samples_leaf=1, min_samples_split=10; total time=   0.0s\n",
      "[CV] END max_depth=None, min_samples_leaf=1, min_samples_split=10; total time=   0.0s\n",
      "[CV] END max_depth=None, min_samples_leaf=2, min_samples_split=2; total time=   0.0s\n",
      "[CV] END max_depth=None, min_samples_leaf=2, min_samples_split=2; total time=   0.0s\n",
      "[CV] END max_depth=None, min_samples_leaf=2, min_samples_split=2; total time=   0.0s\n",
      "[CV] END max_depth=None, min_samples_leaf=2, min_samples_split=2; total time=   0.0s\n",
      "[CV] END max_depth=None, min_samples_leaf=2, min_samples_split=2; total time=   0.0s\n",
      "[CV] END max_depth=None, min_samples_leaf=2, min_samples_split=5; total time=   0.0s\n",
      "[CV] END max_depth=None, min_samples_leaf=2, min_samples_split=5; total time=   0.0s\n",
      "[CV] END max_depth=None, min_samples_leaf=2, min_samples_split=5; total time=   0.0s\n",
      "[CV] END max_depth=None, min_samples_leaf=2, min_samples_split=5; total time=   0.0s\n",
      "[CV] END max_depth=None, min_samples_leaf=2, min_samples_split=5; total time=   0.0s\n",
      "[CV] END max_depth=None, min_samples_leaf=2, min_samples_split=7; total time=   0.0s\n",
      "[CV] END max_depth=None, min_samples_leaf=2, min_samples_split=7; total time=   0.0s\n",
      "[CV] END max_depth=None, min_samples_leaf=2, min_samples_split=7; total time=   0.0s\n",
      "[CV] END max_depth=None, min_samples_leaf=2, min_samples_split=7; total time=   0.0s\n",
      "[CV] END max_depth=None, min_samples_leaf=2, min_samples_split=7; total time=   0.0s\n",
      "[CV] END max_depth=None, min_samples_leaf=2, min_samples_split=10; total time=   0.0s\n",
      "[CV] END max_depth=None, min_samples_leaf=2, min_samples_split=10; total time=   0.0s\n",
      "[CV] END max_depth=None, min_samples_leaf=2, min_samples_split=10; total time=   0.0s\n",
      "[CV] END max_depth=None, min_samples_leaf=2, min_samples_split=10; total time=   0.0s\n",
      "[CV] END max_depth=None, min_samples_leaf=2, min_samples_split=10; total time=   0.0s\n",
      "[CV] END max_depth=None, min_samples_leaf=5, min_samples_split=2; total time=   0.0s\n",
      "[CV] END max_depth=None, min_samples_leaf=5, min_samples_split=2; total time=   0.0s\n",
      "[CV] END max_depth=None, min_samples_leaf=5, min_samples_split=2; total time=   0.0s\n",
      "[CV] END max_depth=None, min_samples_leaf=5, min_samples_split=2; total time=   0.0s\n",
      "[CV] END max_depth=None, min_samples_leaf=5, min_samples_split=2; total time=   0.0s\n",
      "[CV] END max_depth=None, min_samples_leaf=5, min_samples_split=5; total time=   0.0s\n",
      "[CV] END max_depth=None, min_samples_leaf=5, min_samples_split=5; total time=   0.0s\n",
      "[CV] END max_depth=None, min_samples_leaf=5, min_samples_split=5; total time=   0.0s\n",
      "[CV] END max_depth=None, min_samples_leaf=5, min_samples_split=5; total time=   0.0s\n",
      "[CV] END max_depth=None, min_samples_leaf=5, min_samples_split=5; total time=   0.0s\n",
      "[CV] END max_depth=None, min_samples_leaf=5, min_samples_split=7; total time=   0.0s\n",
      "[CV] END max_depth=None, min_samples_leaf=5, min_samples_split=7; total time=   0.0s\n",
      "[CV] END max_depth=None, min_samples_leaf=5, min_samples_split=7; total time=   0.0s\n",
      "[CV] END max_depth=None, min_samples_leaf=5, min_samples_split=7; total time=   0.0s\n",
      "[CV] END max_depth=None, min_samples_leaf=5, min_samples_split=7; total time=   0.0s\n",
      "[CV] END max_depth=None, min_samples_leaf=5, min_samples_split=10; total time=   0.0s\n",
      "[CV] END max_depth=None, min_samples_leaf=5, min_samples_split=10; total time=   0.0s\n",
      "[CV] END max_depth=None, min_samples_leaf=5, min_samples_split=10; total time=   0.0s\n",
      "[CV] END max_depth=None, min_samples_leaf=5, min_samples_split=10; total time=   0.0s\n",
      "[CV] END max_depth=None, min_samples_leaf=5, min_samples_split=10; total time=   0.0s\n"
     ]
    },
    {
     "data": {
      "text/plain": [
       "GridSearchCV(cv=5, estimator=DecisionTreeClassifier(),\n",
       "             param_grid=[{'max_depth': [3, 5, 10, 15, 20, None],\n",
       "                          'min_samples_leaf': [1, 2, 5],\n",
       "                          'min_samples_split': [2, 5, 7, 10]}],\n",
       "             verbose=2)"
      ]
     },
     "execution_count": 198,
     "metadata": {},
     "output_type": "execute_result"
    }
   ],
   "source": [
    "dtc_gcv.fit(x_train_scaled, y_train)"
   ]
  },
  {
   "cell_type": "code",
   "execution_count": 199,
   "id": "ec3d3ad2",
   "metadata": {},
   "outputs": [
    {
     "data": {
      "text/plain": [
       "{'max_depth': 20, 'min_samples_leaf': 2, 'min_samples_split': 2}"
      ]
     },
     "execution_count": 199,
     "metadata": {},
     "output_type": "execute_result"
    }
   ],
   "source": [
    "dtc_gcv.best_params_"
   ]
  },
  {
   "cell_type": "code",
   "execution_count": 200,
   "id": "b6537d38",
   "metadata": {},
   "outputs": [
    {
     "name": "stdout",
     "output_type": "stream",
     "text": [
      "Decision Tree Tuned\n",
      "Accuracy Score :  0.9344262295081968\n",
      "Mean Absolute Error :  0.06557377049180328\n"
     ]
    }
   ],
   "source": [
    "best_dtc_estimator = dtc_gcv.best_estimator_\n",
    "dtc_y_pred = best_dtc_estimator.predict(x_test_scaled)\n",
    "mae = mean_absolute_error(y_test, dtc_y_pred)\n",
    "acc_score2 = accuracy_score(y_test,dtc_y_pred)\n",
    "print('Decision Tree Tuned')\n",
    "print('Accuracy Score : ', acc_score2)\n",
    "print('Mean Absolute Error : ', mae)"
   ]
  },
  {
   "cell_type": "markdown",
   "id": "ce4538d4",
   "metadata": {},
   "source": [
    "<h3> Applying Stratified k-fold sampling to know exact mean cv scores of two best model</h3>"
   ]
  },
  {
   "cell_type": "code",
   "execution_count": 201,
   "id": "34a56f54",
   "metadata": {},
   "outputs": [],
   "source": [
    "from sklearn.model_selection import StratifiedKFold, cross_val_score"
   ]
  },
  {
   "cell_type": "code",
   "execution_count": 202,
   "id": "41523b52",
   "metadata": {},
   "outputs": [],
   "source": [
    "skfold = StratifiedKFold(n_splits = 10, shuffle = True, random_state = 42)"
   ]
  },
  {
   "cell_type": "code",
   "execution_count": 203,
   "id": "02b97b45",
   "metadata": {},
   "outputs": [
    {
     "name": "stdout",
     "output_type": "stream",
     "text": [
      "CV Score of Tuned XGB Classifier : 0.9797\n"
     ]
    }
   ],
   "source": [
    "cv_xgb = cross_val_score(best_xgbc_estimator, x,y,cv = skfold, scoring = 'accuracy').mean()\n",
    "print('CV Score of Tuned XGB Classifier : {:.4f}'.format(cv_xgb))"
   ]
  },
  {
   "cell_type": "code",
   "execution_count": 204,
   "id": "49b40319",
   "metadata": {},
   "outputs": [
    {
     "name": "stdout",
     "output_type": "stream",
     "text": [
      "CV Score of Tuned Decision Tree Classifier : 0.9755\n"
     ]
    }
   ],
   "source": [
    "cv_dtc = cross_val_score(best_dtc_estimator, x,y,cv = skfold, scoring = 'accuracy').mean()\n",
    "print('CV Score of Tuned Decision Tree Classifier : {:.4f}'.format(cv_dtc))"
   ]
  },
  {
   "cell_type": "markdown",
   "id": "d9365fee",
   "metadata": {},
   "source": [
    "# Result - As the Decision Tree Classifier, gives the appropiate accuracy, we will use XGBoost Classifier for our Classification problem statement"
   ]
  },
  {
   "cell_type": "markdown",
   "id": "4ddc706b",
   "metadata": {},
   "source": [
    "<h3> Model Deployment</h3>"
   ]
  },
  {
   "cell_type": "code",
   "execution_count": 205,
   "id": "53894988",
   "metadata": {},
   "outputs": [
    {
     "name": "stdout",
     "output_type": "stream",
     "text": [
      "Final Decision Tree\n",
      "Accuracy Score :  0.9344262295081968\n",
      "Classification Report               precision    recall  f1-score   support\n",
      "\n",
      "           0       0.87      1.00      0.93        26\n",
      "           1       1.00      0.89      0.94        35\n",
      "\n",
      "    accuracy                           0.93        61\n",
      "   macro avg       0.93      0.94      0.93        61\n",
      "weighted avg       0.94      0.93      0.93        61\n",
      "\n"
     ]
    }
   ],
   "source": [
    "dtc_y_pred = best_dtc_estimator.predict(x_test_scaled)\n",
    "acc_score2 = accuracy_score(y_test,dtc_y_pred)\n",
    "cr = classification_report(y_test, dtc_y_pred)\n",
    "print('Final Decision Tree')\n",
    "print('Accuracy Score : ', acc_score2)\n",
    "print('Classification Report' , cr)"
   ]
  },
  {
   "cell_type": "markdown",
   "id": "073230da",
   "metadata": {},
   "source": [
    "- Dumping the model into pickle file"
   ]
  },
  {
   "cell_type": "code",
   "execution_count": 206,
   "id": "c718dc3e",
   "metadata": {},
   "outputs": [],
   "source": [
    "import pickle"
   ]
  },
  {
   "cell_type": "code",
   "execution_count": 207,
   "id": "71c83a5a",
   "metadata": {},
   "outputs": [],
   "source": [
    "pickle.dump(best_dtc_estimator, open('classification.pkl', 'wb'))"
   ]
  },
  {
   "cell_type": "code",
   "execution_count": 208,
   "id": "c4be5553",
   "metadata": {},
   "outputs": [],
   "source": [
    "cf_pickled_model = pickle.load(open('classification.pkl', 'rb'))"
   ]
  },
  {
   "cell_type": "code",
   "execution_count": 209,
   "id": "2e5f1aaa",
   "metadata": {},
   "outputs": [
    {
     "data": {
      "text/plain": [
       "array([1, 1, 1, 1, 1, 1, 0, 1, 1, 1, 0, 1, 1, 1, 0, 0, 0, 0, 1, 0, 1, 1,\n",
       "       0, 0, 1, 0, 1, 0, 0, 0, 1, 0, 0, 1, 1, 0, 0, 1, 1, 0, 1, 0, 0, 0,\n",
       "       0, 0, 0, 1, 0, 0, 1, 1, 0, 0, 1, 0, 1, 1, 0, 1, 1], dtype=int64)"
      ]
     },
     "execution_count": 209,
     "metadata": {},
     "output_type": "execute_result"
    }
   ],
   "source": [
    "cf_pickled_model.predict(x_test_scaled)"
   ]
  }
 ],
 "metadata": {
  "kernelspec": {
   "display_name": "Python 3 (ipykernel)",
   "language": "python",
   "name": "python3"
  },
  "language_info": {
   "codemirror_mode": {
    "name": "ipython",
    "version": 3
   },
   "file_extension": ".py",
   "mimetype": "text/x-python",
   "name": "python",
   "nbconvert_exporter": "python",
   "pygments_lexer": "ipython3",
   "version": "3.7.4"
  }
 },
 "nbformat": 4,
 "nbformat_minor": 5
}
